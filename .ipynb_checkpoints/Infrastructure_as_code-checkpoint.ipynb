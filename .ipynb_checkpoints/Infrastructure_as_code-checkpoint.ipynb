{
 "cells": [
  {
   "cell_type": "markdown",
   "metadata": {},
   "source": [
    "# **Infrastructure as Code**"
   ]
  },
  {
   "cell_type": "code",
   "execution_count": 1,
   "metadata": {},
   "outputs": [],
   "source": [
    "import boto3\n",
    "import configparser\n",
    "import json\n",
    "import pandas as pd\n",
    "import psycopg2"
   ]
  },
  {
   "cell_type": "code",
   "execution_count": 7,
   "metadata": {},
   "outputs": [],
   "source": [
    "config = configparser.ConfigParser()\n",
    "config.read_file(open('/home/wilson/Data_Engineering_NanoDegree/AWS_Keys/dwh.cfg'))\n",
    "\n",
    "# Access AWS\n",
    "KEY = config.get('AWS','KEY') \n",
    "SECRET = config.get('AWS','SECRET') \n",
    "\n",
    "# DATA WARE HOUSE Confi\n",
    "# Cluster\n",
    "CLUSTER_TYPE = config.get('CLUSTER','CLUSTER_TYPE')\n",
    "NUM_NODES = config.get('CLUSTER','NUM_NODES')\n",
    "NODE_TYPE = config.get('CLUSTER','NODE_TYPE')\n",
    "\n",
    "IAM_ROLE_NAME = config.get('CLUSTER','IAM_ROLE_NAME')\n",
    "CLUSTER_IDENTIFIER = config.get('CLUSTER','CLUSTER_IDENTIFIER')\n",
    "\n",
    "HOST = config.get('CLUSTER','host')\n",
    "DB_NAME = config.get('CLUSTER','DB_NAME')\n",
    "DB_USER = config.get('CLUSTER','DB_USER')\n",
    "DB_PASSWORD = config.get('CLUSTER','DB_PASSWORD')\n",
    "DB_PORT = config.get('CLUSTER','DB_PORT')\n",
    "\n",
    "# IAM_ROLE \n",
    "ARN = config.get('IAM_ROLE','ARN')\n",
    "\n",
    "# S3\n",
    "LOG_DATA = config.get('S3','LOG_DATA')\n",
    "LOG_JSONPATH = config.get('S3','LOG_JSONPATH')\n",
    "SONG_DATA = config.get('S3','SONG_DATA')"
   ]
  },
  {
   "cell_type": "code",
   "execution_count": 8,
   "metadata": {},
   "outputs": [],
   "source": [
    "# Clients for EC2, S3, IAM, RedShift\n",
    "ec2 = boto3.resource('ec2',\n",
    "                    region_name='us-west-2',\n",
    "                    aws_access_key_id=KEY,\n",
    "                    aws_secret_access_key=SECRET\n",
    "                    )\n",
    "\n",
    "s3 = boto3.resource('s3',\n",
    "                  region_name='us-west-2',\n",
    "                  aws_access_key_id=KEY,\n",
    "                  aws_secret_access_key=SECRET)\n",
    "\n",
    "iam = boto3.client('iam',\n",
    "                  region_name='us-west-2',\n",
    "                  aws_access_key_id=KEY,\n",
    "                  aws_secret_access_key=SECRET)\n",
    "\n",
    "redshift = boto3.client('redshift',\n",
    "                  region_name='us-west-2',\n",
    "                  aws_access_key_id=KEY,\n",
    "                  aws_secret_access_key=SECRET)"
   ]
  },
  {
   "cell_type": "code",
   "execution_count": 9,
   "metadata": {},
   "outputs": [],
   "source": [
    "#try:\n",
    "#    s3.create_bucket(Bucket='wilson-dend-dwproject',\n",
    "#                 CreateBucketConfiguration={'LocationConstraint': 'us-west-2'})\n",
    "#except:\n",
    "#    pass\n",
    "#\n",
    "#s3.meta.client.upload_file('./SONG_JSONPATH.json', 'wilson-dend-dwproject','song_json_path.json')"
   ]
  },
  {
   "cell_type": "code",
   "execution_count": 10,
   "metadata": {},
   "outputs": [
    {
     "name": "stdout",
     "output_type": "stream",
     "text": [
      "s3://udacity-dend/song-data/\n",
      "s3://udacity-dend/log-data/\n",
      "s3://udacity-dend/log_json_path.json\n"
     ]
    }
   ],
   "source": [
    "# Check Data Set on S3\n",
    "print(SONG_DATA)\n",
    "print(LOG_DATA)\n",
    "print(LOG_JSONPATH)\n"
   ]
  },
  {
   "cell_type": "code",
   "execution_count": 11,
   "metadata": {},
   "outputs": [
    {
     "name": "stdout",
     "output_type": "stream",
     "text": [
      "song_json_path.json\n"
     ]
    }
   ],
   "source": [
    "source_bucket = s3.Bucket('wilson-dend-dwproject')\n",
    "for obj in source_bucket.objects.all():\n",
    "    print(obj.key)"
   ]
  },
  {
   "cell_type": "code",
   "execution_count": 12,
   "metadata": {},
   "outputs": [
    {
     "name": "stdout",
     "output_type": "stream",
     "text": [
      "s3.ObjectSummary(bucket_name='udacity-dend', key='song-data/A/A/A/TRAAAYL128F4271A5B.json')\n"
     ]
    }
   ],
   "source": [
    "source_bucket = s3.Bucket('udacity-dend')\n",
    "for obj in source_bucket.objects.filter(Prefix='song-data/A/A/A/TRAAAY'):\n",
    "    print(obj)"
   ]
  },
  {
   "cell_type": "code",
   "execution_count": 13,
   "metadata": {},
   "outputs": [
    {
     "name": "stdout",
     "output_type": "stream",
     "text": [
      "s3.ObjectSummary(bucket_name='udacity-dend', key='log-data/2018/11/2018-11-01-events.json')\n"
     ]
    }
   ],
   "source": [
    "for obj in source_bucket.objects.filter(Prefix='log-data/2018/11/2018-11-01'):\n",
    "    print(obj)"
   ]
  },
  {
   "cell_type": "markdown",
   "metadata": {},
   "source": [
    "## Create IAM role for Reshift to access S3"
   ]
  },
  {
   "cell_type": "code",
   "execution_count": 14,
   "metadata": {},
   "outputs": [
    {
     "name": "stdout",
     "output_type": "stream",
     "text": [
      "Creating a new IAM Role\n",
      "An error occurred (EntityAlreadyExists) when calling the CreateRole operation: Role with name dwhRole already exists.\n"
     ]
    }
   ],
   "source": [
    "# Create the IAM role for Redshift to access S3\n",
    "try:\n",
    "    print('Creating a new IAM Role')\n",
    "    dwhRole = iam.create_role(Path='/',\n",
    "                             RoleName=IAM_ROLE_NAME,\n",
    "                             Description = \"Allows Redshift clusters to call AWS services on your behalf.\",\n",
    "                             AssumeRolePolicyDocument=json.dumps(\n",
    "                             {'Statement': [{'Action': 'sts:AssumeRole',\n",
    "                                            'Effect': 'Allow',\n",
    "                                            'Principal': {'Service': 'redshift.amazonaws.com'}}],\n",
    "                             'Version':'2012-10-17'}))\n",
    "    \n",
    "\n",
    "except Exception as e:\n",
    "    print(e)"
   ]
  },
  {
   "cell_type": "code",
   "execution_count": 15,
   "metadata": {},
   "outputs": [
    {
     "data": {
      "text/plain": [
       "200"
      ]
     },
     "execution_count": 15,
     "metadata": {},
     "output_type": "execute_result"
    }
   ],
   "source": [
    "# Attach Policy to IAM Role\n",
    "iam.attach_role_policy(RoleName = IAM_ROLE_NAME,\n",
    "                      PolicyArn=\"arn:aws:iam::aws:policy/AmazonS3ReadOnlyAccess\")['ResponseMetadata']['HTTPStatusCode']"
   ]
  },
  {
   "cell_type": "code",
   "execution_count": 16,
   "metadata": {},
   "outputs": [
    {
     "name": "stdout",
     "output_type": "stream",
     "text": [
      "arn:aws:iam::475103112026:role/dwhRole\n"
     ]
    }
   ],
   "source": [
    "# Get IAM role Arn\n",
    "roleArn = iam.get_role(RoleName = IAM_ROLE_NAME)['Role']['Arn']\n",
    "print(roleArn)"
   ]
  },
  {
   "cell_type": "markdown",
   "metadata": {},
   "source": [
    "## Create Redshift Cluster"
   ]
  },
  {
   "cell_type": "code",
   "execution_count": 17,
   "metadata": {},
   "outputs": [],
   "source": [
    "try:\n",
    "    response = redshift.create_cluster(        \n",
    "        # parameters for hardware\n",
    "        ClusterType=CLUSTER_TYPE,\n",
    "        NodeType=NODE_TYPE,\n",
    "        NumberOfNodes=int(NUM_NODES),\n",
    "\n",
    "        # parameters for identifiers & credentials\n",
    "        DBName=DB_NAME,\n",
    "        ClusterIdentifier=CLUSTER_IDENTIFIER,\n",
    "        MasterUsername=DB_USER,\n",
    "        MasterUserPassword=DB_PASSWORD,\n",
    "        \n",
    "        # parameter for role (to allow s3 access)\n",
    "        IamRoles=[roleArn]\n",
    "    )\n",
    "except Exception as e:\n",
    "    print(e)"
   ]
  },
  {
   "cell_type": "code",
   "execution_count": 21,
   "metadata": {},
   "outputs": [
    {
     "data": {
      "text/html": [
       "<div>\n",
       "<style scoped>\n",
       "    .dataframe tbody tr th:only-of-type {\n",
       "        vertical-align: middle;\n",
       "    }\n",
       "\n",
       "    .dataframe tbody tr th {\n",
       "        vertical-align: top;\n",
       "    }\n",
       "\n",
       "    .dataframe thead th {\n",
       "        text-align: right;\n",
       "    }\n",
       "</style>\n",
       "<table border=\"1\" class=\"dataframe\">\n",
       "  <thead>\n",
       "    <tr style=\"text-align: right;\">\n",
       "      <th></th>\n",
       "      <th>Key</th>\n",
       "      <th>Value</th>\n",
       "    </tr>\n",
       "  </thead>\n",
       "  <tbody>\n",
       "    <tr>\n",
       "      <th>0</th>\n",
       "      <td>ClusterIdentifier</td>\n",
       "      <td>dwhcluster</td>\n",
       "    </tr>\n",
       "    <tr>\n",
       "      <th>1</th>\n",
       "      <td>NodeType</td>\n",
       "      <td>dc2.large</td>\n",
       "    </tr>\n",
       "    <tr>\n",
       "      <th>2</th>\n",
       "      <td>ClusterStatus</td>\n",
       "      <td>available</td>\n",
       "    </tr>\n",
       "    <tr>\n",
       "      <th>3</th>\n",
       "      <td>MasterUsername</td>\n",
       "      <td>dwhuser</td>\n",
       "    </tr>\n",
       "    <tr>\n",
       "      <th>4</th>\n",
       "      <td>DBName</td>\n",
       "      <td>dwh</td>\n",
       "    </tr>\n",
       "    <tr>\n",
       "      <th>5</th>\n",
       "      <td>Endpoint</td>\n",
       "      <td>{'Address': 'dwhcluster.cmyptj7fsclo.us-west-2.redshift.amazonaws.com', 'Port': 5439}</td>\n",
       "    </tr>\n",
       "    <tr>\n",
       "      <th>6</th>\n",
       "      <td>VpcId</td>\n",
       "      <td>vpc-8cef5bf4</td>\n",
       "    </tr>\n",
       "    <tr>\n",
       "      <th>7</th>\n",
       "      <td>NumberOfNodes</td>\n",
       "      <td>4</td>\n",
       "    </tr>\n",
       "  </tbody>\n",
       "</table>\n",
       "</div>"
      ],
      "text/plain": [
       "                 Key  \\\n",
       "0  ClusterIdentifier   \n",
       "1  NodeType            \n",
       "2  ClusterStatus       \n",
       "3  MasterUsername      \n",
       "4  DBName              \n",
       "5  Endpoint            \n",
       "6  VpcId               \n",
       "7  NumberOfNodes       \n",
       "\n",
       "                                                                                   Value  \n",
       "0  dwhcluster                                                                             \n",
       "1  dc2.large                                                                              \n",
       "2  available                                                                              \n",
       "3  dwhuser                                                                                \n",
       "4  dwh                                                                                    \n",
       "5  {'Address': 'dwhcluster.cmyptj7fsclo.us-west-2.redshift.amazonaws.com', 'Port': 5439}  \n",
       "6  vpc-8cef5bf4                                                                           \n",
       "7  4                                                                                      "
      ]
     },
     "execution_count": 21,
     "metadata": {},
     "output_type": "execute_result"
    }
   ],
   "source": [
    "def prettyRedshiftProps(props):\n",
    "    pd.set_option('display.max_colwidth', -1)\n",
    "    keysToShow = [\"ClusterIdentifier\", \"NodeType\", \"ClusterStatus\", \"MasterUsername\", \"DBName\", \"Endpoint\", \"NumberOfNodes\", 'VpcId']\n",
    "    x = [(k, v) for k,v in props.items() if k in keysToShow]\n",
    "    return pd.DataFrame(data=x, columns=[\"Key\", \"Value\"])\n",
    "\n",
    "myClusterProps = redshift.describe_clusters(ClusterIdentifier=CLUSTER_IDENTIFIER)['Clusters'][0]\n",
    "prettyRedshiftProps(myClusterProps)"
   ]
  },
  {
   "cell_type": "markdown",
   "metadata": {},
   "source": [
    "## Notes for ARN and DB ENDPOINT"
   ]
  },
  {
   "cell_type": "code",
   "execution_count": 22,
   "metadata": {},
   "outputs": [
    {
     "name": "stdout",
     "output_type": "stream",
     "text": [
      "DWH_ENDPOINT ::  dwhcluster.cmyptj7fsclo.us-west-2.redshift.amazonaws.com\n",
      "DWH_ROLE_ARN ::  arn:aws:iam::475103112026:role/dwhRole\n"
     ]
    }
   ],
   "source": [
    "ENDPOINT = myClusterProps['Endpoint']['Address']\n",
    "ROLE_ARN = myClusterProps['IamRoles'][0]['IamRoleArn']\n",
    "print(\"DWH_ENDPOINT :: \", ENDPOINT)\n",
    "print(\"DWH_ROLE_ARN :: \", ROLE_ARN)"
   ]
  },
  {
   "cell_type": "code",
   "execution_count": 37,
   "metadata": {},
   "outputs": [
    {
     "data": {
      "text/plain": [
       "{'Cluster': {'ClusterIdentifier': 'dwhcluster',\n",
       "  'NodeType': 'dc2.large',\n",
       "  'ClusterStatus': 'deleting',\n",
       "  'MasterUsername': 'dwhuser',\n",
       "  'DBName': 'dwh',\n",
       "  'Endpoint': {'Address': 'dwhcluster.cmyptj7fsclo.us-west-2.redshift.amazonaws.com',\n",
       "   'Port': 5439},\n",
       "  'ClusterCreateTime': datetime.datetime(2019, 6, 29, 4, 48, 15, 364000, tzinfo=tzutc()),\n",
       "  'AutomatedSnapshotRetentionPeriod': 1,\n",
       "  'ManualSnapshotRetentionPeriod': -1,\n",
       "  'ClusterSecurityGroups': [],\n",
       "  'VpcSecurityGroups': [{'VpcSecurityGroupId': 'sg-719d7b3d',\n",
       "    'Status': 'active'}],\n",
       "  'ClusterParameterGroups': [{'ParameterGroupName': 'default.redshift-1.0',\n",
       "    'ParameterApplyStatus': 'in-sync'}],\n",
       "  'ClusterSubnetGroupName': 'default',\n",
       "  'VpcId': 'vpc-8cef5bf4',\n",
       "  'AvailabilityZone': 'us-west-2c',\n",
       "  'PreferredMaintenanceWindow': 'sat:07:30-sat:08:00',\n",
       "  'PendingModifiedValues': {},\n",
       "  'ClusterVersion': '1.0',\n",
       "  'AllowVersionUpgrade': True,\n",
       "  'NumberOfNodes': 4,\n",
       "  'PubliclyAccessible': True,\n",
       "  'Encrypted': False,\n",
       "  'Tags': [],\n",
       "  'EnhancedVpcRouting': False,\n",
       "  'IamRoles': [{'IamRoleArn': 'arn:aws:iam::475103112026:role/dwhRole',\n",
       "    'ApplyStatus': 'in-sync'}],\n",
       "  'MaintenanceTrackName': 'current',\n",
       "  'DeferredMaintenanceWindows': []},\n",
       " 'ResponseMetadata': {'RequestId': '7764c0d2-9a30-11e9-bb96-2d6375fec544',\n",
       "  'HTTPStatusCode': 200,\n",
       "  'HTTPHeaders': {'x-amzn-requestid': '7764c0d2-9a30-11e9-bb96-2d6375fec544',\n",
       "   'content-type': 'text/xml',\n",
       "   'content-length': '2290',\n",
       "   'vary': 'Accept-Encoding',\n",
       "   'date': 'Sat, 29 Jun 2019 05:40:55 GMT'},\n",
       "  'RetryAttempts': 0}}"
      ]
     },
     "execution_count": 37,
     "metadata": {},
     "output_type": "execute_result"
    }
   ],
   "source": [
    "#### CAREFUL!!\n",
    "#-- Uncomment & run to delete the created resources\n",
    "redshift.delete_cluster( ClusterIdentifier=CLUSTER_IDENTIFIER,  SkipFinalClusterSnapshot=True)\n",
    "#### CAREFUL!!"
   ]
  },
  {
   "cell_type": "code",
   "execution_count": 208,
   "metadata": {},
   "outputs": [
    {
     "data": {
      "text/plain": [
       "{'ResponseMetadata': {'RequestId': 'bdcc7081-99f5-11e9-9b33-4594c05a13ca',\n",
       "  'HTTPStatusCode': 200,\n",
       "  'HTTPHeaders': {'x-amzn-requestid': 'bdcc7081-99f5-11e9-9b33-4594c05a13ca',\n",
       "   'content-type': 'text/xml',\n",
       "   'content-length': '200',\n",
       "   'date': 'Fri, 28 Jun 2019 22:40:33 GMT'},\n",
       "  'RetryAttempts': 0}}"
      ]
     },
     "execution_count": 208,
     "metadata": {},
     "output_type": "execute_result"
    }
   ],
   "source": [
    "# Delete IAM role\n",
    "iam.detach_role_policy(RoleName=IAM_ROLE_NAME, PolicyArn=\"arn:aws:iam::aws:policy/AmazonS3ReadOnlyAccess\")\n",
    "iam.delete_role(RoleName = IAM_ROLE_NAME)"
   ]
  },
  {
   "cell_type": "markdown",
   "metadata": {},
   "source": [
    "## RedShift Interface"
   ]
  },
  {
   "cell_type": "code",
   "execution_count": 32,
   "metadata": {},
   "outputs": [],
   "source": [
    "try:\n",
    "    conn = psycopg2.connect(\"host={} dbname={} user={} password={} port={}\".format(HOST,DB_NAME,DB_USER,DB_PASSWORD,DB_PORT))\n",
    "    cur = conn.cursor()\n",
    "    conn.set_session(autocommit=True)\n",
    "except psycopg2.Error as e: \n",
    "    print(e)"
   ]
  },
  {
   "cell_type": "code",
   "execution_count": 33,
   "metadata": {},
   "outputs": [],
   "source": [
    "stl_load_errors_cols = ['userid','slice','tbl','starttime','session','query','filename','line_number','colname','type','col_length','position','raw_line','raw_field_value','err_code','err_reason'\n",
    "]"
   ]
  },
  {
   "cell_type": "code",
   "execution_count": 34,
   "metadata": {},
   "outputs": [],
   "source": [
    "query = \"SELECT * FROM stl_load_errors\"\n",
    "cur.execute(query)\n",
    "row = cur.fetchall()"
   ]
  },
  {
   "cell_type": "code",
   "execution_count": 35,
   "metadata": {},
   "outputs": [
    {
     "data": {
      "text/html": [
       "<div>\n",
       "<style scoped>\n",
       "    .dataframe tbody tr th:only-of-type {\n",
       "        vertical-align: middle;\n",
       "    }\n",
       "\n",
       "    .dataframe tbody tr th {\n",
       "        vertical-align: top;\n",
       "    }\n",
       "\n",
       "    .dataframe thead th {\n",
       "        text-align: right;\n",
       "    }\n",
       "</style>\n",
       "<table border=\"1\" class=\"dataframe\">\n",
       "  <thead>\n",
       "    <tr style=\"text-align: right;\">\n",
       "      <th></th>\n",
       "      <th>userid</th>\n",
       "      <th>slice</th>\n",
       "      <th>tbl</th>\n",
       "      <th>starttime</th>\n",
       "      <th>session</th>\n",
       "      <th>query</th>\n",
       "      <th>filename</th>\n",
       "      <th>line_number</th>\n",
       "      <th>colname</th>\n",
       "      <th>type</th>\n",
       "      <th>col_length</th>\n",
       "      <th>position</th>\n",
       "      <th>raw_line</th>\n",
       "      <th>raw_field_value</th>\n",
       "      <th>err_code</th>\n",
       "      <th>err_reason</th>\n",
       "    </tr>\n",
       "  </thead>\n",
       "  <tbody>\n",
       "    <tr>\n",
       "      <th>0</th>\n",
       "      <td>100</td>\n",
       "      <td>7</td>\n",
       "      <td>100510</td>\n",
       "      <td>2019-06-29 05:19:21.145460</td>\n",
       "      <td>17125</td>\n",
       "      <td>222</td>\n",
       "      <td>s3://udacity-dend/song-data/C/W/V/TRCWVDW128F425A38A.json</td>\n",
       "      <td>1</td>\n",
       "      <td>artist_name</td>\n",
       "      <td>varchar</td>\n",
       "      <td>256</td>\n",
       "      <td>0</td>\n",
       "      <td>{\"song_id\": \"SOORTJE12A8AE476BD\", \"num_songs\": 1, \"title\": \"Electric Phase\", \"artist_name\": \"Spiritualized;Jason;Jason - Dulcimer/;Kate Radley - Vox continental/Farfisa/Tones/Drones/Tremeloes/;Sean Cook - Wha-monica/;Mark Refoy;Jon Mattock;Icon Hunt;Stuart Gordon;Balanescu Quartet;Rico;Rico - Tam Tam/;Bammie;Tim Sanders;Roddy Lorimar;Steve Sidwell;Chris Sharrack;Caroline Crawley;Marilyn McFarlane;Helen White\", \"artist_latitude\": null, \"year\": 0, \"duration\": 93.75302, \"artist_id\": \"ARVHQMD1269FB25AE7\", \"artist_longitude\": null, \"artist_location\": \"\"}</td>\n",
       "      <td></td>\n",
       "      <td>1204</td>\n",
       "      <td>String length exceeds DDL length</td>\n",
       "    </tr>\n",
       "    <tr>\n",
       "      <th>1</th>\n",
       "      <td>100</td>\n",
       "      <td>7</td>\n",
       "      <td>100556</td>\n",
       "      <td>2019-06-29 05:31:27.504879</td>\n",
       "      <td>18457</td>\n",
       "      <td>303</td>\n",
       "      <td>s3://udacity-dend/song-data/A/Y/F/TRAYFUW128F428F618.json</td>\n",
       "      <td>1</td>\n",
       "      <td>artist_location</td>\n",
       "      <td>varchar</td>\n",
       "      <td>256</td>\n",
       "      <td>0</td>\n",
       "      <td>{\"song_id\": \"SORMAXQ12A8C139224\", \"num_songs\": 1, \"title\": \"Landmines\", \"artist_name\": \"St. Vincent\", \"artist_latitude\": 19.40904, \"year\": 2007, \"duration\": 307.53914, \"artist_id\": \"AR0JBXL1187FB52810\", \"artist_longitude\": -99.14977, \"artist_location\": \"ORDER &amp;#039;ACTOR&amp;#039; ON INSOUND: &lt;a href=\\\\\"http://www.insound.com/search/searchmain.jsp?query=st.+vincent+actor\\\\\" target=\\\\\"_blank\\\\\" rel=\\\\\"nofollow\\\\\" onmousedown='UntrustedLink.bootstrap($(this), \\\\\"\\\\\", event)'&gt;http://www.insound.com/search/searchmain.jsp?query=st.+vincent+actor&lt;/a&gt;\"}</td>\n",
       "      <td></td>\n",
       "      <td>1204</td>\n",
       "      <td>String length exceeds DDL length</td>\n",
       "    </tr>\n",
       "    <tr>\n",
       "      <th>2</th>\n",
       "      <td>100</td>\n",
       "      <td>0</td>\n",
       "      <td>100510</td>\n",
       "      <td>2019-06-29 05:19:21.145460</td>\n",
       "      <td>17125</td>\n",
       "      <td>222</td>\n",
       "      <td>s3://udacity-dend/song-data/B/K/O/TRBKOTN128F425A38C.json</td>\n",
       "      <td>1</td>\n",
       "      <td>artist_name</td>\n",
       "      <td>varchar</td>\n",
       "      <td>256</td>\n",
       "      <td>0</td>\n",
       "      <td>{\"song_id\": \"SOCCKQH12A8AE476C3\", \"num_songs\": 1, \"title\": \"Born Never Asked\", \"artist_name\": \"Spiritualized;Jason;Jason - Dulcimer/;Kate Radley - Vox continental/Farfisa/Tones/Drones/Tremeloes/;Sean Cook - Wha-monica/;Mark Refoy;Jon Mattock;Icon Hunt;Stuart Gordon;Balanescu Quartet;Rico;Rico - Tam Tam/;Bammie;Tim Sanders;Roddy Lorimar;Steve Sidwell;Chris Sharrack;Caroline Crawley;Marilyn McFarlane;Helen White\", \"artist_latitude\": null, \"year\": 0, \"duration\": 125.20444, \"artist_id\": \"ARVHQMD1269FB25AE7\", \"artist_longitude\": null, \"artist_location\": \"\"}</td>\n",
       "      <td></td>\n",
       "      <td>1204</td>\n",
       "      <td>String length exceeds DDL length</td>\n",
       "    </tr>\n",
       "    <tr>\n",
       "      <th>3</th>\n",
       "      <td>100</td>\n",
       "      <td>0</td>\n",
       "      <td>100556</td>\n",
       "      <td>2019-06-29 05:31:27.504879</td>\n",
       "      <td>18457</td>\n",
       "      <td>303</td>\n",
       "      <td>s3://udacity-dend/song-data/C/W/V/TRCWVDW128F425A38A.json</td>\n",
       "      <td>1</td>\n",
       "      <td>artist_name</td>\n",
       "      <td>varchar</td>\n",
       "      <td>256</td>\n",
       "      <td>0</td>\n",
       "      <td>{\"song_id\": \"SOORTJE12A8AE476BD\", \"num_songs\": 1, \"title\": \"Electric Phase\", \"artist_name\": \"Spiritualized;Jason;Jason - Dulcimer/;Kate Radley - Vox continental/Farfisa/Tones/Drones/Tremeloes/;Sean Cook - Wha-monica/;Mark Refoy;Jon Mattock;Icon Hunt;Stuart Gordon;Balanescu Quartet;Rico;Rico - Tam Tam/;Bammie;Tim Sanders;Roddy Lorimar;Steve Sidwell;Chris Sharrack;Caroline Crawley;Marilyn McFarlane;Helen White\", \"artist_latitude\": null, \"year\": 0, \"duration\": 93.75302, \"artist_id\": \"ARVHQMD1269FB25AE7\", \"artist_longitude\": null, \"artist_location\": \"\"}</td>\n",
       "      <td></td>\n",
       "      <td>1204</td>\n",
       "      <td>String length exceeds DDL length</td>\n",
       "    </tr>\n",
       "    <tr>\n",
       "      <th>4</th>\n",
       "      <td>100</td>\n",
       "      <td>4</td>\n",
       "      <td>100510</td>\n",
       "      <td>2019-06-29 05:19:21.145460</td>\n",
       "      <td>17125</td>\n",
       "      <td>222</td>\n",
       "      <td>s3://udacity-dend/song-data/A/Y/F/TRAYFUW128F428F618.json</td>\n",
       "      <td>1</td>\n",
       "      <td>artist_location</td>\n",
       "      <td>varchar</td>\n",
       "      <td>256</td>\n",
       "      <td>0</td>\n",
       "      <td>{\"song_id\": \"SORMAXQ12A8C139224\", \"num_songs\": 1, \"title\": \"Landmines\", \"artist_name\": \"St. Vincent\", \"artist_latitude\": 19.40904, \"year\": 2007, \"duration\": 307.53914, \"artist_id\": \"AR0JBXL1187FB52810\", \"artist_longitude\": -99.14977, \"artist_location\": \"ORDER &amp;#039;ACTOR&amp;#039; ON INSOUND: &lt;a href=\\\\\"http://www.insound.com/search/searchmain.jsp?query=st.+vincent+actor\\\\\" target=\\\\\"_blank\\\\\" rel=\\\\\"nofollow\\\\\" onmousedown='UntrustedLink.bootstrap($(this), \\\\\"\\\\\", event)'&gt;http://www.insound.com/search/searchmain.jsp?query=st.+vincent+actor&lt;/a&gt;\"}</td>\n",
       "      <td></td>\n",
       "      <td>1204</td>\n",
       "      <td>String length exceeds DDL length</td>\n",
       "    </tr>\n",
       "    <tr>\n",
       "      <th>5</th>\n",
       "      <td>100</td>\n",
       "      <td>4</td>\n",
       "      <td>100556</td>\n",
       "      <td>2019-06-29 05:31:27.504879</td>\n",
       "      <td>18457</td>\n",
       "      <td>303</td>\n",
       "      <td>s3://udacity-dend/song-data/C/A/R/TRCARJQ128F425A389.json</td>\n",
       "      <td>1</td>\n",
       "      <td>artist_name</td>\n",
       "      <td>varchar</td>\n",
       "      <td>256</td>\n",
       "      <td>0</td>\n",
       "      <td>{\"song_id\": \"SOLAUEC12A8AE476BB\", \"num_songs\": 1, \"title\": \"Medication\", \"artist_name\": \"Spiritualized;Jason;Jason - Dulcimer/;Kate Radley - Vox continental/Farfisa/Tones/Drones/Tremeloes/;Sean Cook - Wha-monica/;Mark Refoy;Jon Mattock;Icon Hunt;Stuart Gordon;Balanescu Quartet;Rico;Rico - Tam Tam/;Bammie;Tim Sanders;Roddy Lorimar;Steve Sidwell;Chris Sharrack;Caroline Crawley;Marilyn McFarlane;Helen White\", \"artist_latitude\": null, \"year\": 0, \"duration\": 498.72934, \"artist_id\": \"ARVHQMD1269FB25AE7\", \"artist_longitude\": null, \"artist_location\": \"\"}</td>\n",
       "      <td></td>\n",
       "      <td>1204</td>\n",
       "      <td>String length exceeds DDL length</td>\n",
       "    </tr>\n",
       "    <tr>\n",
       "      <th>6</th>\n",
       "      <td>100</td>\n",
       "      <td>3</td>\n",
       "      <td>100510</td>\n",
       "      <td>2019-06-29 05:19:21.145460</td>\n",
       "      <td>17125</td>\n",
       "      <td>222</td>\n",
       "      <td>s3://udacity-dend/song-data/C/A/R/TRCARJQ128F425A389.json</td>\n",
       "      <td>1</td>\n",
       "      <td>artist_name</td>\n",
       "      <td>varchar</td>\n",
       "      <td>256</td>\n",
       "      <td>0</td>\n",
       "      <td>{\"song_id\": \"SOLAUEC12A8AE476BB\", \"num_songs\": 1, \"title\": \"Medication\", \"artist_name\": \"Spiritualized;Jason;Jason - Dulcimer/;Kate Radley - Vox continental/Farfisa/Tones/Drones/Tremeloes/;Sean Cook - Wha-monica/;Mark Refoy;Jon Mattock;Icon Hunt;Stuart Gordon;Balanescu Quartet;Rico;Rico - Tam Tam/;Bammie;Tim Sanders;Roddy Lorimar;Steve Sidwell;Chris Sharrack;Caroline Crawley;Marilyn McFarlane;Helen White\", \"artist_latitude\": null, \"year\": 0, \"duration\": 498.72934, \"artist_id\": \"ARVHQMD1269FB25AE7\", \"artist_longitude\": null, \"artist_location\": \"\"}</td>\n",
       "      <td></td>\n",
       "      <td>1204</td>\n",
       "      <td>String length exceeds DDL length</td>\n",
       "    </tr>\n",
       "    <tr>\n",
       "      <th>7</th>\n",
       "      <td>100</td>\n",
       "      <td>3</td>\n",
       "      <td>100556</td>\n",
       "      <td>2019-06-29 05:31:27.504879</td>\n",
       "      <td>18457</td>\n",
       "      <td>303</td>\n",
       "      <td>s3://udacity-dend/song-data/B/K/O/TRBKOTN128F425A38C.json</td>\n",
       "      <td>1</td>\n",
       "      <td>artist_name</td>\n",
       "      <td>varchar</td>\n",
       "      <td>256</td>\n",
       "      <td>0</td>\n",
       "      <td>{\"song_id\": \"SOCCKQH12A8AE476C3\", \"num_songs\": 1, \"title\": \"Born Never Asked\", \"artist_name\": \"Spiritualized;Jason;Jason - Dulcimer/;Kate Radley - Vox continental/Farfisa/Tones/Drones/Tremeloes/;Sean Cook - Wha-monica/;Mark Refoy;Jon Mattock;Icon Hunt;Stuart Gordon;Balanescu Quartet;Rico;Rico - Tam Tam/;Bammie;Tim Sanders;Roddy Lorimar;Steve Sidwell;Chris Sharrack;Caroline Crawley;Marilyn McFarlane;Helen White\", \"artist_latitude\": null, \"year\": 0, \"duration\": 125.20444, \"artist_id\": \"ARVHQMD1269FB25AE7\", \"artist_longitude\": null, \"artist_location\": \"\"}</td>\n",
       "      <td></td>\n",
       "      <td>1204</td>\n",
       "      <td>String length exceeds DDL length</td>\n",
       "    </tr>\n",
       "  </tbody>\n",
       "</table>\n",
       "</div>"
      ],
      "text/plain": [
       "   userid  slice     tbl                  starttime  session  query  \\\n",
       "0  100     7      100510 2019-06-29 05:19:21.145460  17125    222     \n",
       "1  100     7      100556 2019-06-29 05:31:27.504879  18457    303     \n",
       "2  100     0      100510 2019-06-29 05:19:21.145460  17125    222     \n",
       "3  100     0      100556 2019-06-29 05:31:27.504879  18457    303     \n",
       "4  100     4      100510 2019-06-29 05:19:21.145460  17125    222     \n",
       "5  100     4      100556 2019-06-29 05:31:27.504879  18457    303     \n",
       "6  100     3      100510 2019-06-29 05:19:21.145460  17125    222     \n",
       "7  100     3      100556 2019-06-29 05:31:27.504879  18457    303     \n",
       "\n",
       "                                                                                                                                                                                                                                                           filename  \\\n",
       "0  s3://udacity-dend/song-data/C/W/V/TRCWVDW128F425A38A.json                                                                                                                                                                                                          \n",
       "1  s3://udacity-dend/song-data/A/Y/F/TRAYFUW128F428F618.json                                                                                                                                                                                                          \n",
       "2  s3://udacity-dend/song-data/B/K/O/TRBKOTN128F425A38C.json                                                                                                                                                                                                          \n",
       "3  s3://udacity-dend/song-data/C/W/V/TRCWVDW128F425A38A.json                                                                                                                                                                                                          \n",
       "4  s3://udacity-dend/song-data/A/Y/F/TRAYFUW128F428F618.json                                                                                                                                                                                                          \n",
       "5  s3://udacity-dend/song-data/C/A/R/TRCARJQ128F425A389.json                                                                                                                                                                                                          \n",
       "6  s3://udacity-dend/song-data/C/A/R/TRCARJQ128F425A389.json                                                                                                                                                                                                          \n",
       "7  s3://udacity-dend/song-data/B/K/O/TRBKOTN128F425A38C.json                                                                                                                                                                                                          \n",
       "\n",
       "   line_number  \\\n",
       "0  1             \n",
       "1  1             \n",
       "2  1             \n",
       "3  1             \n",
       "4  1             \n",
       "5  1             \n",
       "6  1             \n",
       "7  1             \n",
       "\n",
       "                                                                                                                           colname  \\\n",
       "0  artist_name                                                                                                                       \n",
       "1  artist_location                                                                                                                   \n",
       "2  artist_name                                                                                                                       \n",
       "3  artist_name                                                                                                                       \n",
       "4  artist_location                                                                                                                   \n",
       "5  artist_name                                                                                                                       \n",
       "6  artist_name                                                                                                                       \n",
       "7  artist_name                                                                                                                       \n",
       "\n",
       "         type  col_length  position  \\\n",
       "0  varchar     256         0          \n",
       "1  varchar     256         0          \n",
       "2  varchar     256         0          \n",
       "3  varchar     256         0          \n",
       "4  varchar     256         0          \n",
       "5  varchar     256         0          \n",
       "6  varchar     256         0          \n",
       "7  varchar     256         0          \n",
       "\n",
       "                                                                                                                                                                                                                                                                                                                                                                                                                                                                                                                                                                                                                                                                                                                                                                                                                                                                                                                                                                                                                                                           raw_line  \\\n",
       "0  {\"song_id\": \"SOORTJE12A8AE476BD\", \"num_songs\": 1, \"title\": \"Electric Phase\", \"artist_name\": \"Spiritualized;Jason;Jason - Dulcimer/;Kate Radley - Vox continental/Farfisa/Tones/Drones/Tremeloes/;Sean Cook - Wha-monica/;Mark Refoy;Jon Mattock;Icon Hunt;Stuart Gordon;Balanescu Quartet;Rico;Rico - Tam Tam/;Bammie;Tim Sanders;Roddy Lorimar;Steve Sidwell;Chris Sharrack;Caroline Crawley;Marilyn McFarlane;Helen White\", \"artist_latitude\": null, \"year\": 0, \"duration\": 93.75302, \"artist_id\": \"ARVHQMD1269FB25AE7\", \"artist_longitude\": null, \"artist_location\": \"\"}                                                                                                                                                                                                                                                                                                                                                                                                                                                                                        \n",
       "1  {\"song_id\": \"SORMAXQ12A8C139224\", \"num_songs\": 1, \"title\": \"Landmines\", \"artist_name\": \"St. Vincent\", \"artist_latitude\": 19.40904, \"year\": 2007, \"duration\": 307.53914, \"artist_id\": \"AR0JBXL1187FB52810\", \"artist_longitude\": -99.14977, \"artist_location\": \"ORDER &#039;ACTOR&#039; ON INSOUND: <a href=\\\\\"http://www.insound.com/search/searchmain.jsp?query=st.+vincent+actor\\\\\" target=\\\\\"_blank\\\\\" rel=\\\\\"nofollow\\\\\" onmousedown='UntrustedLink.bootstrap($(this), \\\\\"\\\\\", event)'>http://www.insound.com/search/searchmain.jsp?query=st.+vincent+actor</a>\"}                                                                                                                                                                                                                                                                                                                                                                                                                                                                                               \n",
       "2  {\"song_id\": \"SOCCKQH12A8AE476C3\", \"num_songs\": 1, \"title\": \"Born Never Asked\", \"artist_name\": \"Spiritualized;Jason;Jason - Dulcimer/;Kate Radley - Vox continental/Farfisa/Tones/Drones/Tremeloes/;Sean Cook - Wha-monica/;Mark Refoy;Jon Mattock;Icon Hunt;Stuart Gordon;Balanescu Quartet;Rico;Rico - Tam Tam/;Bammie;Tim Sanders;Roddy Lorimar;Steve Sidwell;Chris Sharrack;Caroline Crawley;Marilyn McFarlane;Helen White\", \"artist_latitude\": null, \"year\": 0, \"duration\": 125.20444, \"artist_id\": \"ARVHQMD1269FB25AE7\", \"artist_longitude\": null, \"artist_location\": \"\"}                                                                                                                                                                                                                                                                                                                                                                                                                                                                                     \n",
       "3  {\"song_id\": \"SOORTJE12A8AE476BD\", \"num_songs\": 1, \"title\": \"Electric Phase\", \"artist_name\": \"Spiritualized;Jason;Jason - Dulcimer/;Kate Radley - Vox continental/Farfisa/Tones/Drones/Tremeloes/;Sean Cook - Wha-monica/;Mark Refoy;Jon Mattock;Icon Hunt;Stuart Gordon;Balanescu Quartet;Rico;Rico - Tam Tam/;Bammie;Tim Sanders;Roddy Lorimar;Steve Sidwell;Chris Sharrack;Caroline Crawley;Marilyn McFarlane;Helen White\", \"artist_latitude\": null, \"year\": 0, \"duration\": 93.75302, \"artist_id\": \"ARVHQMD1269FB25AE7\", \"artist_longitude\": null, \"artist_location\": \"\"}                                                                                                                                                                                                                                                                                                                                                                                                                                                                                        \n",
       "4  {\"song_id\": \"SORMAXQ12A8C139224\", \"num_songs\": 1, \"title\": \"Landmines\", \"artist_name\": \"St. Vincent\", \"artist_latitude\": 19.40904, \"year\": 2007, \"duration\": 307.53914, \"artist_id\": \"AR0JBXL1187FB52810\", \"artist_longitude\": -99.14977, \"artist_location\": \"ORDER &#039;ACTOR&#039; ON INSOUND: <a href=\\\\\"http://www.insound.com/search/searchmain.jsp?query=st.+vincent+actor\\\\\" target=\\\\\"_blank\\\\\" rel=\\\\\"nofollow\\\\\" onmousedown='UntrustedLink.bootstrap($(this), \\\\\"\\\\\", event)'>http://www.insound.com/search/searchmain.jsp?query=st.+vincent+actor</a>\"}                                                                                                                                                                                                                                                                                                                                                                                                                                                                                               \n",
       "5  {\"song_id\": \"SOLAUEC12A8AE476BB\", \"num_songs\": 1, \"title\": \"Medication\", \"artist_name\": \"Spiritualized;Jason;Jason - Dulcimer/;Kate Radley - Vox continental/Farfisa/Tones/Drones/Tremeloes/;Sean Cook - Wha-monica/;Mark Refoy;Jon Mattock;Icon Hunt;Stuart Gordon;Balanescu Quartet;Rico;Rico - Tam Tam/;Bammie;Tim Sanders;Roddy Lorimar;Steve Sidwell;Chris Sharrack;Caroline Crawley;Marilyn McFarlane;Helen White\", \"artist_latitude\": null, \"year\": 0, \"duration\": 498.72934, \"artist_id\": \"ARVHQMD1269FB25AE7\", \"artist_longitude\": null, \"artist_location\": \"\"}                                                                                                                                                                                                                                                                                                                                                                                                                                                                                           \n",
       "6  {\"song_id\": \"SOLAUEC12A8AE476BB\", \"num_songs\": 1, \"title\": \"Medication\", \"artist_name\": \"Spiritualized;Jason;Jason - Dulcimer/;Kate Radley - Vox continental/Farfisa/Tones/Drones/Tremeloes/;Sean Cook - Wha-monica/;Mark Refoy;Jon Mattock;Icon Hunt;Stuart Gordon;Balanescu Quartet;Rico;Rico - Tam Tam/;Bammie;Tim Sanders;Roddy Lorimar;Steve Sidwell;Chris Sharrack;Caroline Crawley;Marilyn McFarlane;Helen White\", \"artist_latitude\": null, \"year\": 0, \"duration\": 498.72934, \"artist_id\": \"ARVHQMD1269FB25AE7\", \"artist_longitude\": null, \"artist_location\": \"\"}                                                                                                                                                                                                                                                                                                                                                                                                                                                                                           \n",
       "7  {\"song_id\": \"SOCCKQH12A8AE476C3\", \"num_songs\": 1, \"title\": \"Born Never Asked\", \"artist_name\": \"Spiritualized;Jason;Jason - Dulcimer/;Kate Radley - Vox continental/Farfisa/Tones/Drones/Tremeloes/;Sean Cook - Wha-monica/;Mark Refoy;Jon Mattock;Icon Hunt;Stuart Gordon;Balanescu Quartet;Rico;Rico - Tam Tam/;Bammie;Tim Sanders;Roddy Lorimar;Steve Sidwell;Chris Sharrack;Caroline Crawley;Marilyn McFarlane;Helen White\", \"artist_latitude\": null, \"year\": 0, \"duration\": 125.20444, \"artist_id\": \"ARVHQMD1269FB25AE7\", \"artist_longitude\": null, \"artist_location\": \"\"}                                                                                                                                                                                                                                                                                                                                                                                                                                                                                     \n",
       "\n",
       "                                                                                                                                                                                                                                                                                                                                                                                                                                                                                                                                                                                                                                                                                                                                                                                                                                                                                                                                                                                                                                                    raw_field_value  \\\n",
       "0                                                                                                                                                                                                                                                                                                                                                                                                                                                                                                                                                                                                                                                                                                                                                                                                                                                                                                                                                                                                                                                                     \n",
       "1                                                                                                                                                                                                                                                                                                                                                                                                                                                                                                                                                                                                                                                                                                                                                                                                                                                                                                                                                                                                                                                                     \n",
       "2                                                                                                                                                                                                                                                                                                                                                                                                                                                                                                                                                                                                                                                                                                                                                                                                                                                                                                                                                                                                                                                                     \n",
       "3                                                                                                                                                                                                                                                                                                                                                                                                                                                                                                                                                                                                                                                                                                                                                                                                                                                                                                                                                                                                                                                                     \n",
       "4                                                                                                                                                                                                                                                                                                                                                                                                                                                                                                                                                                                                                                                                                                                                                                                                                                                                                                                                                                                                                                                                     \n",
       "5                                                                                                                                                                                                                                                                                                                                                                                                                                                                                                                                                                                                                                                                                                                                                                                                                                                                                                                                                                                                                                                                     \n",
       "6                                                                                                                                                                                                                                                                                                                                                                                                                                                                                                                                                                                                                                                                                                                                                                                                                                                                                                                                                                                                                                                                     \n",
       "7                                                                                                                                                                                                                                                                                                                                                                                                                                                                                                                                                                                                                                                                                                                                                                                                                                                                                                                                                                                                                                                                     \n",
       "\n",
       "   err_code  \\\n",
       "0  1204       \n",
       "1  1204       \n",
       "2  1204       \n",
       "3  1204       \n",
       "4  1204       \n",
       "5  1204       \n",
       "6  1204       \n",
       "7  1204       \n",
       "\n",
       "                                                                                             err_reason  \n",
       "0  String length exceeds DDL length                                                                      \n",
       "1  String length exceeds DDL length                                                                      \n",
       "2  String length exceeds DDL length                                                                      \n",
       "3  String length exceeds DDL length                                                                      \n",
       "4  String length exceeds DDL length                                                                      \n",
       "5  String length exceeds DDL length                                                                      \n",
       "6  String length exceeds DDL length                                                                      \n",
       "7  String length exceeds DDL length                                                                      "
      ]
     },
     "execution_count": 35,
     "metadata": {},
     "output_type": "execute_result"
    }
   ],
   "source": [
    "pd.DataFrame(row,columns=stl_load_errors_cols)"
   ]
  },
  {
   "cell_type": "code",
   "execution_count": 19,
   "metadata": {},
   "outputs": [
    {
     "name": "stdout",
     "output_type": "stream",
     "text": [
      "[(None, None, None, None, None, None, None, None, None, None)]\n"
     ]
    }
   ],
   "source": [
    "query = \"SELECT * FROM staging_songs WHERE song_id IS NULL\"\n",
    "cur.execute(query)\n",
    "row = cur.fetchall()\n",
    "print(row)"
   ]
  },
  {
   "cell_type": "markdown",
   "metadata": {},
   "source": [
    "**Roll UP** How many Songs is played in each month in 2018?"
   ]
  },
  {
   "cell_type": "code",
   "execution_count": 22,
   "metadata": {},
   "outputs": [
    {
     "name": "stdout",
     "output_type": "stream",
     "text": [
      "[]\n"
     ]
    }
   ],
   "source": [
    "query = \"\"\"\n",
    "SELECT COUNT(*)\n",
    "FROM songPlay p JOIN dimTime t ON p.start_time = t.start_time\n",
    "WHERE t.year = 2018\n",
    "GROUP BY t.month\n",
    "LIMIT 10\"\"\"\n",
    "\n",
    "cur.execute(query)\n",
    "row = cur.fetchall()\n",
    "print(row)"
   ]
  },
  {
   "cell_type": "markdown",
   "metadata": {},
   "source": [
    "**Drill Down** How many song is played in 2018 July's each week?"
   ]
  },
  {
   "cell_type": "code",
   "execution_count": 23,
   "metadata": {},
   "outputs": [
    {
     "ename": "ProgrammingError",
     "evalue": "column p.start_date does not exist\n",
     "output_type": "error",
     "traceback": [
      "\u001b[0;31m---------------------------------------------------------------------------\u001b[0m",
      "\u001b[0;31mProgrammingError\u001b[0m                          Traceback (most recent call last)",
      "\u001b[0;32m<ipython-input-23-c48ef7150b44>\u001b[0m in \u001b[0;36m<module>\u001b[0;34m\u001b[0m\n\u001b[1;32m      5\u001b[0m \u001b[0mHAVING\u001b[0m \u001b[0mt\u001b[0m\u001b[0;34m.\u001b[0m\u001b[0myear\u001b[0m \u001b[0;34m=\u001b[0m \u001b[0;36m2018\u001b[0m \u001b[0mAND\u001b[0m \u001b[0mt\u001b[0m\u001b[0;34m.\u001b[0m\u001b[0mmonth\u001b[0m \u001b[0;34m=\u001b[0m \u001b[0;36m7\u001b[0m\u001b[0;34m\u001b[0m\u001b[0;34m\u001b[0m\u001b[0m\n\u001b[1;32m      6\u001b[0m LIMIT 10\"\"\"\n\u001b[0;32m----> 7\u001b[0;31m \u001b[0mcur\u001b[0m\u001b[0;34m.\u001b[0m\u001b[0mexecute\u001b[0m\u001b[0;34m(\u001b[0m\u001b[0mquery\u001b[0m\u001b[0;34m)\u001b[0m\u001b[0;34m\u001b[0m\u001b[0;34m\u001b[0m\u001b[0m\n\u001b[0m\u001b[1;32m      8\u001b[0m \u001b[0mrow\u001b[0m \u001b[0;34m=\u001b[0m \u001b[0mcur\u001b[0m\u001b[0;34m.\u001b[0m\u001b[0mfetchall\u001b[0m\u001b[0;34m(\u001b[0m\u001b[0;34m)\u001b[0m\u001b[0;34m\u001b[0m\u001b[0;34m\u001b[0m\u001b[0m\n\u001b[1;32m      9\u001b[0m \u001b[0mprint\u001b[0m\u001b[0;34m(\u001b[0m\u001b[0mrow\u001b[0m\u001b[0;34m)\u001b[0m\u001b[0;34m\u001b[0m\u001b[0;34m\u001b[0m\u001b[0m\n",
      "\u001b[0;31mProgrammingError\u001b[0m: column p.start_date does not exist\n"
     ]
    }
   ],
   "source": [
    "query = \"\"\"\n",
    "SELECT COUNT(*)\n",
    "FROM songPlay p JOIN dimTime t ON p.start_time = t.start_time\n",
    "WHERE t.year = 2018 AND t.month = 7\n",
    "GROUP BY t.week\n",
    "LIMIT 10\"\"\"\n",
    "cur.execute(query)\n",
    "row = cur.fetchall()\n",
    "print(row)"
   ]
  },
  {
   "cell_type": "markdown",
   "metadata": {},
   "source": [
    "**Slicing** How many femals are free users?"
   ]
  },
  {
   "cell_type": "code",
   "execution_count": 24,
   "metadata": {},
   "outputs": [
    {
     "name": "stdout",
     "output_type": "stream",
     "text": [
      "[(0,)]\n"
     ]
    }
   ],
   "source": [
    "query = \"\"\"\n",
    "SELECT COUNT(*)\n",
    "FROM songPlay p JOIN dimUser u ON p.user_id = u.user_id\n",
    "WHERE u.gender = 'M' AND u.level = 'free'\n",
    "LIMIT 10\"\"\"\n",
    "cur.execute(query)\n",
    "row = cur.fetchall()\n",
    "print(row)"
   ]
  },
  {
   "cell_type": "markdown",
   "metadata": {},
   "source": [
    "**Dicing** Which song has been listened the most times during Summer(June - August)?"
   ]
  },
  {
   "cell_type": "code",
   "execution_count": 25,
   "metadata": {},
   "outputs": [
    {
     "ename": "ProgrammingError",
     "evalue": "column p.start_date does not exist\n",
     "output_type": "error",
     "traceback": [
      "\u001b[0;31m---------------------------------------------------------------------------\u001b[0m",
      "\u001b[0;31mProgrammingError\u001b[0m                          Traceback (most recent call last)",
      "\u001b[0;32m<ipython-input-25-3c60d2a135d9>\u001b[0m in \u001b[0;36m<module>\u001b[0;34m\u001b[0m\n\u001b[1;32m      5\u001b[0m \u001b[0mHAVING\u001b[0m \u001b[0mt\u001b[0m\u001b[0;34m.\u001b[0m\u001b[0mmonth\u001b[0m \u001b[0;32min\u001b[0m \u001b[0;34m(\u001b[0m\u001b[0;36m6\u001b[0m\u001b[0;34m,\u001b[0m\u001b[0;36m7\u001b[0m\u001b[0;34m,\u001b[0m\u001b[0;36m8\u001b[0m\u001b[0;34m)\u001b[0m\u001b[0;34m\u001b[0m\u001b[0;34m\u001b[0m\u001b[0m\n\u001b[1;32m      6\u001b[0m LIMIT 10\"\"\"\n\u001b[0;32m----> 7\u001b[0;31m \u001b[0mcur\u001b[0m\u001b[0;34m.\u001b[0m\u001b[0mexecute\u001b[0m\u001b[0;34m(\u001b[0m\u001b[0mquery\u001b[0m\u001b[0;34m)\u001b[0m\u001b[0;34m\u001b[0m\u001b[0;34m\u001b[0m\u001b[0m\n\u001b[0m\u001b[1;32m      8\u001b[0m \u001b[0mrow\u001b[0m \u001b[0;34m=\u001b[0m \u001b[0mcur\u001b[0m\u001b[0;34m.\u001b[0m\u001b[0mfetchall\u001b[0m\u001b[0;34m(\u001b[0m\u001b[0;34m)\u001b[0m\u001b[0;34m\u001b[0m\u001b[0;34m\u001b[0m\u001b[0m\n\u001b[1;32m      9\u001b[0m \u001b[0mprint\u001b[0m\u001b[0;34m(\u001b[0m\u001b[0mrow\u001b[0m\u001b[0;34m)\u001b[0m\u001b[0;34m\u001b[0m\u001b[0;34m\u001b[0m\u001b[0m\n",
      "\u001b[0;31mProgrammingError\u001b[0m: column p.start_date does not exist\n"
     ]
    }
   ],
   "source": [
    "query = \"\"\"\n",
    "SELECT COUNT(*)\n",
    "FROM songPlay p JOIN dimTime t ON p.start_time = t.start_time\n",
    "WHERE t.month in (6,7,8)\n",
    "GROUP BY p.song_id\n",
    "LIMIT 10\"\"\"\n",
    "cur.execute(query)\n",
    "row = cur.fetchall()\n",
    "print(row)"
   ]
  },
  {
   "cell_type": "code",
   "execution_count": 27,
   "metadata": {},
   "outputs": [
    {
     "name": "stdout",
     "output_type": "stream",
     "text": [
      "[(1,)]\n"
     ]
    }
   ],
   "source": [
    "query = \"\"\"\n",
    "SELECT COUNT(*)\n",
    "FROM staging_songs\"\"\"\n",
    "cur.execute(query)\n",
    "row = cur.fetchall()\n",
    "print(row)"
   ]
  },
  {
   "cell_type": "code",
   "execution_count": null,
   "metadata": {},
   "outputs": [],
   "source": [
    "psycopg2"
   ]
  }
 ],
 "metadata": {
  "kernelspec": {
   "display_name": "Python 3",
   "language": "python",
   "name": "python3"
  },
  "language_info": {
   "codemirror_mode": {
    "name": "ipython",
    "version": 3
   },
   "file_extension": ".py",
   "mimetype": "text/x-python",
   "name": "python",
   "nbconvert_exporter": "python",
   "pygments_lexer": "ipython3",
   "version": "3.7.3"
  }
 },
 "nbformat": 4,
 "nbformat_minor": 2
}
