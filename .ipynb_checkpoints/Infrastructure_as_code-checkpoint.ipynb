{
 "cells": [
  {
   "cell_type": "markdown",
   "metadata": {},
   "source": [
    "# **Infrastructure as Code**"
   ]
  },
  {
   "cell_type": "code",
   "execution_count": 1,
   "metadata": {},
   "outputs": [],
   "source": [
    "import boto3\n",
    "import configparser\n",
    "import json\n",
    "import pandas as pd\n",
    "import psycopg2"
   ]
  },
  {
   "cell_type": "code",
   "execution_count": 54,
   "metadata": {},
   "outputs": [],
   "source": [
    "config = configparser.ConfigParser()\n",
    "config.read_file(open('/home/wilson/Data_Engineering_NanoDegree/AWS_Keys/dwh.cfg'))\n",
    "\n",
    "# Access AWS\n",
    "KEY = config.get('AWS','KEY') \n",
    "SECRET = config.get('AWS','SECRET') \n",
    "\n",
    "# DATA WARE HOUSE Confi\n",
    "# Cluster\n",
    "CLUSTER_TYPE = config.get('CLUSTER','CLUSTER_TYPE')\n",
    "NUM_NODES = config.get('CLUSTER','NUM_NODES')\n",
    "NODE_TYPE = config.get('CLUSTER','NODE_TYPE')\n",
    "\n",
    "IAM_ROLE_NAME = config.get('CLUSTER','IAM_ROLE_NAME')\n",
    "CLUSTER_IDENTIFIER = config.get('CLUSTER','CLUSTER_IDENTIFIER')\n",
    "\n",
    "HOST = config.get('CLUSTER','host')\n",
    "DB_NAME = config.get('CLUSTER','DB_NAME')\n",
    "DB_USER = config.get('CLUSTER','DB_USER')\n",
    "DB_PASSWORD = config.get('CLUSTER','DB_PASSWORD')\n",
    "DB_PORT = config.get('CLUSTER','DB_PORT')\n",
    "\n",
    "# IAM_ROLE \n",
    "ARN = config.get('IAM_ROLE','ARN')\n",
    "\n",
    "# S3\n",
    "LOG_DATA = config.get('S3','LOG_DATA')\n",
    "LOG_JSONPATH = config.get('S3','LOG_JSONPATH')\n",
    "SONG_DATA = config.get('S3','SONG_DATA')\n",
    "SONG_JSONPATH = config.get('S3','SONG_JSONPATH')"
   ]
  },
  {
   "cell_type": "code",
   "execution_count": 34,
   "metadata": {},
   "outputs": [],
   "source": [
    "# Clients for EC2, S3, IAM, RedShift\n",
    "ec2 = boto3.resource('ec2',\n",
    "                    region_name='us-west-2',\n",
    "                    aws_access_key_id=KEY,\n",
    "                    aws_secret_access_key=SECRET\n",
    "                    )\n",
    "\n",
    "s3 = boto3.resource('s3',\n",
    "                  region_name='us-west-2',\n",
    "                  aws_access_key_id=KEY,\n",
    "                  aws_secret_access_key=SECRET)\n",
    "\n",
    "iam = boto3.client('iam',\n",
    "                  region_name='us-west-2',\n",
    "                  aws_access_key_id=KEY,\n",
    "                  aws_secret_access_key=SECRET)\n",
    "\n",
    "redshift = boto3.client('redshift',\n",
    "                  region_name='us-west-2',\n",
    "                  aws_access_key_id=KEY,\n",
    "                  aws_secret_access_key=SECRET)"
   ]
  },
  {
   "cell_type": "code",
   "execution_count": 104,
   "metadata": {},
   "outputs": [],
   "source": [
    "try:\n",
    "    s3.create_bucket(Bucket='wilson-dend-dwproject',\n",
    "                 CreateBucketConfiguration={'LocationConstraint': 'us-west-2'})\n",
    "except:\n",
    "    pass\n",
    "\n",
    "s3.meta.client.upload_file('./SONG_JSONPATH.json', 'wilson-dend-dwproject','song_json_path.json')"
   ]
  },
  {
   "cell_type": "code",
   "execution_count": 56,
   "metadata": {},
   "outputs": [
    {
     "name": "stdout",
     "output_type": "stream",
     "text": [
      "s3://udacity-dend/song-data\n",
      "s3://udacity-dend/log-data\n",
      "s3://udacity-dend/log_json_path.json\n",
      "s3://wilson-dend-dwproject/song_json_path.json\n"
     ]
    }
   ],
   "source": [
    "# Check Data Set on S3\n",
    "print(SONG_DATA)\n",
    "print(LOG_DATA)\n",
    "print(LOG_JSONPATH)\n",
    "print(SONG_JSONPATH)"
   ]
  },
  {
   "cell_type": "code",
   "execution_count": 53,
   "metadata": {},
   "outputs": [
    {
     "name": "stdout",
     "output_type": "stream",
     "text": [
      "song_json_path.json\n"
     ]
    }
   ],
   "source": [
    "source_bucket = s3.Bucket('wilson-dend-dwproject')\n",
    "for obj in source_bucket.objects.all():\n",
    "    print(obj.key)"
   ]
  },
  {
   "cell_type": "code",
   "execution_count": 5,
   "metadata": {},
   "outputs": [
    {
     "name": "stdout",
     "output_type": "stream",
     "text": [
      "s3.ObjectSummary(bucket_name='udacity-dend', key='song-data/A/A/A/TRAAAYL128F4271A5B.json')\n"
     ]
    }
   ],
   "source": [
    "source_bucket = s3.Bucket('udacity-dend')\n",
    "for obj in source_bucket.objects.filter(Prefix='song-data/A/A/A/TRAAAY'):\n",
    "    print(obj)"
   ]
  },
  {
   "cell_type": "code",
   "execution_count": 6,
   "metadata": {},
   "outputs": [
    {
     "name": "stdout",
     "output_type": "stream",
     "text": [
      "s3.ObjectSummary(bucket_name='udacity-dend', key='log-data/2018/11/2018-11-01-events.json')\n"
     ]
    }
   ],
   "source": [
    "for obj in source_bucket.objects.filter(Prefix='log-data/2018/11/2018-11-01'):\n",
    "    print(obj)"
   ]
  },
  {
   "cell_type": "markdown",
   "metadata": {},
   "source": [
    "## Create IAM role for Reshift to access S3"
   ]
  },
  {
   "cell_type": "code",
   "execution_count": 81,
   "metadata": {},
   "outputs": [
    {
     "name": "stdout",
     "output_type": "stream",
     "text": [
      "Creating a new IAM Role\n"
     ]
    }
   ],
   "source": [
    "# Create the IAM role for Redshift to access S3\n",
    "try:\n",
    "    print('Creating a new IAM Role')\n",
    "    dwhRole = iam.create_role(Path='/',\n",
    "                             RoleName=IAM_ROLE_NAME,\n",
    "                             Description = \"Allows Redshift clusters to call AWS services on your behalf.\",\n",
    "                             AssumeRolePolicyDocument=json.dumps(\n",
    "                             {'Statement': [{'Action': 'sts:AssumeRole',\n",
    "                                            'Effect': 'Allow',\n",
    "                                            'Principal': {'Service': 'redshift.amazonaws.com'}}],\n",
    "                             'Version':'2012-10-17'}))\n",
    "    \n",
    "\n",
    "except Exception as e:\n",
    "    print(e)"
   ]
  },
  {
   "cell_type": "code",
   "execution_count": 82,
   "metadata": {},
   "outputs": [
    {
     "data": {
      "text/plain": [
       "200"
      ]
     },
     "execution_count": 82,
     "metadata": {},
     "output_type": "execute_result"
    }
   ],
   "source": [
    "# Attach Policy to IAM Role\n",
    "iam.attach_role_policy(RoleName = IAM_ROLE_NAME,\n",
    "                      PolicyArn=\"arn:aws:iam::aws:policy/AmazonS3ReadOnlyAccess\")['ResponseMetadata']['HTTPStatusCode']"
   ]
  },
  {
   "cell_type": "code",
   "execution_count": 83,
   "metadata": {},
   "outputs": [
    {
     "name": "stdout",
     "output_type": "stream",
     "text": [
      "arn:aws:iam::475103112026:role/dwhRole\n"
     ]
    }
   ],
   "source": [
    "# Get IAM role Arn\n",
    "roleArn = iam.get_role(RoleName = IAM_ROLE_NAME)['Role']['Arn']\n",
    "print(roleArn)"
   ]
  },
  {
   "cell_type": "markdown",
   "metadata": {},
   "source": [
    "## Create Redshift Cluster"
   ]
  },
  {
   "cell_type": "code",
   "execution_count": 84,
   "metadata": {},
   "outputs": [],
   "source": [
    "try:\n",
    "    response = redshift.create_cluster(        \n",
    "        # parameters for hardware\n",
    "        ClusterType=CLUSTER_TYPE,\n",
    "        NodeType=NODE_TYPE,\n",
    "        NumberOfNodes=int(NUM_NODES),\n",
    "\n",
    "        # parameters for identifiers & credentials\n",
    "        DBName=DB_NAME,\n",
    "        ClusterIdentifier=CLUSTER_IDENTIFIER,\n",
    "        MasterUsername=DB_USER,\n",
    "        MasterUserPassword=DB_PASSWORD,\n",
    "        \n",
    "        # parameter for role (to allow s3 access)\n",
    "        IamRoles=[roleArn]\n",
    "    )\n",
    "except Exception as e:\n",
    "    print(e)"
   ]
  },
  {
   "cell_type": "code",
   "execution_count": 95,
   "metadata": {},
   "outputs": [
    {
     "data": {
      "text/html": [
       "<div>\n",
       "<style scoped>\n",
       "    .dataframe tbody tr th:only-of-type {\n",
       "        vertical-align: middle;\n",
       "    }\n",
       "\n",
       "    .dataframe tbody tr th {\n",
       "        vertical-align: top;\n",
       "    }\n",
       "\n",
       "    .dataframe thead th {\n",
       "        text-align: right;\n",
       "    }\n",
       "</style>\n",
       "<table border=\"1\" class=\"dataframe\">\n",
       "  <thead>\n",
       "    <tr style=\"text-align: right;\">\n",
       "      <th></th>\n",
       "      <th>Key</th>\n",
       "      <th>Value</th>\n",
       "    </tr>\n",
       "  </thead>\n",
       "  <tbody>\n",
       "    <tr>\n",
       "      <th>0</th>\n",
       "      <td>ClusterIdentifier</td>\n",
       "      <td>dwhcluster</td>\n",
       "    </tr>\n",
       "    <tr>\n",
       "      <th>1</th>\n",
       "      <td>NodeType</td>\n",
       "      <td>dc2.large</td>\n",
       "    </tr>\n",
       "    <tr>\n",
       "      <th>2</th>\n",
       "      <td>ClusterStatus</td>\n",
       "      <td>available</td>\n",
       "    </tr>\n",
       "    <tr>\n",
       "      <th>3</th>\n",
       "      <td>MasterUsername</td>\n",
       "      <td>dwhuser</td>\n",
       "    </tr>\n",
       "    <tr>\n",
       "      <th>4</th>\n",
       "      <td>DBName</td>\n",
       "      <td>dwh</td>\n",
       "    </tr>\n",
       "    <tr>\n",
       "      <th>5</th>\n",
       "      <td>Endpoint</td>\n",
       "      <td>{'Address': 'dwhcluster.cmyptj7fsclo.us-west-2.redshift.amazonaws.com', 'Port': 5439}</td>\n",
       "    </tr>\n",
       "    <tr>\n",
       "      <th>6</th>\n",
       "      <td>VpcId</td>\n",
       "      <td>vpc-8cef5bf4</td>\n",
       "    </tr>\n",
       "    <tr>\n",
       "      <th>7</th>\n",
       "      <td>NumberOfNodes</td>\n",
       "      <td>4</td>\n",
       "    </tr>\n",
       "  </tbody>\n",
       "</table>\n",
       "</div>"
      ],
      "text/plain": [
       "                 Key  \\\n",
       "0  ClusterIdentifier   \n",
       "1  NodeType            \n",
       "2  ClusterStatus       \n",
       "3  MasterUsername      \n",
       "4  DBName              \n",
       "5  Endpoint            \n",
       "6  VpcId               \n",
       "7  NumberOfNodes       \n",
       "\n",
       "                                                                                   Value  \n",
       "0  dwhcluster                                                                             \n",
       "1  dc2.large                                                                              \n",
       "2  available                                                                              \n",
       "3  dwhuser                                                                                \n",
       "4  dwh                                                                                    \n",
       "5  {'Address': 'dwhcluster.cmyptj7fsclo.us-west-2.redshift.amazonaws.com', 'Port': 5439}  \n",
       "6  vpc-8cef5bf4                                                                           \n",
       "7  4                                                                                      "
      ]
     },
     "execution_count": 95,
     "metadata": {},
     "output_type": "execute_result"
    }
   ],
   "source": [
    "def prettyRedshiftProps(props):\n",
    "    pd.set_option('display.max_colwidth', -1)\n",
    "    keysToShow = [\"ClusterIdentifier\", \"NodeType\", \"ClusterStatus\", \"MasterUsername\", \"DBName\", \"Endpoint\", \"NumberOfNodes\", 'VpcId']\n",
    "    x = [(k, v) for k,v in props.items() if k in keysToShow]\n",
    "    return pd.DataFrame(data=x, columns=[\"Key\", \"Value\"])\n",
    "\n",
    "myClusterProps = redshift.describe_clusters(ClusterIdentifier=CLUSTER_IDENTIFIER)['Clusters'][0]\n",
    "prettyRedshiftProps(myClusterProps)"
   ]
  },
  {
   "cell_type": "markdown",
   "metadata": {},
   "source": [
    "## Notes for ARN and DB ENDPOINT"
   ]
  },
  {
   "cell_type": "code",
   "execution_count": 25,
   "metadata": {},
   "outputs": [
    {
     "name": "stdout",
     "output_type": "stream",
     "text": [
      "DWH_ENDPOINT ::  dwhcluster.cmyptj7fsclo.us-west-2.redshift.amazonaws.com\n",
      "DWH_ROLE_ARN ::  arn:aws:iam::475103112026:role/dwhRole\n"
     ]
    }
   ],
   "source": [
    "ENDPOINT = myClusterProps['Endpoint']['Address']\n",
    "ROLE_ARN = myClusterProps['IamRoles'][0]['IamRoleArn']\n",
    "print(\"DWH_ENDPOINT :: \", ENDPOINT)\n",
    "print(\"DWH_ROLE_ARN :: \", ROLE_ARN)"
   ]
  },
  {
   "cell_type": "code",
   "execution_count": 77,
   "metadata": {},
   "outputs": [
    {
     "ename": "InvalidClusterStateFault",
     "evalue": "An error occurred (InvalidClusterState) when calling the DeleteCluster operation: There is an operation running on the Cluster. Please try to delete it at a later time.",
     "output_type": "error",
     "traceback": [
      "\u001b[0;31m---------------------------------------------------------------------------\u001b[0m",
      "\u001b[0;31mInvalidClusterStateFault\u001b[0m                  Traceback (most recent call last)",
      "\u001b[0;32m<ipython-input-77-1bb0215a912b>\u001b[0m in \u001b[0;36m<module>\u001b[0;34m\u001b[0m\n\u001b[1;32m      1\u001b[0m \u001b[0;31m#### CAREFUL!!\u001b[0m\u001b[0;34m\u001b[0m\u001b[0;34m\u001b[0m\u001b[0;34m\u001b[0m\u001b[0m\n\u001b[1;32m      2\u001b[0m \u001b[0;31m#-- Uncomment & run to delete the created resources\u001b[0m\u001b[0;34m\u001b[0m\u001b[0;34m\u001b[0m\u001b[0;34m\u001b[0m\u001b[0m\n\u001b[0;32m----> 3\u001b[0;31m \u001b[0mredshift\u001b[0m\u001b[0;34m.\u001b[0m\u001b[0mdelete_cluster\u001b[0m\u001b[0;34m(\u001b[0m \u001b[0mClusterIdentifier\u001b[0m\u001b[0;34m=\u001b[0m\u001b[0mCLUSTER_IDENTIFIER\u001b[0m\u001b[0;34m,\u001b[0m  \u001b[0mSkipFinalClusterSnapshot\u001b[0m\u001b[0;34m=\u001b[0m\u001b[0;32mTrue\u001b[0m\u001b[0;34m)\u001b[0m\u001b[0;34m\u001b[0m\u001b[0;34m\u001b[0m\u001b[0m\n\u001b[0m\u001b[1;32m      4\u001b[0m \u001b[0;31m#### CAREFUL!!\u001b[0m\u001b[0;34m\u001b[0m\u001b[0;34m\u001b[0m\u001b[0;34m\u001b[0m\u001b[0m\n",
      "\u001b[0;32m~/anaconda3/lib/python3.7/site-packages/botocore/client.py\u001b[0m in \u001b[0;36m_api_call\u001b[0;34m(self, *args, **kwargs)\u001b[0m\n\u001b[1;32m    355\u001b[0m                     \"%s() only accepts keyword arguments.\" % py_operation_name)\n\u001b[1;32m    356\u001b[0m             \u001b[0;31m# The \"self\" in this scope is referring to the BaseClient.\u001b[0m\u001b[0;34m\u001b[0m\u001b[0;34m\u001b[0m\u001b[0;34m\u001b[0m\u001b[0m\n\u001b[0;32m--> 357\u001b[0;31m             \u001b[0;32mreturn\u001b[0m \u001b[0mself\u001b[0m\u001b[0;34m.\u001b[0m\u001b[0m_make_api_call\u001b[0m\u001b[0;34m(\u001b[0m\u001b[0moperation_name\u001b[0m\u001b[0;34m,\u001b[0m \u001b[0mkwargs\u001b[0m\u001b[0;34m)\u001b[0m\u001b[0;34m\u001b[0m\u001b[0;34m\u001b[0m\u001b[0m\n\u001b[0m\u001b[1;32m    358\u001b[0m \u001b[0;34m\u001b[0m\u001b[0m\n\u001b[1;32m    359\u001b[0m         \u001b[0m_api_call\u001b[0m\u001b[0;34m.\u001b[0m\u001b[0m__name__\u001b[0m \u001b[0;34m=\u001b[0m \u001b[0mstr\u001b[0m\u001b[0;34m(\u001b[0m\u001b[0mpy_operation_name\u001b[0m\u001b[0;34m)\u001b[0m\u001b[0;34m\u001b[0m\u001b[0;34m\u001b[0m\u001b[0m\n",
      "\u001b[0;32m~/anaconda3/lib/python3.7/site-packages/botocore/client.py\u001b[0m in \u001b[0;36m_make_api_call\u001b[0;34m(self, operation_name, api_params)\u001b[0m\n\u001b[1;32m    659\u001b[0m             \u001b[0merror_code\u001b[0m \u001b[0;34m=\u001b[0m \u001b[0mparsed_response\u001b[0m\u001b[0;34m.\u001b[0m\u001b[0mget\u001b[0m\u001b[0;34m(\u001b[0m\u001b[0;34m\"Error\"\u001b[0m\u001b[0;34m,\u001b[0m \u001b[0;34m{\u001b[0m\u001b[0;34m}\u001b[0m\u001b[0;34m)\u001b[0m\u001b[0;34m.\u001b[0m\u001b[0mget\u001b[0m\u001b[0;34m(\u001b[0m\u001b[0;34m\"Code\"\u001b[0m\u001b[0;34m)\u001b[0m\u001b[0;34m\u001b[0m\u001b[0;34m\u001b[0m\u001b[0m\n\u001b[1;32m    660\u001b[0m             \u001b[0merror_class\u001b[0m \u001b[0;34m=\u001b[0m \u001b[0mself\u001b[0m\u001b[0;34m.\u001b[0m\u001b[0mexceptions\u001b[0m\u001b[0;34m.\u001b[0m\u001b[0mfrom_code\u001b[0m\u001b[0;34m(\u001b[0m\u001b[0merror_code\u001b[0m\u001b[0;34m)\u001b[0m\u001b[0;34m\u001b[0m\u001b[0;34m\u001b[0m\u001b[0m\n\u001b[0;32m--> 661\u001b[0;31m             \u001b[0;32mraise\u001b[0m \u001b[0merror_class\u001b[0m\u001b[0;34m(\u001b[0m\u001b[0mparsed_response\u001b[0m\u001b[0;34m,\u001b[0m \u001b[0moperation_name\u001b[0m\u001b[0;34m)\u001b[0m\u001b[0;34m\u001b[0m\u001b[0;34m\u001b[0m\u001b[0m\n\u001b[0m\u001b[1;32m    662\u001b[0m         \u001b[0;32melse\u001b[0m\u001b[0;34m:\u001b[0m\u001b[0;34m\u001b[0m\u001b[0;34m\u001b[0m\u001b[0m\n\u001b[1;32m    663\u001b[0m             \u001b[0;32mreturn\u001b[0m \u001b[0mparsed_response\u001b[0m\u001b[0;34m\u001b[0m\u001b[0;34m\u001b[0m\u001b[0m\n",
      "\u001b[0;31mInvalidClusterStateFault\u001b[0m: An error occurred (InvalidClusterState) when calling the DeleteCluster operation: There is an operation running on the Cluster. Please try to delete it at a later time."
     ]
    }
   ],
   "source": [
    "#### CAREFUL!!\n",
    "#-- Uncomment & run to delete the created resources\n",
    "redshift.delete_cluster( ClusterIdentifier=CLUSTER_IDENTIFIER,  SkipFinalClusterSnapshot=True)\n",
    "#### CAREFUL!!"
   ]
  },
  {
   "cell_type": "code",
   "execution_count": 78,
   "metadata": {},
   "outputs": [
    {
     "data": {
      "text/plain": [
       "{'ResponseMetadata': {'RequestId': '4163bc22-9971-11e9-ba31-51c4e4fb1518',\n",
       "  'HTTPStatusCode': 200,\n",
       "  'HTTPHeaders': {'x-amzn-requestid': '4163bc22-9971-11e9-ba31-51c4e4fb1518',\n",
       "   'content-type': 'text/xml',\n",
       "   'content-length': '200',\n",
       "   'date': 'Fri, 28 Jun 2019 06:52:11 GMT'},\n",
       "  'RetryAttempts': 0}}"
      ]
     },
     "execution_count": 78,
     "metadata": {},
     "output_type": "execute_result"
    }
   ],
   "source": [
    "# Delete IAM role\n",
    "iam.detach_role_policy(RoleName=IAM_ROLE_NAME, PolicyArn=\"arn:aws:iam::aws:policy/AmazonS3ReadOnlyAccess\")\n",
    "iam.delete_role(RoleName = IAM_ROLE_NAME)"
   ]
  },
  {
   "cell_type": "markdown",
   "metadata": {},
   "source": [
    "## RedShift Interface"
   ]
  },
  {
   "cell_type": "code",
   "execution_count": 100,
   "metadata": {},
   "outputs": [],
   "source": [
    "try:\n",
    "    conn = psycopg2.connect(\"host={} dbname={} user={} password={} port={}\".format(HOST,DB_NAME,DB_USER,DB_PASSWORD,DB_PORT))\n",
    "    cur = conn.cursor()\n",
    "    conn.set_session(autocommit=True)\n",
    "except psycopg2.Error as e: \n",
    "    print(e)"
   ]
  },
  {
   "cell_type": "code",
   "execution_count": 101,
   "metadata": {},
   "outputs": [],
   "source": [
    "stl_load_errors_cols = ['userid','slice','tbl','starttime','session','query','filename','line_number','colname','type','col_length','position','raw_line','raw_field_value','err_code','err_reason'\n",
    "]"
   ]
  },
  {
   "cell_type": "code",
   "execution_count": 102,
   "metadata": {},
   "outputs": [],
   "source": [
    "query = \"SELECT * FROM stl_load_errors\"\n",
    "cur.execute(query)\n",
    "row = cur.fetchall()"
   ]
  },
  {
   "cell_type": "code",
   "execution_count": 103,
   "metadata": {},
   "outputs": [
    {
     "data": {
      "text/html": [
       "<div>\n",
       "<style scoped>\n",
       "    .dataframe tbody tr th:only-of-type {\n",
       "        vertical-align: middle;\n",
       "    }\n",
       "\n",
       "    .dataframe tbody tr th {\n",
       "        vertical-align: top;\n",
       "    }\n",
       "\n",
       "    .dataframe thead th {\n",
       "        text-align: right;\n",
       "    }\n",
       "</style>\n",
       "<table border=\"1\" class=\"dataframe\">\n",
       "  <thead>\n",
       "    <tr style=\"text-align: right;\">\n",
       "      <th></th>\n",
       "      <th>userid</th>\n",
       "      <th>slice</th>\n",
       "      <th>tbl</th>\n",
       "      <th>starttime</th>\n",
       "      <th>session</th>\n",
       "      <th>query</th>\n",
       "      <th>filename</th>\n",
       "      <th>line_number</th>\n",
       "      <th>colname</th>\n",
       "      <th>type</th>\n",
       "      <th>col_length</th>\n",
       "      <th>position</th>\n",
       "      <th>raw_line</th>\n",
       "      <th>raw_field_value</th>\n",
       "      <th>err_code</th>\n",
       "      <th>err_reason</th>\n",
       "    </tr>\n",
       "  </thead>\n",
       "  <tbody>\n",
       "    <tr>\n",
       "      <th>0</th>\n",
       "      <td>100</td>\n",
       "      <td>2</td>\n",
       "      <td>100413</td>\n",
       "      <td>2019-06-28 15:57:36.344045</td>\n",
       "      <td>17441</td>\n",
       "      <td>11</td>\n",
       "      <td>s3://udacity-dend/song-data/A/A/A/TRAAAUC128F428716F.json</td>\n",
       "      <td>1</td>\n",
       "      <td>artist_longitude</td>\n",
       "      <td>float8</td>\n",
       "      <td>0</td>\n",
       "      <td>0</td>\n",
       "      <td>{\"song_id\": \"SOKTJDS12AF72A25E5\", \"num_songs\": 1, \"title\": \"Drown In My Own Tears (24-Bit Digitally Remastered 04)\", \"artist_name\": \"The Smithereens\", \"artist_latitude\": 40.57885, \"year\": 0, \"duration\": 192.522, \"artist_id\": \"ARA23XO1187B9AF18F\", \"artist_longitude\": -74.21956, \"artist_location\": \"Carteret, New Jersey\"}</td>\n",
       "      <td></td>\n",
       "      <td>1207</td>\n",
       "      <td>Invalid digit, Value 'C', Pos 0, Type: Double</td>\n",
       "    </tr>\n",
       "    <tr>\n",
       "      <th>1</th>\n",
       "      <td>100</td>\n",
       "      <td>3</td>\n",
       "      <td>100413</td>\n",
       "      <td>2019-06-28 15:57:36.344045</td>\n",
       "      <td>17441</td>\n",
       "      <td>11</td>\n",
       "      <td>s3://udacity-dend/song-data/A/A/A/TRAAAAV128F421A322.json</td>\n",
       "      <td>1</td>\n",
       "      <td>artist_longitude</td>\n",
       "      <td>float8</td>\n",
       "      <td>0</td>\n",
       "      <td>0</td>\n",
       "      <td>{\"song_id\": \"SOQPWCR12A6D4FB2A3\", \"num_songs\": 1, \"title\": \"A Poor Recipe For Civic Cohesion\", \"artist_name\": \"Western Addiction\", \"artist_latitude\": 37.77916, \"year\": 2005, \"duration\": 118.07302, \"artist_id\": \"AR73AIO1187B9AD57B\", \"artist_longitude\": -122.42005, \"artist_location\": \"San Francisco, CA\"}</td>\n",
       "      <td></td>\n",
       "      <td>1207</td>\n",
       "      <td>Invalid digit, Value 'S', Pos 0, Type: Double</td>\n",
       "    </tr>\n",
       "    <tr>\n",
       "      <th>2</th>\n",
       "      <td>100</td>\n",
       "      <td>3</td>\n",
       "      <td>100459</td>\n",
       "      <td>2019-06-28 16:07:50.376221</td>\n",
       "      <td>18331</td>\n",
       "      <td>83</td>\n",
       "      <td>s3://udacity-dend/song-data/B/K/O/TRBKOTN128F425A38C.json</td>\n",
       "      <td>1</td>\n",
       "      <td>artist_location</td>\n",
       "      <td>varchar</td>\n",
       "      <td>256</td>\n",
       "      <td>0</td>\n",
       "      <td>{\"song_id\": \"SOCCKQH12A8AE476C3\", \"num_songs\": 1, \"title\": \"Born Never Asked\", \"artist_name\": \"Spiritualized;Jason;Jason - Dulcimer/;Kate Radley - Vox continental/Farfisa/Tones/Drones/Tremeloes/;Sean Cook - Wha-monica/;Mark Refoy;Jon Mattock;Icon Hunt;Stuart Gordon;Balanescu Quartet;Rico;Rico - Tam Tam/;Bammie;Tim Sanders;Roddy Lorimar;Steve Sidwell;Chris Sharrack;Caroline Crawley;Marilyn McFarlane;Helen White\", \"artist_latitude\": null, \"year\": 0, \"duration\": 125.20444, \"artist_id\": \"ARVHQMD1269FB25AE7\", \"artist_longitude\": null, \"artist_location\": \"\"}</td>\n",
       "      <td></td>\n",
       "      <td>1204</td>\n",
       "      <td>String length exceeds DDL length</td>\n",
       "    </tr>\n",
       "    <tr>\n",
       "      <th>3</th>\n",
       "      <td>100</td>\n",
       "      <td>4</td>\n",
       "      <td>100413</td>\n",
       "      <td>2019-06-28 15:57:36.344045</td>\n",
       "      <td>17441</td>\n",
       "      <td>11</td>\n",
       "      <td>s3://udacity-dend/song-data/A/A/A/TRAAAJN128F428E437.json</td>\n",
       "      <td>1</td>\n",
       "      <td>artist_longitude</td>\n",
       "      <td>float8</td>\n",
       "      <td>0</td>\n",
       "      <td>0</td>\n",
       "      <td>{\"song_id\": \"SOBRKGM12A8C139EF6\", \"num_songs\": 1, \"title\": \"Welcome to the Pleasuredome\", \"artist_name\": \"Frankie Goes To Hollywood\", \"artist_latitude\": null, \"year\": 1985, \"duration\": 821.05424, \"artist_id\": \"ARXQBR11187B98A2CC\", \"artist_longitude\": null, \"artist_location\": \"Liverpool, England\"}</td>\n",
       "      <td></td>\n",
       "      <td>1207</td>\n",
       "      <td>Invalid digit, Value 'L', Pos 0, Type: Double</td>\n",
       "    </tr>\n",
       "    <tr>\n",
       "      <th>4</th>\n",
       "      <td>100</td>\n",
       "      <td>5</td>\n",
       "      <td>100413</td>\n",
       "      <td>2019-06-28 15:57:36.344045</td>\n",
       "      <td>17441</td>\n",
       "      <td>11</td>\n",
       "      <td>s3://udacity-dend/song-data/A/A/A/TRAAABD128F429CF47.json</td>\n",
       "      <td>1</td>\n",
       "      <td>artist_longitude</td>\n",
       "      <td>float8</td>\n",
       "      <td>0</td>\n",
       "      <td>0</td>\n",
       "      <td>{\"song_id\": \"SOCIWDW12A8C13D406\", \"num_songs\": 1, \"title\": \"Soul Deep\", \"artist_name\": \"The Box Tops\", \"artist_latitude\": 35.14968, \"year\": 1969, \"duration\": 148.03546, \"artist_id\": \"ARMJAGH1187FB546F3\", \"artist_longitude\": -90.04892, \"artist_location\": \"Memphis, TN\"}</td>\n",
       "      <td></td>\n",
       "      <td>1207</td>\n",
       "      <td>Invalid digit, Value 'M', Pos 0, Type: Double</td>\n",
       "    </tr>\n",
       "    <tr>\n",
       "      <th>5</th>\n",
       "      <td>100</td>\n",
       "      <td>4</td>\n",
       "      <td>100459</td>\n",
       "      <td>2019-06-28 16:07:50.376221</td>\n",
       "      <td>18331</td>\n",
       "      <td>83</td>\n",
       "      <td>s3://udacity-dend/song-data/C/A/R/TRCARJQ128F425A389.json</td>\n",
       "      <td>1</td>\n",
       "      <td>artist_location</td>\n",
       "      <td>varchar</td>\n",
       "      <td>256</td>\n",
       "      <td>0</td>\n",
       "      <td>{\"song_id\": \"SOLAUEC12A8AE476BB\", \"num_songs\": 1, \"title\": \"Medication\", \"artist_name\": \"Spiritualized;Jason;Jason - Dulcimer/;Kate Radley - Vox continental/Farfisa/Tones/Drones/Tremeloes/;Sean Cook - Wha-monica/;Mark Refoy;Jon Mattock;Icon Hunt;Stuart Gordon;Balanescu Quartet;Rico;Rico - Tam Tam/;Bammie;Tim Sanders;Roddy Lorimar;Steve Sidwell;Chris Sharrack;Caroline Crawley;Marilyn McFarlane;Helen White\", \"artist_latitude\": null, \"year\": 0, \"duration\": 498.72934, \"artist_id\": \"ARVHQMD1269FB25AE7\", \"artist_longitude\": null, \"artist_location\": \"\"}</td>\n",
       "      <td></td>\n",
       "      <td>1204</td>\n",
       "      <td>String length exceeds DDL length</td>\n",
       "    </tr>\n",
       "    <tr>\n",
       "      <th>6</th>\n",
       "      <td>100</td>\n",
       "      <td>0</td>\n",
       "      <td>100413</td>\n",
       "      <td>2019-06-28 15:57:36.344045</td>\n",
       "      <td>17441</td>\n",
       "      <td>11</td>\n",
       "      <td>s3://udacity-dend/song-data/A/A/A/TRAAAEA128F935A30D.json</td>\n",
       "      <td>1</td>\n",
       "      <td>artist_longitude</td>\n",
       "      <td>float8</td>\n",
       "      <td>0</td>\n",
       "      <td>0</td>\n",
       "      <td>{\"song_id\": \"SOEKAZG12AB018837E\", \"num_songs\": 1, \"title\": \"I'll Slap Your Face (Entertainment USA Theme)\", \"artist_name\": \"Jonathan King\", \"artist_latitude\": 51.50632, \"year\": 2001, \"duration\": 129.85424, \"artist_id\": \"ARSVTNL1187B992A91\", \"artist_longitude\": -0.12714, \"artist_location\": \"London, England\"}</td>\n",
       "      <td></td>\n",
       "      <td>1207</td>\n",
       "      <td>Invalid digit, Value 'L', Pos 0, Type: Double</td>\n",
       "    </tr>\n",
       "    <tr>\n",
       "      <th>7</th>\n",
       "      <td>100</td>\n",
       "      <td>1</td>\n",
       "      <td>100413</td>\n",
       "      <td>2019-06-28 15:57:36.344045</td>\n",
       "      <td>17441</td>\n",
       "      <td>11</td>\n",
       "      <td>s3://udacity-dend/song-data/A/A/A/TRAAANK128F428B515.json</td>\n",
       "      <td>1</td>\n",
       "      <td>artist_longitude</td>\n",
       "      <td>float8</td>\n",
       "      <td>0</td>\n",
       "      <td>0</td>\n",
       "      <td>{\"song_id\": \"SOSMJFC12A8C13DE0C\", \"num_songs\": 1, \"title\": \"Is That All There Is?\", \"artist_name\": \"Cristina\", \"artist_latitude\": 34.05349, \"year\": 0, \"duration\": 343.87546, \"artist_id\": \"AR1KTV21187B9ACD72\", \"artist_longitude\": -118.24532, \"artist_location\": \"California - LA\"}</td>\n",
       "      <td></td>\n",
       "      <td>1207</td>\n",
       "      <td>Invalid digit, Value 'C', Pos 0, Type: Double</td>\n",
       "    </tr>\n",
       "    <tr>\n",
       "      <th>8</th>\n",
       "      <td>100</td>\n",
       "      <td>0</td>\n",
       "      <td>100459</td>\n",
       "      <td>2019-06-28 16:07:50.376221</td>\n",
       "      <td>18331</td>\n",
       "      <td>83</td>\n",
       "      <td>s3://udacity-dend/song-data/C/W/V/TRCWVDW128F425A38A.json</td>\n",
       "      <td>1</td>\n",
       "      <td>artist_location</td>\n",
       "      <td>varchar</td>\n",
       "      <td>256</td>\n",
       "      <td>0</td>\n",
       "      <td>{\"song_id\": \"SOORTJE12A8AE476BD\", \"num_songs\": 1, \"title\": \"Electric Phase\", \"artist_name\": \"Spiritualized;Jason;Jason - Dulcimer/;Kate Radley - Vox continental/Farfisa/Tones/Drones/Tremeloes/;Sean Cook - Wha-monica/;Mark Refoy;Jon Mattock;Icon Hunt;Stuart Gordon;Balanescu Quartet;Rico;Rico - Tam Tam/;Bammie;Tim Sanders;Roddy Lorimar;Steve Sidwell;Chris Sharrack;Caroline Crawley;Marilyn McFarlane;Helen White\", \"artist_latitude\": null, \"year\": 0, \"duration\": 93.75302, \"artist_id\": \"ARVHQMD1269FB25AE7\", \"artist_longitude\": null, \"artist_location\": \"\"}</td>\n",
       "      <td></td>\n",
       "      <td>1204</td>\n",
       "      <td>String length exceeds DDL length</td>\n",
       "    </tr>\n",
       "    <tr>\n",
       "      <th>9</th>\n",
       "      <td>100</td>\n",
       "      <td>6</td>\n",
       "      <td>100413</td>\n",
       "      <td>2019-06-28 15:57:36.344045</td>\n",
       "      <td>17441</td>\n",
       "      <td>11</td>\n",
       "      <td>s3://udacity-dend/song-data/A/A/A/TRAAACN128F9355673.json</td>\n",
       "      <td>1</td>\n",
       "      <td>artist_longitude</td>\n",
       "      <td>float8</td>\n",
       "      <td>0</td>\n",
       "      <td>0</td>\n",
       "      <td>{\"song_id\": \"SOFRDWL12A58A7CEF7\", \"num_songs\": 1, \"title\": \"Hit Da Scene\", \"artist_name\": \"Quest_ Pup_ Kevo\", \"artist_latitude\": null, \"year\": 0, \"duration\": 252.94322, \"artist_id\": \"AR9Q9YC1187FB5609B\", \"artist_longitude\": null, \"artist_location\": \"New Jersey\"}</td>\n",
       "      <td></td>\n",
       "      <td>1207</td>\n",
       "      <td>Invalid digit, Value 'N', Pos 0, Type: Double</td>\n",
       "    </tr>\n",
       "    <tr>\n",
       "      <th>10</th>\n",
       "      <td>100</td>\n",
       "      <td>7</td>\n",
       "      <td>100413</td>\n",
       "      <td>2019-06-28 15:57:36.344045</td>\n",
       "      <td>17441</td>\n",
       "      <td>11</td>\n",
       "      <td>s3://udacity-dend/song-data/A/A/A/TRAAAYL128F4271A5B.json</td>\n",
       "      <td>1</td>\n",
       "      <td>artist_longitude</td>\n",
       "      <td>float8</td>\n",
       "      <td>0</td>\n",
       "      <td>0</td>\n",
       "      <td>{\"song_id\": \"SOIGHOD12A8C13B5A1\", \"num_songs\": 1, \"title\": \"Indian Angel\", \"artist_name\": \"Talkdemonic\", \"artist_latitude\": 45.51179, \"year\": 2004, \"duration\": 171.57179, \"artist_id\": \"ARY589G1187B9A9F4E\", \"artist_longitude\": -122.67563, \"artist_location\": \"Portland, OR\"}</td>\n",
       "      <td></td>\n",
       "      <td>1207</td>\n",
       "      <td>Invalid digit, Value 'P', Pos 0, Type: Double</td>\n",
       "    </tr>\n",
       "    <tr>\n",
       "      <th>11</th>\n",
       "      <td>100</td>\n",
       "      <td>7</td>\n",
       "      <td>100459</td>\n",
       "      <td>2019-06-28 16:07:50.376221</td>\n",
       "      <td>18331</td>\n",
       "      <td>83</td>\n",
       "      <td>s3://udacity-dend/song-data/A/Y/F/TRAYFUW128F428F618.json</td>\n",
       "      <td>1</td>\n",
       "      <td>artist_longitude</td>\n",
       "      <td>varchar</td>\n",
       "      <td>256</td>\n",
       "      <td>0</td>\n",
       "      <td>{\"song_id\": \"SORMAXQ12A8C139224\", \"num_songs\": 1, \"title\": \"Landmines\", \"artist_name\": \"St. Vincent\", \"artist_latitude\": 19.40904, \"year\": 2007, \"duration\": 307.53914, \"artist_id\": \"AR0JBXL1187FB52810\", \"artist_longitude\": -99.14977, \"artist_location\": \"ORDER &amp;#039;ACTOR&amp;#039; ON INSOUND: &lt;a href=\\\\\"http://www.insound.com/search/searchmain.jsp?query=st.+vincent+actor\\\\\" target=\\\\\"_blank\\\\\" rel=\\\\\"nofollow\\\\\" onmousedown='UntrustedLink.bootstrap($(this), \\\\\"\\\\\", event)'&gt;http://www.insound.com/search/searchmain.jsp?query=st.+vincent+actor&lt;/a&gt;\"}</td>\n",
       "      <td></td>\n",
       "      <td>1204</td>\n",
       "      <td>String length exceeds DDL length</td>\n",
       "    </tr>\n",
       "  </tbody>\n",
       "</table>\n",
       "</div>"
      ],
      "text/plain": [
       "    userid  slice     tbl                  starttime  session  query  \\\n",
       "0   100     2      100413 2019-06-28 15:57:36.344045  17441    11      \n",
       "1   100     3      100413 2019-06-28 15:57:36.344045  17441    11      \n",
       "2   100     3      100459 2019-06-28 16:07:50.376221  18331    83      \n",
       "3   100     4      100413 2019-06-28 15:57:36.344045  17441    11      \n",
       "4   100     5      100413 2019-06-28 15:57:36.344045  17441    11      \n",
       "5   100     4      100459 2019-06-28 16:07:50.376221  18331    83      \n",
       "6   100     0      100413 2019-06-28 15:57:36.344045  17441    11      \n",
       "7   100     1      100413 2019-06-28 15:57:36.344045  17441    11      \n",
       "8   100     0      100459 2019-06-28 16:07:50.376221  18331    83      \n",
       "9   100     6      100413 2019-06-28 15:57:36.344045  17441    11      \n",
       "10  100     7      100413 2019-06-28 15:57:36.344045  17441    11      \n",
       "11  100     7      100459 2019-06-28 16:07:50.376221  18331    83      \n",
       "\n",
       "                                                                                                                                                                                                                                                            filename  \\\n",
       "0   s3://udacity-dend/song-data/A/A/A/TRAAAUC128F428716F.json                                                                                                                                                                                                          \n",
       "1   s3://udacity-dend/song-data/A/A/A/TRAAAAV128F421A322.json                                                                                                                                                                                                          \n",
       "2   s3://udacity-dend/song-data/B/K/O/TRBKOTN128F425A38C.json                                                                                                                                                                                                          \n",
       "3   s3://udacity-dend/song-data/A/A/A/TRAAAJN128F428E437.json                                                                                                                                                                                                          \n",
       "4   s3://udacity-dend/song-data/A/A/A/TRAAABD128F429CF47.json                                                                                                                                                                                                          \n",
       "5   s3://udacity-dend/song-data/C/A/R/TRCARJQ128F425A389.json                                                                                                                                                                                                          \n",
       "6   s3://udacity-dend/song-data/A/A/A/TRAAAEA128F935A30D.json                                                                                                                                                                                                          \n",
       "7   s3://udacity-dend/song-data/A/A/A/TRAAANK128F428B515.json                                                                                                                                                                                                          \n",
       "8   s3://udacity-dend/song-data/C/W/V/TRCWVDW128F425A38A.json                                                                                                                                                                                                          \n",
       "9   s3://udacity-dend/song-data/A/A/A/TRAAACN128F9355673.json                                                                                                                                                                                                          \n",
       "10  s3://udacity-dend/song-data/A/A/A/TRAAAYL128F4271A5B.json                                                                                                                                                                                                          \n",
       "11  s3://udacity-dend/song-data/A/Y/F/TRAYFUW128F428F618.json                                                                                                                                                                                                          \n",
       "\n",
       "    line_number  \\\n",
       "0   1             \n",
       "1   1             \n",
       "2   1             \n",
       "3   1             \n",
       "4   1             \n",
       "5   1             \n",
       "6   1             \n",
       "7   1             \n",
       "8   1             \n",
       "9   1             \n",
       "10  1             \n",
       "11  1             \n",
       "\n",
       "                                                                                                                            colname  \\\n",
       "0   artist_longitude                                                                                                                  \n",
       "1   artist_longitude                                                                                                                  \n",
       "2   artist_location                                                                                                                   \n",
       "3   artist_longitude                                                                                                                  \n",
       "4   artist_longitude                                                                                                                  \n",
       "5   artist_location                                                                                                                   \n",
       "6   artist_longitude                                                                                                                  \n",
       "7   artist_longitude                                                                                                                  \n",
       "8   artist_location                                                                                                                   \n",
       "9   artist_longitude                                                                                                                  \n",
       "10  artist_longitude                                                                                                                  \n",
       "11  artist_longitude                                                                                                                  \n",
       "\n",
       "          type  col_length  position  \\\n",
       "0   float8      0           0          \n",
       "1   float8      0           0          \n",
       "2   varchar     256         0          \n",
       "3   float8      0           0          \n",
       "4   float8      0           0          \n",
       "5   varchar     256         0          \n",
       "6   float8      0           0          \n",
       "7   float8      0           0          \n",
       "8   varchar     256         0          \n",
       "9   float8      0           0          \n",
       "10  float8      0           0          \n",
       "11  varchar     256         0          \n",
       "\n",
       "                                                                                                                                                                                                                                                                                                                                                                                                                                                                                                                                                                                                                                                                                                                                                                                                                                                                                                                                                                                                                                                            raw_line  \\\n",
       "0   {\"song_id\": \"SOKTJDS12AF72A25E5\", \"num_songs\": 1, \"title\": \"Drown In My Own Tears (24-Bit Digitally Remastered 04)\", \"artist_name\": \"The Smithereens\", \"artist_latitude\": 40.57885, \"year\": 0, \"duration\": 192.522, \"artist_id\": \"ARA23XO1187B9AF18F\", \"artist_longitude\": -74.21956, \"artist_location\": \"Carteret, New Jersey\"}                                                                                                                                                                                                                                                                                                                                                                                                                                                                                                                                                                                                                                                                                                                                   \n",
       "1   {\"song_id\": \"SOQPWCR12A6D4FB2A3\", \"num_songs\": 1, \"title\": \"A Poor Recipe For Civic Cohesion\", \"artist_name\": \"Western Addiction\", \"artist_latitude\": 37.77916, \"year\": 2005, \"duration\": 118.07302, \"artist_id\": \"AR73AIO1187B9AD57B\", \"artist_longitude\": -122.42005, \"artist_location\": \"San Francisco, CA\"}                                                                                                                                                                                                                                                                                                                                                                                                                                                                                                                                                                                                                                                                                                                                                    \n",
       "2   {\"song_id\": \"SOCCKQH12A8AE476C3\", \"num_songs\": 1, \"title\": \"Born Never Asked\", \"artist_name\": \"Spiritualized;Jason;Jason - Dulcimer/;Kate Radley - Vox continental/Farfisa/Tones/Drones/Tremeloes/;Sean Cook - Wha-monica/;Mark Refoy;Jon Mattock;Icon Hunt;Stuart Gordon;Balanescu Quartet;Rico;Rico - Tam Tam/;Bammie;Tim Sanders;Roddy Lorimar;Steve Sidwell;Chris Sharrack;Caroline Crawley;Marilyn McFarlane;Helen White\", \"artist_latitude\": null, \"year\": 0, \"duration\": 125.20444, \"artist_id\": \"ARVHQMD1269FB25AE7\", \"artist_longitude\": null, \"artist_location\": \"\"}                                                                                                                                                                                                                                                                                                                                                                                                                                                                                     \n",
       "3   {\"song_id\": \"SOBRKGM12A8C139EF6\", \"num_songs\": 1, \"title\": \"Welcome to the Pleasuredome\", \"artist_name\": \"Frankie Goes To Hollywood\", \"artist_latitude\": null, \"year\": 1985, \"duration\": 821.05424, \"artist_id\": \"ARXQBR11187B98A2CC\", \"artist_longitude\": null, \"artist_location\": \"Liverpool, England\"}                                                                                                                                                                                                                                                                                                                                                                                                                                                                                                                                                                                                                                                                                                                                                          \n",
       "4   {\"song_id\": \"SOCIWDW12A8C13D406\", \"num_songs\": 1, \"title\": \"Soul Deep\", \"artist_name\": \"The Box Tops\", \"artist_latitude\": 35.14968, \"year\": 1969, \"duration\": 148.03546, \"artist_id\": \"ARMJAGH1187FB546F3\", \"artist_longitude\": -90.04892, \"artist_location\": \"Memphis, TN\"}                                                                                                                                                                                                                                                                                                                                                                                                                                                                                                                                                                                                                                                                                                                                                                                       \n",
       "5   {\"song_id\": \"SOLAUEC12A8AE476BB\", \"num_songs\": 1, \"title\": \"Medication\", \"artist_name\": \"Spiritualized;Jason;Jason - Dulcimer/;Kate Radley - Vox continental/Farfisa/Tones/Drones/Tremeloes/;Sean Cook - Wha-monica/;Mark Refoy;Jon Mattock;Icon Hunt;Stuart Gordon;Balanescu Quartet;Rico;Rico - Tam Tam/;Bammie;Tim Sanders;Roddy Lorimar;Steve Sidwell;Chris Sharrack;Caroline Crawley;Marilyn McFarlane;Helen White\", \"artist_latitude\": null, \"year\": 0, \"duration\": 498.72934, \"artist_id\": \"ARVHQMD1269FB25AE7\", \"artist_longitude\": null, \"artist_location\": \"\"}                                                                                                                                                                                                                                                                                                                                                                                                                                                                                           \n",
       "6   {\"song_id\": \"SOEKAZG12AB018837E\", \"num_songs\": 1, \"title\": \"I'll Slap Your Face (Entertainment USA Theme)\", \"artist_name\": \"Jonathan King\", \"artist_latitude\": 51.50632, \"year\": 2001, \"duration\": 129.85424, \"artist_id\": \"ARSVTNL1187B992A91\", \"artist_longitude\": -0.12714, \"artist_location\": \"London, England\"}                                                                                                                                                                                                                                                                                                                                                                                                                                                                                                                                                                                                                                                                                                                                               \n",
       "7   {\"song_id\": \"SOSMJFC12A8C13DE0C\", \"num_songs\": 1, \"title\": \"Is That All There Is?\", \"artist_name\": \"Cristina\", \"artist_latitude\": 34.05349, \"year\": 0, \"duration\": 343.87546, \"artist_id\": \"AR1KTV21187B9ACD72\", \"artist_longitude\": -118.24532, \"artist_location\": \"California - LA\"}                                                                                                                                                                                                                                                                                                                                                                                                                                                                                                                                                                                                                                                                                                                                                                             \n",
       "8   {\"song_id\": \"SOORTJE12A8AE476BD\", \"num_songs\": 1, \"title\": \"Electric Phase\", \"artist_name\": \"Spiritualized;Jason;Jason - Dulcimer/;Kate Radley - Vox continental/Farfisa/Tones/Drones/Tremeloes/;Sean Cook - Wha-monica/;Mark Refoy;Jon Mattock;Icon Hunt;Stuart Gordon;Balanescu Quartet;Rico;Rico - Tam Tam/;Bammie;Tim Sanders;Roddy Lorimar;Steve Sidwell;Chris Sharrack;Caroline Crawley;Marilyn McFarlane;Helen White\", \"artist_latitude\": null, \"year\": 0, \"duration\": 93.75302, \"artist_id\": \"ARVHQMD1269FB25AE7\", \"artist_longitude\": null, \"artist_location\": \"\"}                                                                                                                                                                                                                                                                                                                                                                                                                                                                                        \n",
       "9   {\"song_id\": \"SOFRDWL12A58A7CEF7\", \"num_songs\": 1, \"title\": \"Hit Da Scene\", \"artist_name\": \"Quest_ Pup_ Kevo\", \"artist_latitude\": null, \"year\": 0, \"duration\": 252.94322, \"artist_id\": \"AR9Q9YC1187FB5609B\", \"artist_longitude\": null, \"artist_location\": \"New Jersey\"}                                                                                                                                                                                                                                                                                                                                                                                                                                                                                                                                                                                                                                                                                                                                                                                             \n",
       "10  {\"song_id\": \"SOIGHOD12A8C13B5A1\", \"num_songs\": 1, \"title\": \"Indian Angel\", \"artist_name\": \"Talkdemonic\", \"artist_latitude\": 45.51179, \"year\": 2004, \"duration\": 171.57179, \"artist_id\": \"ARY589G1187B9A9F4E\", \"artist_longitude\": -122.67563, \"artist_location\": \"Portland, OR\"}                                                                                                                                                                                                                                                                                                                                                                                                                                                                                                                                                                                                                                                                                                                                                                                   \n",
       "11  {\"song_id\": \"SORMAXQ12A8C139224\", \"num_songs\": 1, \"title\": \"Landmines\", \"artist_name\": \"St. Vincent\", \"artist_latitude\": 19.40904, \"year\": 2007, \"duration\": 307.53914, \"artist_id\": \"AR0JBXL1187FB52810\", \"artist_longitude\": -99.14977, \"artist_location\": \"ORDER &#039;ACTOR&#039; ON INSOUND: <a href=\\\\\"http://www.insound.com/search/searchmain.jsp?query=st.+vincent+actor\\\\\" target=\\\\\"_blank\\\\\" rel=\\\\\"nofollow\\\\\" onmousedown='UntrustedLink.bootstrap($(this), \\\\\"\\\\\", event)'>http://www.insound.com/search/searchmain.jsp?query=st.+vincent+actor</a>\"}                                                                                                                                                                                                                                                                                                                                                                                                                                                                                               \n",
       "\n",
       "                                                                                                                                                                                                                                                                                                                                                                                                                                                                                                                                                                                                                                                                                                                                                                                                                                                                                                                                                                                                                                                     raw_field_value  \\\n",
       "0                                                                                                                                                                                                                                                                                                                                                                                                                                                                                                                                                                                                                                                                                                                                                                                                                                                                                                                                                                                                                                                                      \n",
       "1                                                                                                                                                                                                                                                                                                                                                                                                                                                                                                                                                                                                                                                                                                                                                                                                                                                                                                                                                                                                                                                                      \n",
       "2                                                                                                                                                                                                                                                                                                                                                                                                                                                                                                                                                                                                                                                                                                                                                                                                                                                                                                                                                                                                                                                                      \n",
       "3                                                                                                                                                                                                                                                                                                                                                                                                                                                                                                                                                                                                                                                                                                                                                                                                                                                                                                                                                                                                                                                                      \n",
       "4                                                                                                                                                                                                                                                                                                                                                                                                                                                                                                                                                                                                                                                                                                                                                                                                                                                                                                                                                                                                                                                                      \n",
       "5                                                                                                                                                                                                                                                                                                                                                                                                                                                                                                                                                                                                                                                                                                                                                                                                                                                                                                                                                                                                                                                                      \n",
       "6                                                                                                                                                                                                                                                                                                                                                                                                                                                                                                                                                                                                                                                                                                                                                                                                                                                                                                                                                                                                                                                                      \n",
       "7                                                                                                                                                                                                                                                                                                                                                                                                                                                                                                                                                                                                                                                                                                                                                                                                                                                                                                                                                                                                                                                                      \n",
       "8                                                                                                                                                                                                                                                                                                                                                                                                                                                                                                                                                                                                                                                                                                                                                                                                                                                                                                                                                                                                                                                                      \n",
       "9                                                                                                                                                                                                                                                                                                                                                                                                                                                                                                                                                                                                                                                                                                                                                                                                                                                                                                                                                                                                                                                                      \n",
       "10                                                                                                                                                                                                                                                                                                                                                                                                                                                                                                                                                                                                                                                                                                                                                                                                                                                                                                                                                                                                                                                                     \n",
       "11                                                                                                                                                                                                                                                                                                                                                                                                                                                                                                                                                                                                                                                                                                                                                                                                                                                                                                                                                                                                                                                                     \n",
       "\n",
       "    err_code  \\\n",
       "0   1207       \n",
       "1   1207       \n",
       "2   1204       \n",
       "3   1207       \n",
       "4   1207       \n",
       "5   1204       \n",
       "6   1207       \n",
       "7   1207       \n",
       "8   1204       \n",
       "9   1207       \n",
       "10  1207       \n",
       "11  1204       \n",
       "\n",
       "                                                                                              err_reason  \n",
       "0   Invalid digit, Value 'C', Pos 0, Type: Double                                                         \n",
       "1   Invalid digit, Value 'S', Pos 0, Type: Double                                                         \n",
       "2   String length exceeds DDL length                                                                      \n",
       "3   Invalid digit, Value 'L', Pos 0, Type: Double                                                         \n",
       "4   Invalid digit, Value 'M', Pos 0, Type: Double                                                         \n",
       "5   String length exceeds DDL length                                                                      \n",
       "6   Invalid digit, Value 'L', Pos 0, Type: Double                                                         \n",
       "7   Invalid digit, Value 'C', Pos 0, Type: Double                                                         \n",
       "8   String length exceeds DDL length                                                                      \n",
       "9   Invalid digit, Value 'N', Pos 0, Type: Double                                                         \n",
       "10  Invalid digit, Value 'P', Pos 0, Type: Double                                                         \n",
       "11  String length exceeds DDL length                                                                      "
      ]
     },
     "execution_count": 103,
     "metadata": {},
     "output_type": "execute_result"
    }
   ],
   "source": [
    "pd.DataFrame(row,columns=stl_load_errors_cols)"
   ]
  },
  {
   "cell_type": "markdown",
   "metadata": {},
   "source": [
    "**Roll UP** How many Songs is played in each month in 2018?"
   ]
  },
  {
   "cell_type": "code",
   "execution_count": null,
   "metadata": {},
   "outputs": [],
   "source": [
    "query = \"\"\"\n",
    "SELECT COUNT(*)\n",
    "FROM songPlay p JOIN dimTime t ON p.start_date = t.start_date\n",
    "GROUP BY t.month\n",
    "having t.year = 2018\n",
    "LIMIT 10\"\"\"\n",
    "\n",
    "cur.execute(query)\n",
    "row = cur.fetchall()\n",
    "print(row)"
   ]
  },
  {
   "cell_type": "markdown",
   "metadata": {},
   "source": [
    "**Drill Down** How many song is played in 2018 July's each week?"
   ]
  },
  {
   "cell_type": "code",
   "execution_count": null,
   "metadata": {},
   "outputs": [],
   "source": [
    "query = \"\"\"\n",
    "SELECT COUNT(*)\n",
    "FROM songPlay p JOIN dimTime t ON p.start_date = t.start_date\n",
    "GROUP BY t.week\n",
    "HAVING t.year = 2018 AND t.month = 7\n",
    "LIMIT 10\"\"\"\n",
    "cur.execute(query)\n",
    "row = cur.fetchall()\n",
    "print(row)"
   ]
  },
  {
   "cell_type": "markdown",
   "metadata": {},
   "source": [
    "**Slicing** How many femals are free users?"
   ]
  },
  {
   "cell_type": "code",
   "execution_count": null,
   "metadata": {},
   "outputs": [],
   "source": [
    "query = \"\"\"\n",
    "SELECT COUNT(*)\n",
    "FROM songPlay p JOIN dimUser u ON p.user_id = u.user_id\n",
    "WHERE u.gender = 'M' AND u.level = 'free'\n",
    "LIMIT 10\"\"\"\n",
    "cur.execute(query)\n",
    "row = cur.fetchall()\n",
    "print(row)"
   ]
  },
  {
   "cell_type": "markdown",
   "metadata": {},
   "source": [
    "**Dicing** Which song has been listened the most times during Summer(June - August)?"
   ]
  },
  {
   "cell_type": "code",
   "execution_count": null,
   "metadata": {},
   "outputs": [],
   "source": [
    "query = \"\"\"\n",
    "SELECT COUNT(*)\n",
    "FROM songPlay p JOIN dimTime t ON p.start_date = t.start_date\n",
    "GROUP BY p.song_id\n",
    "HAVING t.month in (6,7,8)\n",
    "LIMIT 10\"\"\"\n",
    "cur.execute(query)\n",
    "row = cur.fetchall()\n",
    "print(row)"
   ]
  },
  {
   "cell_type": "code",
   "execution_count": 16,
   "metadata": {},
   "outputs": [
    {
     "name": "stdout",
     "output_type": "stream",
     "text": [
      "[(8056,)]\n"
     ]
    }
   ],
   "source": [
    "query = \"\"\"\n",
    "SELECT COUNT(*)\n",
    "FROM staging_events\"\"\"\n",
    "cur.execute(query)\n",
    "row = cur.fetchall()\n",
    "print(row)"
   ]
  }
 ],
 "metadata": {
  "kernelspec": {
   "display_name": "Python 3",
   "language": "python",
   "name": "python3"
  },
  "language_info": {
   "codemirror_mode": {
    "name": "ipython",
    "version": 3
   },
   "file_extension": ".py",
   "mimetype": "text/x-python",
   "name": "python",
   "nbconvert_exporter": "python",
   "pygments_lexer": "ipython3",
   "version": "3.7.3"
  }
 },
 "nbformat": 4,
 "nbformat_minor": 2
}
