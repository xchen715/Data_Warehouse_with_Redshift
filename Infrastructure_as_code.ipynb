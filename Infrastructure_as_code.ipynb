{
 "cells": [
  {
   "cell_type": "markdown",
   "metadata": {},
   "source": [
    "# **Infrastructure as Code**"
   ]
  },
  {
   "cell_type": "code",
   "execution_count": 1,
   "metadata": {},
   "outputs": [],
   "source": [
    "import boto3\n",
    "import configparser\n",
    "import json\n",
    "import pandas as pd\n",
    "import psycopg2"
   ]
  },
  {
   "cell_type": "code",
   "execution_count": 2,
   "metadata": {},
   "outputs": [],
   "source": [
    "config = configparser.ConfigParser()\n",
    "config.read_file(open('dwh.cfg'))\n",
    "\n",
    "# Access AWS\n",
    "KEY = config.get('AWS','KEY') \n",
    "SECRET = config.get('AWS','SECRET') \n",
    "\n",
    "# DATA WARE HOUSE Confi\n",
    "# Cluster\n",
    "CLUSTER_TYPE = config.get('CLUSTER','CLUSTER_TYPE')\n",
    "NUM_NODES = config.get('CLUSTER','NUM_NODES')\n",
    "NODE_TYPE = config.get('CLUSTER','NODE_TYPE')\n",
    "\n",
    "IAM_ROLE_NAME = config.get('CLUSTER','IAM_ROLE_NAME')\n",
    "CLUSTER_IDENTIFIER = config.get('CLUSTER','CLUSTER_IDENTIFIER')\n",
    "\n",
    "HOST = config.get('CLUSTER','host')\n",
    "DB_NAME = config.get('CLUSTER','DB_NAME')\n",
    "DB_USER = config.get('CLUSTER','DB_USER')\n",
    "DB_PASSWORD = config.get('CLUSTER','DB_PASSWORD')\n",
    "DB_PORT = config.get('CLUSTER','DB_PORT')\n",
    "\n",
    "# IAM_ROLE \n",
    "ARN = config.get('IAM_ROLE','ARN')\n",
    "\n",
    "# S3\n",
    "LOG_DATA = config.get('S3','LOG_DATA')\n",
    "LOG_JSONPATH = config.get('S3','LOG_JSONPATH')\n",
    "SONG_DATA = config.get('S3','SONG_DATA')\n"
   ]
  },
  {
   "cell_type": "code",
   "execution_count": 3,
   "metadata": {},
   "outputs": [],
   "source": [
    "# Clients for EC2, S3, IAM, RedShift\n",
    "ec2 = boto3.resource('ec2',\n",
    "                    region_name='us-west-2',\n",
    "                    aws_access_key_id=KEY,\n",
    "                    aws_secret_access_key=SECRET\n",
    "                    )\n",
    "\n",
    "s3 = boto3.resource('s3',\n",
    "                  region_name='us-west-2',\n",
    "                  aws_access_key_id=KEY,\n",
    "                  aws_secret_access_key=SECRET)\n",
    "\n",
    "iam = boto3.client('iam',\n",
    "                  region_name='us-west-2',\n",
    "                  aws_access_key_id=KEY,\n",
    "                  aws_secret_access_key=SECRET)\n",
    "\n",
    "redshift = boto3.client('redshift',\n",
    "                  region_name='us-west-2',\n",
    "                  aws_access_key_id=KEY,\n",
    "                  aws_secret_access_key=SECRET)"
   ]
  },
  {
   "cell_type": "code",
   "execution_count": 4,
   "metadata": {},
   "outputs": [
    {
     "name": "stdout",
     "output_type": "stream",
     "text": [
      "'s3://udacity-dend/song-data'\n",
      "'s3://udacity-dend/log-data'\n"
     ]
    }
   ],
   "source": [
    "# Check Data Set on S3\n",
    "print(SONG_DATA)\n",
    "print(LOG_DATA)"
   ]
  },
  {
   "cell_type": "code",
   "execution_count": 6,
   "metadata": {},
   "outputs": [
    {
     "name": "stdout",
     "output_type": "stream",
     "text": [
      "s3.ObjectSummary(bucket_name='udacity-dend', key='song-data/A/A/A/TRAAAYL128F4271A5B.json')\n"
     ]
    }
   ],
   "source": [
    "source_bucket =  s3.Bucket('udacity-dend')\n",
    "\n",
    "\n",
    "for obj in source_bucket.objects.filter(Prefix='song-data/A/A/A/TRAAAY'):\n",
    "    print(obj)"
   ]
  },
  {
   "cell_type": "code",
   "execution_count": 7,
   "metadata": {},
   "outputs": [
    {
     "name": "stdout",
     "output_type": "stream",
     "text": [
      "s3.ObjectSummary(bucket_name='udacity-dend', key='log-data/2018/11/2018-11-01-events.json')\n"
     ]
    }
   ],
   "source": [
    "source_bucket =  s3.Bucket('udacity-dend')\n",
    "\n",
    "\n",
    "for obj in source_bucket.objects.filter(Prefix='log-data/2018/11/2018-11-01'):\n",
    "    print(obj)"
   ]
  },
  {
   "cell_type": "markdown",
   "metadata": {},
   "source": [
    "## Create IAM role for Reshift to access S3"
   ]
  },
  {
   "cell_type": "code",
   "execution_count": 31,
   "metadata": {},
   "outputs": [
    {
     "name": "stdout",
     "output_type": "stream",
     "text": [
      "Creating a new IAM Role\n"
     ]
    }
   ],
   "source": [
    "# Create the IAM role for Redshift to access S3\n",
    "try:\n",
    "    print('Creating a new IAM Role')\n",
    "    dwhRole = iam.create_role(Path='/',\n",
    "                             RoleName=IAM_ROLE_NAME,\n",
    "                             Description = \"Allows Redshift clusters to call AWS services on your behalf.\",\n",
    "                             AssumeRolePolicyDocument=json.dumps(\n",
    "                             {'Statement': [{'Action': 'sts:AssumeRole',\n",
    "                                            'Effect': 'Allow',\n",
    "                                            'Principal': {'Service': 'redshift.amazonaws.com'}}],\n",
    "                             'Version':'2012-10-17'}))\n",
    "    \n",
    "\n",
    "except Exception as e:\n",
    "    print(e)"
   ]
  },
  {
   "cell_type": "code",
   "execution_count": 32,
   "metadata": {},
   "outputs": [
    {
     "data": {
      "text/plain": [
       "200"
      ]
     },
     "execution_count": 32,
     "metadata": {},
     "output_type": "execute_result"
    }
   ],
   "source": [
    "# Attach Policy to IAM Role\n",
    "iam.attach_role_policy(RoleName = IAM_ROLE_NAME,\n",
    "                      PolicyArn=\"arn:aws:iam::aws:policy/AmazonS3ReadOnlyAccess\")['ResponseMetadata']['HTTPStatusCode']"
   ]
  },
  {
   "cell_type": "code",
   "execution_count": 33,
   "metadata": {},
   "outputs": [
    {
     "name": "stdout",
     "output_type": "stream",
     "text": [
      "arn:aws:iam::475103112026:role/dwhRole\n"
     ]
    }
   ],
   "source": [
    "# Get IAM role Arn\n",
    "roleArn = iam.get_role(RoleName = IAM_ROLE_NAME)['Role']['Arn']\n",
    "print(roleArn)"
   ]
  },
  {
   "cell_type": "markdown",
   "metadata": {},
   "source": [
    "## Create Redshift Cluster"
   ]
  },
  {
   "cell_type": "code",
   "execution_count": 43,
   "metadata": {},
   "outputs": [],
   "source": [
    "try:\n",
    "    response = redshift.create_cluster(        \n",
    "        # parameters for hardware\n",
    "        ClusterType=CLUSTER_TYPE,\n",
    "        NodeType=NODE_TYPE,\n",
    "        NumberOfNodes=int(NUM_NODES),\n",
    "\n",
    "        # parameters for identifiers & credentials\n",
    "        DBName=DB_NAME,\n",
    "        ClusterIdentifier=CLUSTER_IDENTIFIER,\n",
    "        MasterUsername=DB_USER,\n",
    "        MasterUserPassword=DB_PASSWORD,\n",
    "        \n",
    "        # parameter for role (to allow s3 access)\n",
    "        IamRoles=[roleArn]\n",
    "    )\n",
    "except Exception as e:\n",
    "    print(e)"
   ]
  },
  {
   "cell_type": "code",
   "execution_count": 45,
   "metadata": {},
   "outputs": [
    {
     "data": {
      "text/html": [
       "<div>\n",
       "<style scoped>\n",
       "    .dataframe tbody tr th:only-of-type {\n",
       "        vertical-align: middle;\n",
       "    }\n",
       "\n",
       "    .dataframe tbody tr th {\n",
       "        vertical-align: top;\n",
       "    }\n",
       "\n",
       "    .dataframe thead th {\n",
       "        text-align: right;\n",
       "    }\n",
       "</style>\n",
       "<table border=\"1\" class=\"dataframe\">\n",
       "  <thead>\n",
       "    <tr style=\"text-align: right;\">\n",
       "      <th></th>\n",
       "      <th>Key</th>\n",
       "      <th>Value</th>\n",
       "    </tr>\n",
       "  </thead>\n",
       "  <tbody>\n",
       "    <tr>\n",
       "      <th>0</th>\n",
       "      <td>ClusterIdentifier</td>\n",
       "      <td>dwhcluster</td>\n",
       "    </tr>\n",
       "    <tr>\n",
       "      <th>1</th>\n",
       "      <td>NodeType</td>\n",
       "      <td>dc2.large</td>\n",
       "    </tr>\n",
       "    <tr>\n",
       "      <th>2</th>\n",
       "      <td>ClusterStatus</td>\n",
       "      <td>available</td>\n",
       "    </tr>\n",
       "    <tr>\n",
       "      <th>3</th>\n",
       "      <td>MasterUsername</td>\n",
       "      <td>dwhuser</td>\n",
       "    </tr>\n",
       "    <tr>\n",
       "      <th>4</th>\n",
       "      <td>DBName</td>\n",
       "      <td>dwh</td>\n",
       "    </tr>\n",
       "    <tr>\n",
       "      <th>5</th>\n",
       "      <td>Endpoint</td>\n",
       "      <td>{'Address': 'dwhcluster.cmyptj7fsclo.us-west-2.redshift.amazonaws.com', 'Port': 5439}</td>\n",
       "    </tr>\n",
       "    <tr>\n",
       "      <th>6</th>\n",
       "      <td>VpcId</td>\n",
       "      <td>vpc-8cef5bf4</td>\n",
       "    </tr>\n",
       "    <tr>\n",
       "      <th>7</th>\n",
       "      <td>NumberOfNodes</td>\n",
       "      <td>4</td>\n",
       "    </tr>\n",
       "  </tbody>\n",
       "</table>\n",
       "</div>"
      ],
      "text/plain": [
       "                 Key  \\\n",
       "0  ClusterIdentifier   \n",
       "1  NodeType            \n",
       "2  ClusterStatus       \n",
       "3  MasterUsername      \n",
       "4  DBName              \n",
       "5  Endpoint            \n",
       "6  VpcId               \n",
       "7  NumberOfNodes       \n",
       "\n",
       "                                                                                   Value  \n",
       "0  dwhcluster                                                                             \n",
       "1  dc2.large                                                                              \n",
       "2  available                                                                              \n",
       "3  dwhuser                                                                                \n",
       "4  dwh                                                                                    \n",
       "5  {'Address': 'dwhcluster.cmyptj7fsclo.us-west-2.redshift.amazonaws.com', 'Port': 5439}  \n",
       "6  vpc-8cef5bf4                                                                           \n",
       "7  4                                                                                      "
      ]
     },
     "execution_count": 45,
     "metadata": {},
     "output_type": "execute_result"
    }
   ],
   "source": [
    "def prettyRedshiftProps(props):\n",
    "    pd.set_option('display.max_colwidth', -1)\n",
    "    keysToShow = [\"ClusterIdentifier\", \"NodeType\", \"ClusterStatus\", \"MasterUsername\", \"DBName\", \"Endpoint\", \"NumberOfNodes\", 'VpcId']\n",
    "    x = [(k, v) for k,v in props.items() if k in keysToShow]\n",
    "    return pd.DataFrame(data=x, columns=[\"Key\", \"Value\"])\n",
    "\n",
    "myClusterProps = redshift.describe_clusters(ClusterIdentifier=CLUSTER_IDENTIFIER)['Clusters'][0]\n",
    "prettyRedshiftProps(myClusterProps)"
   ]
  },
  {
   "cell_type": "markdown",
   "metadata": {},
   "source": [
    "## Notes for ARN and DB ENDPOINT"
   ]
  },
  {
   "cell_type": "code",
   "execution_count": 46,
   "metadata": {},
   "outputs": [
    {
     "name": "stdout",
     "output_type": "stream",
     "text": [
      "DWH_ENDPOINT ::  dwhcluster.cmyptj7fsclo.us-west-2.redshift.amazonaws.com\n",
      "DWH_ROLE_ARN ::  arn:aws:iam::475103112026:role/dwhRole\n"
     ]
    }
   ],
   "source": [
    "ENDPOINT = myClusterProps['Endpoint']['Address']\n",
    "ROLE_ARN = myClusterProps['IamRoles'][0]['IamRoleArn']\n",
    "print(\"DWH_ENDPOINT :: \", ENDPOINT)\n",
    "print(\"DWH_ROLE_ARN :: \", ROLE_ARN)"
   ]
  },
  {
   "cell_type": "code",
   "execution_count": 28,
   "metadata": {},
   "outputs": [
    {
     "data": {
      "text/plain": [
       "{'Cluster': {'ClusterIdentifier': 'dwhcluster',\n",
       "  'NodeType': 'dc2.large',\n",
       "  'ClusterStatus': 'deleting',\n",
       "  'MasterUsername': 'dwhuser',\n",
       "  'DBName': 'dwh',\n",
       "  'Endpoint': {'Address': 'dwhcluster.cmyptj7fsclo.us-west-2.redshift.amazonaws.com',\n",
       "   'Port': 5439},\n",
       "  'ClusterCreateTime': datetime.datetime(2019, 6, 14, 5, 14, 49, 802000, tzinfo=tzutc()),\n",
       "  'AutomatedSnapshotRetentionPeriod': 1,\n",
       "  'ManualSnapshotRetentionPeriod': -1,\n",
       "  'ClusterSecurityGroups': [],\n",
       "  'VpcSecurityGroups': [],\n",
       "  'ClusterParameterGroups': [{'ParameterGroupName': 'default.redshift-1.0',\n",
       "    'ParameterApplyStatus': 'in-sync'}],\n",
       "  'ClusterSubnetGroupName': 'default',\n",
       "  'VpcId': 'vpc-8cef5bf4',\n",
       "  'AvailabilityZone': 'us-west-2c',\n",
       "  'PreferredMaintenanceWindow': 'sat:09:30-sat:10:00',\n",
       "  'PendingModifiedValues': {},\n",
       "  'ClusterVersion': '1.0',\n",
       "  'AllowVersionUpgrade': True,\n",
       "  'NumberOfNodes': 4,\n",
       "  'PubliclyAccessible': True,\n",
       "  'Encrypted': False,\n",
       "  'Tags': [],\n",
       "  'EnhancedVpcRouting': False,\n",
       "  'IamRoles': [{'IamRoleArn': 'arn:aws:iam::475103112026:role/dwhRole',\n",
       "    'ApplyStatus': 'in-sync'}],\n",
       "  'MaintenanceTrackName': 'current',\n",
       "  'DeferredMaintenanceWindows': []},\n",
       " 'ResponseMetadata': {'RequestId': 'd831b5a0-8e68-11e9-8634-5306bbe5c5f7',\n",
       "  'HTTPStatusCode': 200,\n",
       "  'HTTPHeaders': {'x-amzn-requestid': 'd831b5a0-8e68-11e9-8634-5306bbe5c5f7',\n",
       "   'content-type': 'text/xml',\n",
       "   'content-length': '2041',\n",
       "   'date': 'Fri, 14 Jun 2019 05:54:16 GMT'},\n",
       "  'RetryAttempts': 0}}"
      ]
     },
     "execution_count": 28,
     "metadata": {},
     "output_type": "execute_result"
    }
   ],
   "source": [
    "#### CAREFUL!!\n",
    "#-- Uncomment & run to delete the created resources\n",
    "redshift.delete_cluster( ClusterIdentifier=CLUSTER_IDENTIFIER,  SkipFinalClusterSnapshot=True)\n",
    "#### CAREFUL!!"
   ]
  },
  {
   "cell_type": "code",
   "execution_count": 29,
   "metadata": {},
   "outputs": [
    {
     "data": {
      "text/plain": [
       "{'ResponseMetadata': {'RequestId': 'd8d8caed-8e68-11e9-b077-997927eb1b7f',\n",
       "  'HTTPStatusCode': 200,\n",
       "  'HTTPHeaders': {'x-amzn-requestid': 'd8d8caed-8e68-11e9-b077-997927eb1b7f',\n",
       "   'content-type': 'text/xml',\n",
       "   'content-length': '200',\n",
       "   'date': 'Fri, 14 Jun 2019 05:54:17 GMT'},\n",
       "  'RetryAttempts': 0}}"
      ]
     },
     "execution_count": 29,
     "metadata": {},
     "output_type": "execute_result"
    }
   ],
   "source": [
    "# Delete IAM role\n",
    "iam.detach_role_policy(RoleName=IAM_ROLE_NAME, PolicyArn=\"arn:aws:iam::aws:policy/AmazonS3ReadOnlyAccess\")\n",
    "iam.delete_role(RoleName = IAM_ROLE_NAME)"
   ]
  },
  {
   "cell_type": "markdown",
   "metadata": {},
   "source": [
    "## RedShift Interface"
   ]
  },
  {
   "cell_type": "code",
   "execution_count": 56,
   "metadata": {},
   "outputs": [],
   "source": [
    "try:\n",
    "    conn = psycopg2.connect(\"host={} dbname={} user={} password={} port={}\".format(HOST,DB_NAME,DB_USER,DB_PASSWORD,DB_PORT))\n",
    "    cur = conn.cursor()\n",
    "    conn.set_session(autocommit=True)\n",
    "except psycopg2.Error as e: \n",
    "    print(e)"
   ]
  },
  {
   "cell_type": "code",
   "execution_count": 58,
   "metadata": {},
   "outputs": [
    {
     "name": "stdout",
     "output_type": "stream",
     "text": [
      "[(100, 4, 100432, datetime.datetime(2019, 6, 15, 3, 42, 0, 87388), 12167, 91, 's3://udacity-dend/song-data/C/A/R/TRCARJQ128F425A389.json                                                                                                                                                                                                       ', 1, 'artist_name                                                                                                                    ', 'varchar   ', '256       ', 0, '{\"song_id\": \"SOLAUEC12A8AE476BB\", \"num_songs\": 1, \"title\": \"Medication\", \"artist_name\": \"Spiritualized;Jason;Jason - Dulcimer/;Kate Radley - Vox continental/Farfisa/Tones/Drones/Tremeloes/;Sean Cook - Wha-monica/;Mark Refoy;Jon Mattock;Icon Hunt;Stuart Gordon;Balanescu Quartet;Rico;Rico - Tam Tam/;Bammie;Tim Sanders;Roddy Lorimar;Steve Sidwell;Chris Sharrack;Caroline Crawley;Marilyn McFarlane;Helen White\", \"artist_latitude\": null, \"year\": 0, \"duration\": 498.72934, \"artist_id\": \"ARVHQMD1269FB25AE7\", \"artist_longitude\": null, \"artist_location\": \"\"}                                                                                                                                                                                                                                                                                                                                                                                                                                                                                        ', '                                                                                                                                                                                                                                                                                                                                                                                                                                                                                                                                                                                                                                                                                                                                                                                                                                                                                                                                                                                                                                                                ', 1204, 'String length exceeds DDL length                                                                    '), (100, 4, 100498, datetime.datetime(2019, 6, 15, 4, 35, 41, 61796), 16097, 428, 's3://udacity-dend/song-data/B/K/O/TRBKOTN128F425A38C.json                                                                                                                                                                                                       ', 1, 'artist_name                                                                                                                    ', 'varchar   ', '256       ', 0, '{\"song_id\": \"SOCCKQH12A8AE476C3\", \"num_songs\": 1, \"title\": \"Born Never Asked\", \"artist_name\": \"Spiritualized;Jason;Jason - Dulcimer/;Kate Radley - Vox continental/Farfisa/Tones/Drones/Tremeloes/;Sean Cook - Wha-monica/;Mark Refoy;Jon Mattock;Icon Hunt;Stuart Gordon;Balanescu Quartet;Rico;Rico - Tam Tam/;Bammie;Tim Sanders;Roddy Lorimar;Steve Sidwell;Chris Sharrack;Caroline Crawley;Marilyn McFarlane;Helen White\", \"artist_latitude\": null, \"year\": 0, \"duration\": 125.20444, \"artist_id\": \"ARVHQMD1269FB25AE7\", \"artist_longitude\": null, \"artist_location\": \"\"}                                                                                                                                                                                                                                                                                                                                                                                                                                                                                  ', '                                                                                                                                                                                                                                                                                                                                                                                                                                                                                                                                                                                                                                                                                                                                                                                                                                                                                                                                                                                                                                                                ', 1204, 'String length exceeds DDL length                                                                    '), (100, 5, 100564, datetime.datetime(2019, 6, 15, 4, 48, 57, 361875), 17548, 555, 's3://udacity-dend/song-data/F/R/I/TRFRIXO128F428A233.json                                                                                                                                                                                                       ', 1, 'artist_location                                                                                                                ', 'varchar   ', '256       ', 0, '{\"song_id\": \"SOYFEAR12A8C139481\", \"num_songs\": 1, \"title\": \"Now_ Now\", \"artist_name\": \"St. Vincent\", \"artist_latitude\": 19.40904, \"year\": 0, \"duration\": 267.7024, \"artist_id\": \"AR0JBXL1187FB52810\", \"artist_longitude\": -99.14977, \"artist_location\": \"ORDER &#039;ACTOR&#039; ON INSOUND: <a href=\\\\\\\\\"http://www.insound.com/search/searchmain.jsp?query=st.+vincent+actor\\\\\\\\\" target=\\\\\\\\\"_blank\\\\\\\\\" rel=\\\\\\\\\"nofollow\\\\\\\\\" onmousedown=\\'UntrustedLink.bootstrap($(this), \\\\\\\\\"\\\\\\\\\", event)\\'>http://www.insound.com/search/searchmain.jsp?query=st.+vincent+actor</a>\"}                                                                                                                                                                                                                                                                                                                                                                                                                                                                                                 ', '                                                                                                                                                                                                                                                                                                                                                                                                                                                                                                                                                                                                                                                                                                                                                                                                                                                                                                                                                                                                                                                                ', 1204, 'String length exceeds DDL length                                                                    '), (100, 3, 100432, datetime.datetime(2019, 6, 15, 3, 42, 0, 87388), 12167, 91, 's3://udacity-dend/song-data/B/K/O/TRBKOTN128F425A38C.json                                                                                                                                                                                                       ', 1, 'artist_name                                                                                                                    ', 'varchar   ', '256       ', 0, '{\"song_id\": \"SOCCKQH12A8AE476C3\", \"num_songs\": 1, \"title\": \"Born Never Asked\", \"artist_name\": \"Spiritualized;Jason;Jason - Dulcimer/;Kate Radley - Vox continental/Farfisa/Tones/Drones/Tremeloes/;Sean Cook - Wha-monica/;Mark Refoy;Jon Mattock;Icon Hunt;Stuart Gordon;Balanescu Quartet;Rico;Rico - Tam Tam/;Bammie;Tim Sanders;Roddy Lorimar;Steve Sidwell;Chris Sharrack;Caroline Crawley;Marilyn McFarlane;Helen White\", \"artist_latitude\": null, \"year\": 0, \"duration\": 125.20444, \"artist_id\": \"ARVHQMD1269FB25AE7\", \"artist_longitude\": null, \"artist_location\": \"\"}                                                                                                                                                                                                                                                                                                                                                                                                                                                                                  ', '                                                                                                                                                                                                                                                                                                                                                                                                                                                                                                                                                                                                                                                                                                                                                                                                                                                                                                                                                                                                                                                                ', 1204, 'String length exceeds DDL length                                                                    '), (100, 3, 100498, datetime.datetime(2019, 6, 15, 4, 35, 41, 61796), 16097, 428, 's3://udacity-dend/song-data/C/W/V/TRCWVDW128F425A38A.json                                                                                                                                                                                                       ', 1, 'artist_name                                                                                                                    ', 'varchar   ', '256       ', 0, '{\"song_id\": \"SOORTJE12A8AE476BD\", \"num_songs\": 1, \"title\": \"Electric Phase\", \"artist_name\": \"Spiritualized;Jason;Jason - Dulcimer/;Kate Radley - Vox continental/Farfisa/Tones/Drones/Tremeloes/;Sean Cook - Wha-monica/;Mark Refoy;Jon Mattock;Icon Hunt;Stuart Gordon;Balanescu Quartet;Rico;Rico - Tam Tam/;Bammie;Tim Sanders;Roddy Lorimar;Steve Sidwell;Chris Sharrack;Caroline Crawley;Marilyn McFarlane;Helen White\", \"artist_latitude\": null, \"year\": 0, \"duration\": 93.75302, \"artist_id\": \"ARVHQMD1269FB25AE7\", \"artist_longitude\": null, \"artist_location\": \"\"}                                                                                                                                                                                                                                                                                                                                                                                                                                                                                     ', '                                                                                                                                                                                                                                                                                                                                                                                                                                                                                                                                                                                                                                                                                                                                                                                                                                                                                                                                                                                                                                                                ', 1204, 'String length exceeds DDL length                                                                    '), (100, 2, 100564, datetime.datetime(2019, 6, 15, 4, 48, 57, 361875), 17548, 555, 's3://udacity-dend/song-data/D/M/R/TRDMRMV128F9330FC2.json                                                                                                                                                                                                       ', 1, 'artist_location                                                                                                                ', 'varchar   ', '256       ', 0, '{\"song_id\": \"SORMPUE12AB0182F1F\", \"num_songs\": 1, \"title\": \"The Strangers\", \"artist_name\": \"St. Vincent\", \"artist_latitude\": 19.40904, \"year\": 2009, \"duration\": 244.84526, \"artist_id\": \"AR0JBXL1187FB52810\", \"artist_longitude\": -99.14977, \"artist_location\": \"ORDER &#039;ACTOR&#039; ON INSOUND: <a href=\\\\\\\\\"http://www.insound.com/search/searchmain.jsp?query=st.+vincent+actor\\\\\\\\\" target=\\\\\\\\\"_blank\\\\\\\\\" rel=\\\\\\\\\"nofollow\\\\\\\\\" onmousedown=\\'UntrustedLink.bootstrap($(this), \\\\\\\\\"\\\\\\\\\", event)\\'>http://www.insound.com/search/searchmain.jsp?query=st.+vincent+actor</a>\"}                                                                                                                                                                                                                                                                                                                                                                                                                                                                                        ', '                                                                                                                                                                                                                                                                                                                                                                                                                                                                                                                                                                                                                                                                                                                                                                                                                                                                                                                                                                                                                                                                ', 1204, 'String length exceeds DDL length                                                                    '), (100, 5, 100630, datetime.datetime(2019, 6, 15, 5, 16, 8, 937607), 20469, 756, 's3://udacity-dend/song-data/D/M/R/TRDMRMV128F9330FC2.json                                                                                                                                                                                                       ', 1, 'artist_location                                                                                                                ', 'varchar   ', '256       ', 0, '{\"song_id\": \"SORMPUE12AB0182F1F\", \"num_songs\": 1, \"title\": \"The Strangers\", \"artist_name\": \"St. Vincent\", \"artist_latitude\": 19.40904, \"year\": 2009, \"duration\": 244.84526, \"artist_id\": \"AR0JBXL1187FB52810\", \"artist_longitude\": -99.14977, \"artist_location\": \"ORDER &#039;ACTOR&#039; ON INSOUND: <a href=\\\\\\\\\"http://www.insound.com/search/searchmain.jsp?query=st.+vincent+actor\\\\\\\\\" target=\\\\\\\\\"_blank\\\\\\\\\" rel=\\\\\\\\\"nofollow\\\\\\\\\" onmousedown=\\'UntrustedLink.bootstrap($(this), \\\\\\\\\"\\\\\\\\\", event)\\'>http://www.insound.com/search/searchmain.jsp?query=st.+vincent+actor</a>\"}                                                                                                                                                                                                                                                                                                                                                                                                                                                                                        ', '                                                                                                                                                                                                                                                                                                                                                                                                                                                                                                                                                                                                                                                                                                                                                                                                                                                                                                                                                                                                                                                                ', 1204, 'String length exceeds DDL length                                                                    '), (100, 5, 100696, datetime.datetime(2019, 6, 15, 5, 47, 1, 932163), 23197, 973, 's3://udacity-dend/song-data/D/E/L/TRDELHO128F428F612.json                                                                                                                                                                                                       ', 1, 'artist_location                                                                                                                ', 'varchar   ', '256       ', 0, '{\"song_id\": \"SOZJAHU12A8C139210\", \"num_songs\": 1, \"title\": \"Your Lips Are Red\", \"artist_name\": \"St. Vincent\", \"artist_latitude\": 19.40904, \"year\": 2007, \"duration\": 281.73016, \"artist_id\": \"AR0JBXL1187FB52810\", \"artist_longitude\": -99.14977, \"artist_location\": \"ORDER &#039;ACTOR&#039; ON INSOUND: <a href=\\\\\\\\\"http://www.insound.com/search/searchmain.jsp?query=st.+vincent+actor\\\\\\\\\" target=\\\\\\\\\"_blank\\\\\\\\\" rel=\\\\\\\\\"nofollow\\\\\\\\\" onmousedown=\\'UntrustedLink.bootstrap($(this), \\\\\\\\\"\\\\\\\\\", event)\\'>http://www.insound.com/search/searchmain.jsp?query=st.+vincent+actor</a>\"}                                                                                                                                                                                                                                                                                                                                                                                                                                                                                    ', '                                                                                                                                                                                                                                                                                                                                                                                                                                                                                                                                                                                                                                                                                                                                                                                                                                                                                                                                                                                                                                                                ', 1204, 'String length exceeds DDL length                                                                    '), (100, 2, 100630, datetime.datetime(2019, 6, 15, 5, 16, 8, 937607), 20469, 756, 's3://udacity-dend/song-data/D/E/L/TRDELHO128F428F612.json                                                                                                                                                                                                       ', 1, 'artist_location                                                                                                                ', 'varchar   ', '256       ', 0, '{\"song_id\": \"SOZJAHU12A8C139210\", \"num_songs\": 1, \"title\": \"Your Lips Are Red\", \"artist_name\": \"St. Vincent\", \"artist_latitude\": 19.40904, \"year\": 2007, \"duration\": 281.73016, \"artist_id\": \"AR0JBXL1187FB52810\", \"artist_longitude\": -99.14977, \"artist_location\": \"ORDER &#039;ACTOR&#039; ON INSOUND: <a href=\\\\\\\\\"http://www.insound.com/search/searchmain.jsp?query=st.+vincent+actor\\\\\\\\\" target=\\\\\\\\\"_blank\\\\\\\\\" rel=\\\\\\\\\"nofollow\\\\\\\\\" onmousedown=\\'UntrustedLink.bootstrap($(this), \\\\\\\\\"\\\\\\\\\", event)\\'>http://www.insound.com/search/searchmain.jsp?query=st.+vincent+actor</a>\"}                                                                                                                                                                                                                                                                                                                                                                                                                                                                                    ', '                                                                                                                                                                                                                                                                                                                                                                                                                                                                                                                                                                                                                                                                                                                                                                                                                                                                                                                                                                                                                                                                ', 1204, 'String length exceeds DDL length                                                                    '), (100, 3, 100696, datetime.datetime(2019, 6, 15, 5, 47, 1, 932163), 23197, 973, 's3://udacity-dend/song-data/A/Y/F/TRAYFUW128F428F618.json                                                                                                                                                                                                       ', 1, 'artist_location                                                                                                                ', 'varchar   ', '256       ', 0, '{\"song_id\": \"SORMAXQ12A8C139224\", \"num_songs\": 1, \"title\": \"Landmines\", \"artist_name\": \"St. Vincent\", \"artist_latitude\": 19.40904, \"year\": 2007, \"duration\": 307.53914, \"artist_id\": \"AR0JBXL1187FB52810\", \"artist_longitude\": -99.14977, \"artist_location\": \"ORDER &#039;ACTOR&#039; ON INSOUND: <a href=\\\\\\\\\"http://www.insound.com/search/searchmain.jsp?query=st.+vincent+actor\\\\\\\\\" target=\\\\\\\\\"_blank\\\\\\\\\" rel=\\\\\\\\\"nofollow\\\\\\\\\" onmousedown=\\'UntrustedLink.bootstrap($(this), \\\\\\\\\"\\\\\\\\\", event)\\'>http://www.insound.com/search/searchmain.jsp?query=st.+vincent+actor</a>\"}                                                                                                                                                                                                                                                                                                                                                                                                                                                                                            ', '                                                                                                                                                                                                                                                                                                                                                                                                                                                                                                                                                                                                                                                                                                                                                                                                                                                                                                                                                                                                                                                                ', 1204, 'String length exceeds DDL length                                                                    '), (100, 7, 100432, datetime.datetime(2019, 6, 15, 3, 42, 0, 87388), 12167, 91, 's3://udacity-dend/song-data/A/Y/F/TRAYFUW128F428F618.json                                                                                                                                                                                                       ', 1, 'artist_location                                                                                                                ', 'varchar   ', '256       ', 0, '{\"song_id\": \"SORMAXQ12A8C139224\", \"num_songs\": 1, \"title\": \"Landmines\", \"artist_name\": \"St. Vincent\", \"artist_latitude\": 19.40904, \"year\": 2007, \"duration\": 307.53914, \"artist_id\": \"AR0JBXL1187FB52810\", \"artist_longitude\": -99.14977, \"artist_location\": \"ORDER &#039;ACTOR&#039; ON INSOUND: <a href=\\\\\\\\\"http://www.insound.com/search/searchmain.jsp?query=st.+vincent+actor\\\\\\\\\" target=\\\\\\\\\"_blank\\\\\\\\\" rel=\\\\\\\\\"nofollow\\\\\\\\\" onmousedown=\\'UntrustedLink.bootstrap($(this), \\\\\\\\\"\\\\\\\\\", event)\\'>http://www.insound.com/search/searchmain.jsp?query=st.+vincent+actor</a>\"}                                                                                                                                                                                                                                                                                                                                                                                                                                                                                            ', '                                                                                                                                                                                                                                                                                                                                                                                                                                                                                                                                                                                                                                                                                                                                                                                                                                                                                                                                                                                                                                                                ', 1204, 'String length exceeds DDL length                                                                    '), (100, 7, 100498, datetime.datetime(2019, 6, 15, 4, 35, 41, 61796), 16097, 428, 's3://udacity-dend/song-data/C/A/R/TRCARJQ128F425A389.json                                                                                                                                                                                                       ', 1, 'artist_name                                                                                                                    ', 'varchar   ', '256       ', 0, '{\"song_id\": \"SOLAUEC12A8AE476BB\", \"num_songs\": 1, \"title\": \"Medication\", \"artist_name\": \"Spiritualized;Jason;Jason - Dulcimer/;Kate Radley - Vox continental/Farfisa/Tones/Drones/Tremeloes/;Sean Cook - Wha-monica/;Mark Refoy;Jon Mattock;Icon Hunt;Stuart Gordon;Balanescu Quartet;Rico;Rico - Tam Tam/;Bammie;Tim Sanders;Roddy Lorimar;Steve Sidwell;Chris Sharrack;Caroline Crawley;Marilyn McFarlane;Helen White\", \"artist_latitude\": null, \"year\": 0, \"duration\": 498.72934, \"artist_id\": \"ARVHQMD1269FB25AE7\", \"artist_longitude\": null, \"artist_location\": \"\"}                                                                                                                                                                                                                                                                                                                                                                                                                                                                                        ', '                                                                                                                                                                                                                                                                                                                                                                                                                                                                                                                                                                                                                                                                                                                                                                                                                                                                                                                                                                                                                                                                ', 1204, 'String length exceeds DDL length                                                                    '), (100, 7, 100564, datetime.datetime(2019, 6, 15, 4, 48, 57, 361875), 17548, 555, 's3://udacity-dend/song-data/A/Y/F/TRAYFUW128F428F618.json                                                                                                                                                                                                       ', 1, 'artist_location                                                                                                                ', 'varchar   ', '256       ', 0, '{\"song_id\": \"SORMAXQ12A8C139224\", \"num_songs\": 1, \"title\": \"Landmines\", \"artist_name\": \"St. Vincent\", \"artist_latitude\": 19.40904, \"year\": 2007, \"duration\": 307.53914, \"artist_id\": \"AR0JBXL1187FB52810\", \"artist_longitude\": -99.14977, \"artist_location\": \"ORDER &#039;ACTOR&#039; ON INSOUND: <a href=\\\\\\\\\"http://www.insound.com/search/searchmain.jsp?query=st.+vincent+actor\\\\\\\\\" target=\\\\\\\\\"_blank\\\\\\\\\" rel=\\\\\\\\\"nofollow\\\\\\\\\" onmousedown=\\'UntrustedLink.bootstrap($(this), \\\\\\\\\"\\\\\\\\\", event)\\'>http://www.insound.com/search/searchmain.jsp?query=st.+vincent+actor</a>\"}                                                                                                                                                                                                                                                                                                                                                                                                                                                                                            ', '                                                                                                                                                                                                                                                                                                                                                                                                                                                                                                                                                                                                                                                                                                                                                                                                                                                                                                                                                                                                                                                                ', 1204, 'String length exceeds DDL length                                                                    '), (100, 0, 100432, datetime.datetime(2019, 6, 15, 3, 42, 0, 87388), 12167, 91, 's3://udacity-dend/song-data/C/W/V/TRCWVDW128F425A38A.json                                                                                                                                                                                                       ', 1, 'artist_name                                                                                                                    ', 'varchar   ', '256       ', 0, '{\"song_id\": \"SOORTJE12A8AE476BD\", \"num_songs\": 1, \"title\": \"Electric Phase\", \"artist_name\": \"Spiritualized;Jason;Jason - Dulcimer/;Kate Radley - Vox continental/Farfisa/Tones/Drones/Tremeloes/;Sean Cook - Wha-monica/;Mark Refoy;Jon Mattock;Icon Hunt;Stuart Gordon;Balanescu Quartet;Rico;Rico - Tam Tam/;Bammie;Tim Sanders;Roddy Lorimar;Steve Sidwell;Chris Sharrack;Caroline Crawley;Marilyn McFarlane;Helen White\", \"artist_latitude\": null, \"year\": 0, \"duration\": 93.75302, \"artist_id\": \"ARVHQMD1269FB25AE7\", \"artist_longitude\": null, \"artist_location\": \"\"}                                                                                                                                                                                                                                                                                                                                                                                                                                                                                     ', '                                                                                                                                                                                                                                                                                                                                                                                                                                                                                                                                                                                                                                                                                                                                                                                                                                                                                                                                                                                                                                                                ', 1204, 'String length exceeds DDL length                                                                    '), (100, 0, 100498, datetime.datetime(2019, 6, 15, 4, 35, 41, 61796), 16097, 428, 's3://udacity-dend/song-data/A/Y/F/TRAYFUW128F428F618.json                                                                                                                                                                                                       ', 1, 'artist_location                                                                                                                ', 'varchar   ', '256       ', 0, '{\"song_id\": \"SORMAXQ12A8C139224\", \"num_songs\": 1, \"title\": \"Landmines\", \"artist_name\": \"St. Vincent\", \"artist_latitude\": 19.40904, \"year\": 2007, \"duration\": 307.53914, \"artist_id\": \"AR0JBXL1187FB52810\", \"artist_longitude\": -99.14977, \"artist_location\": \"ORDER &#039;ACTOR&#039; ON INSOUND: <a href=\\\\\\\\\"http://www.insound.com/search/searchmain.jsp?query=st.+vincent+actor\\\\\\\\\" target=\\\\\\\\\"_blank\\\\\\\\\" rel=\\\\\\\\\"nofollow\\\\\\\\\" onmousedown=\\'UntrustedLink.bootstrap($(this), \\\\\\\\\"\\\\\\\\\", event)\\'>http://www.insound.com/search/searchmain.jsp?query=st.+vincent+actor</a>\"}                                                                                                                                                                                                                                                                                                                                                                                                                                                                                            ', '                                                                                                                                                                                                                                                                                                                                                                                                                                                                                                                                                                                                                                                                                                                                                                                                                                                                                                                                                                                                                                                                ', 1204, 'String length exceeds DDL length                                                                    '), (100, 1, 100564, datetime.datetime(2019, 6, 15, 4, 48, 57, 361875), 17548, 555, 's3://udacity-dend/song-data/D/E/L/TRDELHO128F428F612.json                                                                                                                                                                                                       ', 1, 'artist_location                                                                                                                ', 'varchar   ', '256       ', 0, '{\"song_id\": \"SOZJAHU12A8C139210\", \"num_songs\": 1, \"title\": \"Your Lips Are Red\", \"artist_name\": \"St. Vincent\", \"artist_latitude\": 19.40904, \"year\": 2007, \"duration\": 281.73016, \"artist_id\": \"AR0JBXL1187FB52810\", \"artist_longitude\": -99.14977, \"artist_location\": \"ORDER &#039;ACTOR&#039; ON INSOUND: <a href=\\\\\\\\\"http://www.insound.com/search/searchmain.jsp?query=st.+vincent+actor\\\\\\\\\" target=\\\\\\\\\"_blank\\\\\\\\\" rel=\\\\\\\\\"nofollow\\\\\\\\\" onmousedown=\\'UntrustedLink.bootstrap($(this), \\\\\\\\\"\\\\\\\\\", event)\\'>http://www.insound.com/search/searchmain.jsp?query=st.+vincent+actor</a>\"}                                                                                                                                                                                                                                                                                                                                                                                                                                                                                    ', '                                                                                                                                                                                                                                                                                                                                                                                                                                                                                                                                                                                                                                                                                                                                                                                                                                                                                                                                                                                                                                                                ', 1204, 'String length exceeds DDL length                                                                    '), (100, 0, 100630, datetime.datetime(2019, 6, 15, 5, 16, 8, 937607), 20469, 756, 's3://udacity-dend/song-data/A/Y/F/TRAYFUW128F428F618.json                                                                                                                                                                                                       ', 1, 'artist_location                                                                                                                ', 'varchar   ', '256       ', 0, '{\"song_id\": \"SORMAXQ12A8C139224\", \"num_songs\": 1, \"title\": \"Landmines\", \"artist_name\": \"St. Vincent\", \"artist_latitude\": 19.40904, \"year\": 2007, \"duration\": 307.53914, \"artist_id\": \"AR0JBXL1187FB52810\", \"artist_longitude\": -99.14977, \"artist_location\": \"ORDER &#039;ACTOR&#039; ON INSOUND: <a href=\\\\\\\\\"http://www.insound.com/search/searchmain.jsp?query=st.+vincent+actor\\\\\\\\\" target=\\\\\\\\\"_blank\\\\\\\\\" rel=\\\\\\\\\"nofollow\\\\\\\\\" onmousedown=\\'UntrustedLink.bootstrap($(this), \\\\\\\\\"\\\\\\\\\", event)\\'>http://www.insound.com/search/searchmain.jsp?query=st.+vincent+actor</a>\"}                                                                                                                                                                                                                                                                                                                                                                                                                                                                                            ', '                                                                                                                                                                                                                                                                                                                                                                                                                                                                                                                                                                                                                                                                                                                                                                                                                                                                                                                                                                                                                                                                ', 1204, 'String length exceeds DDL length                                                                    '), (100, 1, 100696, datetime.datetime(2019, 6, 15, 5, 47, 1, 932163), 23197, 973, 's3://udacity-dend/song-data/F/R/I/TRFRIXO128F428A233.json                                                                                                                                                                                                       ', 1, 'artist_location                                                                                                                ', 'varchar   ', '256       ', 0, '{\"song_id\": \"SOYFEAR12A8C139481\", \"num_songs\": 1, \"title\": \"Now_ Now\", \"artist_name\": \"St. Vincent\", \"artist_latitude\": 19.40904, \"year\": 0, \"duration\": 267.7024, \"artist_id\": \"AR0JBXL1187FB52810\", \"artist_longitude\": -99.14977, \"artist_location\": \"ORDER &#039;ACTOR&#039; ON INSOUND: <a href=\\\\\\\\\"http://www.insound.com/search/searchmain.jsp?query=st.+vincent+actor\\\\\\\\\" target=\\\\\\\\\"_blank\\\\\\\\\" rel=\\\\\\\\\"nofollow\\\\\\\\\" onmousedown=\\'UntrustedLink.bootstrap($(this), \\\\\\\\\"\\\\\\\\\", event)\\'>http://www.insound.com/search/searchmain.jsp?query=st.+vincent+actor</a>\"}                                                                                                                                                                                                                                                                                                                                                                                                                                                                                                 ', '                                                                                                                                                                                                                                                                                                                                                                                                                                                                                                                                                                                                                                                                                                                                                                                                                                                                                                                                                                                                                                                                ', 1204, 'String length exceeds DDL length                                                                    '), (100, 6, 100630, datetime.datetime(2019, 6, 15, 5, 16, 8, 937607), 20469, 756, 's3://udacity-dend/song-data/F/R/I/TRFRIXO128F428A233.json                                                                                                                                                                                                       ', 1, 'artist_location                                                                                                                ', 'varchar   ', '256       ', 0, '{\"song_id\": \"SOYFEAR12A8C139481\", \"num_songs\": 1, \"title\": \"Now_ Now\", \"artist_name\": \"St. Vincent\", \"artist_latitude\": 19.40904, \"year\": 0, \"duration\": 267.7024, \"artist_id\": \"AR0JBXL1187FB52810\", \"artist_longitude\": -99.14977, \"artist_location\": \"ORDER &#039;ACTOR&#039; ON INSOUND: <a href=\\\\\\\\\"http://www.insound.com/search/searchmain.jsp?query=st.+vincent+actor\\\\\\\\\" target=\\\\\\\\\"_blank\\\\\\\\\" rel=\\\\\\\\\"nofollow\\\\\\\\\" onmousedown=\\'UntrustedLink.bootstrap($(this), \\\\\\\\\"\\\\\\\\\", event)\\'>http://www.insound.com/search/searchmain.jsp?query=st.+vincent+actor</a>\"}                                                                                                                                                                                                                                                                                                                                                                                                                                                                                                 ', '                                                                                                                                                                                                                                                                                                                                                                                                                                                                                                                                                                                                                                                                                                                                                                                                                                                                                                                                                                                                                                                                ', 1204, 'String length exceeds DDL length                                                                    '), (100, 6, 100696, datetime.datetime(2019, 6, 15, 5, 47, 1, 932163), 23197, 973, 's3://udacity-dend/song-data/D/M/R/TRDMRMV128F9330FC2.json                                                                                                                                                                                                       ', 1, 'artist_location                                                                                                                ', 'varchar   ', '256       ', 0, '{\"song_id\": \"SORMPUE12AB0182F1F\", \"num_songs\": 1, \"title\": \"The Strangers\", \"artist_name\": \"St. Vincent\", \"artist_latitude\": 19.40904, \"year\": 2009, \"duration\": 244.84526, \"artist_id\": \"AR0JBXL1187FB52810\", \"artist_longitude\": -99.14977, \"artist_location\": \"ORDER &#039;ACTOR&#039; ON INSOUND: <a href=\\\\\\\\\"http://www.insound.com/search/searchmain.jsp?query=st.+vincent+actor\\\\\\\\\" target=\\\\\\\\\"_blank\\\\\\\\\" rel=\\\\\\\\\"nofollow\\\\\\\\\" onmousedown=\\'UntrustedLink.bootstrap($(this), \\\\\\\\\"\\\\\\\\\", event)\\'>http://www.insound.com/search/searchmain.jsp?query=st.+vincent+actor</a>\"}                                                                                                                                                                                                                                                                                                                                                                                                                                                                                        ', '                                                                                                                                                                                                                                                                                                                                                                                                                                                                                                                                                                                                                                                                                                                                                                                                                                                                                                                                                                                                                                                                ', 1204, 'String length exceeds DDL length                                                                    ')]\n"
     ]
    }
   ],
   "source": [
    "query = \"SELECT * FROM stl_load_errors\"\n",
    "cur.execute(query)\n",
    "row = cur.fetchall()\n",
    "print(row)"
   ]
  },
  {
   "cell_type": "markdown",
   "metadata": {},
   "source": [
    "**Roll UP** How many Songs is played in each month in 2018?"
   ]
  },
  {
   "cell_type": "code",
   "execution_count": null,
   "metadata": {},
   "outputs": [],
   "source": [
    "query = \"\"\"\n",
    "SELECT COUNT(*)\n",
    "FROM songPlay p JOIN dimTime t ON p.start_date = t.start_date\n",
    "GROUP BY t.month\n",
    "having t.year = 2018\n",
    "LIMIT 10\"\"\"\n",
    "\n",
    "cur.execute(query)\n",
    "row = cur.fetchall()\n",
    "print(row)"
   ]
  },
  {
   "cell_type": "markdown",
   "metadata": {},
   "source": [
    "**Drill Down** How many song is played in 2018 July's each week?"
   ]
  },
  {
   "cell_type": "code",
   "execution_count": null,
   "metadata": {},
   "outputs": [],
   "source": [
    "query = \"\"\"\n",
    "SELECT COUNT(*)\n",
    "FROM songPlay p JOIN dimTime t ON p.start_date = t.start_date\n",
    "GROUP BY t.week\n",
    "HAVING t.year = 2018 AND t.month = 7\n",
    "LIMIT 10\"\"\"\n",
    "cur.execute(query)\n",
    "row = cur.fetchall()\n",
    "print(row)"
   ]
  },
  {
   "cell_type": "markdown",
   "metadata": {},
   "source": [
    "**Slicing** How many femals are free users?"
   ]
  },
  {
   "cell_type": "code",
   "execution_count": null,
   "metadata": {},
   "outputs": [],
   "source": [
    "query = \"\"\"\n",
    "SELECT COUNT(*)\n",
    "FROM songPlay p JOIN dimUser u ON p.user_id = u.user_id\n",
    "WHERE u.gender = 'M' AND u.level = 'free'\n",
    "LIMIT 10\"\"\"\n",
    "cur.execute(query)\n",
    "row = cur.fetchall()\n",
    "print(row)"
   ]
  },
  {
   "cell_type": "markdown",
   "metadata": {},
   "source": [
    "**Dicing** Which song has been listened the most times during Summer(June - August)?"
   ]
  },
  {
   "cell_type": "code",
   "execution_count": null,
   "metadata": {},
   "outputs": [],
   "source": [
    "query = \"\"\"\n",
    "SELECT COUNT(*)\n",
    "FROM songPlay p JOIN dimTime t ON p.start_date = t.start_date\n",
    "GROUP BY p.song_id\n",
    "HAVING t.month in (6,7,8)\n",
    "LIMIT 10\"\"\"\n",
    "cur.execute(query)\n",
    "row = cur.fetchall()\n",
    "print(row)"
   ]
  },
  {
   "cell_type": "code",
   "execution_count": null,
   "metadata": {},
   "outputs": [],
   "source": []
  }
 ],
 "metadata": {
  "kernelspec": {
   "display_name": "Python 3",
   "language": "python",
   "name": "python3"
  },
  "language_info": {
   "codemirror_mode": {
    "name": "ipython",
    "version": 3
   },
   "file_extension": ".py",
   "mimetype": "text/x-python",
   "name": "python",
   "nbconvert_exporter": "python",
   "pygments_lexer": "ipython3",
   "version": "3.7.3"
  }
 },
 "nbformat": 4,
 "nbformat_minor": 2
}
