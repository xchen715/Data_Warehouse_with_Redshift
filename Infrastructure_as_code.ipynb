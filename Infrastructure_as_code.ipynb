{
 "cells": [
  {
   "cell_type": "markdown",
   "metadata": {},
   "source": [
    "# **Infrastructure as Code**"
   ]
  },
  {
   "cell_type": "code",
   "execution_count": 2,
   "metadata": {},
   "outputs": [],
   "source": [
    "import boto3\n",
    "import configparser\n",
    "import json\n",
    "import pandas as pd\n",
    "import psycopg2"
   ]
  },
  {
   "cell_type": "code",
   "execution_count": 18,
   "metadata": {},
   "outputs": [],
   "source": [
    "config = configparser.ConfigParser()\n",
    "config.read_file(open('/home/wilson/Data_Engineering_NanoDegree/AWS_Keys/dwh.cfg'))\n",
    "\n",
    "# Access AWS\n",
    "KEY = config.get('AWS','KEY') \n",
    "SECRET = config.get('AWS','SECRET') \n",
    "\n",
    "# DATA WARE HOUSE Confi\n",
    "# Cluster\n",
    "CLUSTER_TYPE = config.get('CLUSTER','CLUSTER_TYPE')\n",
    "NUM_NODES = config.get('CLUSTER','NUM_NODES')\n",
    "NODE_TYPE = config.get('CLUSTER','NODE_TYPE')\n",
    "\n",
    "IAM_ROLE_NAME = config.get('CLUSTER','IAM_ROLE_NAME')\n",
    "CLUSTER_IDENTIFIER = config.get('CLUSTER','CLUSTER_IDENTIFIER')\n",
    "\n",
    "HOST = config.get('CLUSTER','host')\n",
    "DB_NAME = config.get('CLUSTER','DB_NAME')\n",
    "DB_USER = config.get('CLUSTER','DB_USER')\n",
    "DB_PASSWORD = config.get('CLUSTER','DB_PASSWORD')\n",
    "DB_PORT = config.get('CLUSTER','DB_PORT')\n",
    "\n",
    "# IAM_ROLE \n",
    "ARN = config.get('IAM_ROLE','ARN')\n",
    "\n",
    "# S3\n",
    "LOG_DATA = config.get('S3','LOG_DATA')\n",
    "LOG_JSONPATH = config.get('S3','LOG_JSONPATH')\n",
    "SONG_DATA = config.get('S3','SONG_DATA')\n"
   ]
  },
  {
   "cell_type": "code",
   "execution_count": 24,
   "metadata": {},
   "outputs": [],
   "source": [
    "# Clients for EC2, S3, IAM, RedShift\n",
    "ec2 = boto3.resource('ec2',\n",
    "                    region_name='us-west-2',\n",
    "                    aws_access_key_id=KEY,\n",
    "                    aws_secret_access_key=SECRET\n",
    "                    )\n",
    "\n",
    "s3 = boto3.resource('s3',\n",
    "                  region_name='us-west-2',\n",
    "                  aws_access_key_id=KEY,\n",
    "                  aws_secret_access_key=SECRET)\n",
    "\n",
    "iam = boto3.client('iam',\n",
    "                  region_name='us-west-2',\n",
    "                  aws_access_key_id=KEY,\n",
    "                  aws_secret_access_key=SECRET)\n",
    "\n",
    "redshift = boto3.client('redshift',\n",
    "                  region_name='us-west-2',\n",
    "                  aws_access_key_id=KEY,\n",
    "                  aws_secret_access_key=SECRET)"
   ]
  },
  {
   "cell_type": "code",
   "execution_count": 25,
   "metadata": {},
   "outputs": [
    {
     "name": "stdout",
     "output_type": "stream",
     "text": [
      "'s3://udacity-dend/song-data'\n",
      "'s3://udacity-dend/log-data'\n"
     ]
    }
   ],
   "source": [
    "# Check Data Set on S3\n",
    "print(SONG_DATA)\n",
    "print(LOG_DATA)"
   ]
  },
  {
   "cell_type": "code",
   "execution_count": 21,
   "metadata": {},
   "outputs": [
    {
     "name": "stdout",
     "output_type": "stream",
     "text": [
      "s3.ObjectSummary(bucket_name='udacity-dend', key='song-data/A/A/A/TRAAAYL128F4271A5B.json')\n"
     ]
    }
   ],
   "source": [
    "source_bucket =  s3.Bucket('udacity-dend')\n",
    "\n",
    "\n",
    "for obj in source_bucket.objects.filter(Prefix='song-data/A/A/A/TRAAAY'):\n",
    "    print(obj)"
   ]
  },
  {
   "cell_type": "code",
   "execution_count": 22,
   "metadata": {},
   "outputs": [
    {
     "name": "stdout",
     "output_type": "stream",
     "text": [
      "s3.ObjectSummary(bucket_name='udacity-dend', key='log-data/2018/11/2018-11-01-events.json')\n"
     ]
    }
   ],
   "source": [
    "for obj in source_bucket.objects.filter(Prefix='log-data/2018/11/2018-11-01'):\n",
    "    print(obj)"
   ]
  },
  {
   "cell_type": "markdown",
   "metadata": {},
   "source": [
    "## Create IAM role for Reshift to access S3"
   ]
  },
  {
   "cell_type": "code",
   "execution_count": 29,
   "metadata": {},
   "outputs": [
    {
     "name": "stdout",
     "output_type": "stream",
     "text": [
      "Creating a new IAM Role\n"
     ]
    }
   ],
   "source": [
    "# Create the IAM role for Redshift to access S3\n",
    "try:\n",
    "    print('Creating a new IAM Role')\n",
    "    dwhRole = iam.create_role(Path='/',\n",
    "                             RoleName=IAM_ROLE_NAME,\n",
    "                             Description = \"Allows Redshift clusters to call AWS services on your behalf.\",\n",
    "                             AssumeRolePolicyDocument=json.dumps(\n",
    "                             {'Statement': [{'Action': 'sts:AssumeRole',\n",
    "                                            'Effect': 'Allow',\n",
    "                                            'Principal': {'Service': 'redshift.amazonaws.com'}}],\n",
    "                             'Version':'2012-10-17'}))\n",
    "    \n",
    "\n",
    "except Exception as e:\n",
    "    print(e)"
   ]
  },
  {
   "cell_type": "code",
   "execution_count": 30,
   "metadata": {},
   "outputs": [
    {
     "data": {
      "text/plain": [
       "200"
      ]
     },
     "execution_count": 30,
     "metadata": {},
     "output_type": "execute_result"
    }
   ],
   "source": [
    "# Attach Policy to IAM Role\n",
    "iam.attach_role_policy(RoleName = IAM_ROLE_NAME,\n",
    "                      PolicyArn=\"arn:aws:iam::aws:policy/AmazonS3ReadOnlyAccess\")['ResponseMetadata']['HTTPStatusCode']"
   ]
  },
  {
   "cell_type": "code",
   "execution_count": 31,
   "metadata": {},
   "outputs": [
    {
     "name": "stdout",
     "output_type": "stream",
     "text": [
      "arn:aws:iam::475103112026:role/dwhRole\n"
     ]
    }
   ],
   "source": [
    "# Get IAM role Arn\n",
    "roleArn = iam.get_role(RoleName = IAM_ROLE_NAME)['Role']['Arn']\n",
    "print(roleArn)"
   ]
  },
  {
   "cell_type": "markdown",
   "metadata": {},
   "source": [
    "## Create Redshift Cluster"
   ]
  },
  {
   "cell_type": "code",
   "execution_count": 32,
   "metadata": {},
   "outputs": [],
   "source": [
    "try:\n",
    "    response = redshift.create_cluster(        \n",
    "        # parameters for hardware\n",
    "        ClusterType=CLUSTER_TYPE,\n",
    "        NodeType=NODE_TYPE,\n",
    "        NumberOfNodes=int(NUM_NODES),\n",
    "\n",
    "        # parameters for identifiers & credentials\n",
    "        DBName=DB_NAME,\n",
    "        ClusterIdentifier=CLUSTER_IDENTIFIER,\n",
    "        MasterUsername=DB_USER,\n",
    "        MasterUserPassword=DB_PASSWORD,\n",
    "        \n",
    "        # parameter for role (to allow s3 access)\n",
    "        IamRoles=[roleArn]\n",
    "    )\n",
    "except Exception as e:\n",
    "    print(e)"
   ]
  },
  {
   "cell_type": "code",
   "execution_count": 40,
   "metadata": {},
   "outputs": [
    {
     "ename": "ClusterNotFoundFault",
     "evalue": "An error occurred (ClusterNotFound) when calling the DescribeClusters operation: Cluster dwhcluster not found.",
     "output_type": "error",
     "traceback": [
      "\u001b[0;31m---------------------------------------------------------------------------\u001b[0m",
      "\u001b[0;31mClusterNotFoundFault\u001b[0m                      Traceback (most recent call last)",
      "\u001b[0;32m<ipython-input-40-b8d19f0254ed>\u001b[0m in \u001b[0;36m<module>\u001b[0;34m\u001b[0m\n\u001b[1;32m      5\u001b[0m     \u001b[0;32mreturn\u001b[0m \u001b[0mpd\u001b[0m\u001b[0;34m.\u001b[0m\u001b[0mDataFrame\u001b[0m\u001b[0;34m(\u001b[0m\u001b[0mdata\u001b[0m\u001b[0;34m=\u001b[0m\u001b[0mx\u001b[0m\u001b[0;34m,\u001b[0m \u001b[0mcolumns\u001b[0m\u001b[0;34m=\u001b[0m\u001b[0;34m[\u001b[0m\u001b[0;34m\"Key\"\u001b[0m\u001b[0;34m,\u001b[0m \u001b[0;34m\"Value\"\u001b[0m\u001b[0;34m]\u001b[0m\u001b[0;34m)\u001b[0m\u001b[0;34m\u001b[0m\u001b[0;34m\u001b[0m\u001b[0m\n\u001b[1;32m      6\u001b[0m \u001b[0;34m\u001b[0m\u001b[0m\n\u001b[0;32m----> 7\u001b[0;31m \u001b[0mmyClusterProps\u001b[0m \u001b[0;34m=\u001b[0m \u001b[0mredshift\u001b[0m\u001b[0;34m.\u001b[0m\u001b[0mdescribe_clusters\u001b[0m\u001b[0;34m(\u001b[0m\u001b[0mClusterIdentifier\u001b[0m\u001b[0;34m=\u001b[0m\u001b[0mCLUSTER_IDENTIFIER\u001b[0m\u001b[0;34m)\u001b[0m\u001b[0;34m[\u001b[0m\u001b[0;34m'Clusters'\u001b[0m\u001b[0;34m]\u001b[0m\u001b[0;34m[\u001b[0m\u001b[0;36m0\u001b[0m\u001b[0;34m]\u001b[0m\u001b[0;34m\u001b[0m\u001b[0;34m\u001b[0m\u001b[0m\n\u001b[0m\u001b[1;32m      8\u001b[0m \u001b[0mprettyRedshiftProps\u001b[0m\u001b[0;34m(\u001b[0m\u001b[0mmyClusterProps\u001b[0m\u001b[0;34m)\u001b[0m\u001b[0;34m\u001b[0m\u001b[0;34m\u001b[0m\u001b[0m\n",
      "\u001b[0;32m~/anaconda3/lib/python3.7/site-packages/botocore/client.py\u001b[0m in \u001b[0;36m_api_call\u001b[0;34m(self, *args, **kwargs)\u001b[0m\n\u001b[1;32m    355\u001b[0m                     \"%s() only accepts keyword arguments.\" % py_operation_name)\n\u001b[1;32m    356\u001b[0m             \u001b[0;31m# The \"self\" in this scope is referring to the BaseClient.\u001b[0m\u001b[0;34m\u001b[0m\u001b[0;34m\u001b[0m\u001b[0;34m\u001b[0m\u001b[0m\n\u001b[0;32m--> 357\u001b[0;31m             \u001b[0;32mreturn\u001b[0m \u001b[0mself\u001b[0m\u001b[0;34m.\u001b[0m\u001b[0m_make_api_call\u001b[0m\u001b[0;34m(\u001b[0m\u001b[0moperation_name\u001b[0m\u001b[0;34m,\u001b[0m \u001b[0mkwargs\u001b[0m\u001b[0;34m)\u001b[0m\u001b[0;34m\u001b[0m\u001b[0;34m\u001b[0m\u001b[0m\n\u001b[0m\u001b[1;32m    358\u001b[0m \u001b[0;34m\u001b[0m\u001b[0m\n\u001b[1;32m    359\u001b[0m         \u001b[0m_api_call\u001b[0m\u001b[0;34m.\u001b[0m\u001b[0m__name__\u001b[0m \u001b[0;34m=\u001b[0m \u001b[0mstr\u001b[0m\u001b[0;34m(\u001b[0m\u001b[0mpy_operation_name\u001b[0m\u001b[0;34m)\u001b[0m\u001b[0;34m\u001b[0m\u001b[0;34m\u001b[0m\u001b[0m\n",
      "\u001b[0;32m~/anaconda3/lib/python3.7/site-packages/botocore/client.py\u001b[0m in \u001b[0;36m_make_api_call\u001b[0;34m(self, operation_name, api_params)\u001b[0m\n\u001b[1;32m    659\u001b[0m             \u001b[0merror_code\u001b[0m \u001b[0;34m=\u001b[0m \u001b[0mparsed_response\u001b[0m\u001b[0;34m.\u001b[0m\u001b[0mget\u001b[0m\u001b[0;34m(\u001b[0m\u001b[0;34m\"Error\"\u001b[0m\u001b[0;34m,\u001b[0m \u001b[0;34m{\u001b[0m\u001b[0;34m}\u001b[0m\u001b[0;34m)\u001b[0m\u001b[0;34m.\u001b[0m\u001b[0mget\u001b[0m\u001b[0;34m(\u001b[0m\u001b[0;34m\"Code\"\u001b[0m\u001b[0;34m)\u001b[0m\u001b[0;34m\u001b[0m\u001b[0;34m\u001b[0m\u001b[0m\n\u001b[1;32m    660\u001b[0m             \u001b[0merror_class\u001b[0m \u001b[0;34m=\u001b[0m \u001b[0mself\u001b[0m\u001b[0;34m.\u001b[0m\u001b[0mexceptions\u001b[0m\u001b[0;34m.\u001b[0m\u001b[0mfrom_code\u001b[0m\u001b[0;34m(\u001b[0m\u001b[0merror_code\u001b[0m\u001b[0;34m)\u001b[0m\u001b[0;34m\u001b[0m\u001b[0;34m\u001b[0m\u001b[0m\n\u001b[0;32m--> 661\u001b[0;31m             \u001b[0;32mraise\u001b[0m \u001b[0merror_class\u001b[0m\u001b[0;34m(\u001b[0m\u001b[0mparsed_response\u001b[0m\u001b[0;34m,\u001b[0m \u001b[0moperation_name\u001b[0m\u001b[0;34m)\u001b[0m\u001b[0;34m\u001b[0m\u001b[0;34m\u001b[0m\u001b[0m\n\u001b[0m\u001b[1;32m    662\u001b[0m         \u001b[0;32melse\u001b[0m\u001b[0;34m:\u001b[0m\u001b[0;34m\u001b[0m\u001b[0;34m\u001b[0m\u001b[0m\n\u001b[1;32m    663\u001b[0m             \u001b[0;32mreturn\u001b[0m \u001b[0mparsed_response\u001b[0m\u001b[0;34m\u001b[0m\u001b[0;34m\u001b[0m\u001b[0m\n",
      "\u001b[0;31mClusterNotFoundFault\u001b[0m: An error occurred (ClusterNotFound) when calling the DescribeClusters operation: Cluster dwhcluster not found."
     ]
    }
   ],
   "source": [
    "def prettyRedshiftProps(props):\n",
    "    pd.set_option('display.max_colwidth', -1)\n",
    "    keysToShow = [\"ClusterIdentifier\", \"NodeType\", \"ClusterStatus\", \"MasterUsername\", \"DBName\", \"Endpoint\", \"NumberOfNodes\", 'VpcId']\n",
    "    x = [(k, v) for k,v in props.items() if k in keysToShow]\n",
    "    return pd.DataFrame(data=x, columns=[\"Key\", \"Value\"])\n",
    "\n",
    "myClusterProps = redshift.describe_clusters(ClusterIdentifier=CLUSTER_IDENTIFIER)['Clusters'][0]\n",
    "prettyRedshiftProps(myClusterProps)"
   ]
  },
  {
   "cell_type": "markdown",
   "metadata": {},
   "source": [
    "## Notes for ARN and DB ENDPOINT"
   ]
  },
  {
   "cell_type": "code",
   "execution_count": 37,
   "metadata": {},
   "outputs": [
    {
     "name": "stdout",
     "output_type": "stream",
     "text": [
      "DWH_ENDPOINT ::  dwhcluster.cmyptj7fsclo.us-west-2.redshift.amazonaws.com\n",
      "DWH_ROLE_ARN ::  arn:aws:iam::475103112026:role/dwhRole\n"
     ]
    }
   ],
   "source": [
    "ENDPOINT = myClusterProps['Endpoint']['Address']\n",
    "ROLE_ARN = myClusterProps['IamRoles'][0]['IamRoleArn']\n",
    "print(\"DWH_ENDPOINT :: \", ENDPOINT)\n",
    "print(\"DWH_ROLE_ARN :: \", ROLE_ARN)"
   ]
  },
  {
   "cell_type": "code",
   "execution_count": 38,
   "metadata": {},
   "outputs": [
    {
     "data": {
      "text/plain": [
       "{'Cluster': {'ClusterIdentifier': 'dwhcluster',\n",
       "  'NodeType': 'dc2.large',\n",
       "  'ClusterStatus': 'deleting',\n",
       "  'MasterUsername': 'dwhuser',\n",
       "  'DBName': 'dwh',\n",
       "  'Endpoint': {'Address': 'dwhcluster.cmyptj7fsclo.us-west-2.redshift.amazonaws.com',\n",
       "   'Port': 5439},\n",
       "  'ClusterCreateTime': datetime.datetime(2019, 6, 15, 19, 28, 16, 205000, tzinfo=tzutc()),\n",
       "  'AutomatedSnapshotRetentionPeriod': 1,\n",
       "  'ManualSnapshotRetentionPeriod': -1,\n",
       "  'ClusterSecurityGroups': [],\n",
       "  'VpcSecurityGroups': [],\n",
       "  'ClusterParameterGroups': [{'ParameterGroupName': 'default.redshift-1.0',\n",
       "    'ParameterApplyStatus': 'in-sync'}],\n",
       "  'ClusterSubnetGroupName': 'default',\n",
       "  'VpcId': 'vpc-8cef5bf4',\n",
       "  'AvailabilityZone': 'us-west-2c',\n",
       "  'PreferredMaintenanceWindow': 'sat:09:30-sat:10:00',\n",
       "  'PendingModifiedValues': {},\n",
       "  'ClusterVersion': '1.0',\n",
       "  'AllowVersionUpgrade': True,\n",
       "  'NumberOfNodes': 4,\n",
       "  'PubliclyAccessible': True,\n",
       "  'Encrypted': False,\n",
       "  'Tags': [],\n",
       "  'EnhancedVpcRouting': False,\n",
       "  'IamRoles': [{'IamRoleArn': 'arn:aws:iam::475103112026:role/dwhRole',\n",
       "    'ApplyStatus': 'in-sync'}],\n",
       "  'MaintenanceTrackName': 'current',\n",
       "  'DeferredMaintenanceWindows': []},\n",
       " 'ResponseMetadata': {'RequestId': '61047a8e-8fa5-11e9-af58-e558c537f232',\n",
       "  'HTTPStatusCode': 200,\n",
       "  'HTTPHeaders': {'x-amzn-requestid': '61047a8e-8fa5-11e9-af58-e558c537f232',\n",
       "   'content-type': 'text/xml',\n",
       "   'content-length': '2041',\n",
       "   'date': 'Sat, 15 Jun 2019 19:40:06 GMT'},\n",
       "  'RetryAttempts': 0}}"
      ]
     },
     "execution_count": 38,
     "metadata": {},
     "output_type": "execute_result"
    }
   ],
   "source": [
    "#### CAREFUL!!\n",
    "#-- Uncomment & run to delete the created resources\n",
    "redshift.delete_cluster( ClusterIdentifier=CLUSTER_IDENTIFIER,  SkipFinalClusterSnapshot=True)\n",
    "#### CAREFUL!!"
   ]
  },
  {
   "cell_type": "code",
   "execution_count": 41,
   "metadata": {},
   "outputs": [
    {
     "ename": "NoSuchEntityException",
     "evalue": "An error occurred (NoSuchEntity) when calling the DetachRolePolicy operation: The role with name dwhRole cannot be found.",
     "output_type": "error",
     "traceback": [
      "\u001b[0;31m---------------------------------------------------------------------------\u001b[0m",
      "\u001b[0;31mNoSuchEntityException\u001b[0m                     Traceback (most recent call last)",
      "\u001b[0;32m<ipython-input-41-32f4678e9e59>\u001b[0m in \u001b[0;36m<module>\u001b[0;34m\u001b[0m\n\u001b[1;32m      1\u001b[0m \u001b[0;31m# Delete IAM role\u001b[0m\u001b[0;34m\u001b[0m\u001b[0;34m\u001b[0m\u001b[0;34m\u001b[0m\u001b[0m\n\u001b[0;32m----> 2\u001b[0;31m \u001b[0miam\u001b[0m\u001b[0;34m.\u001b[0m\u001b[0mdetach_role_policy\u001b[0m\u001b[0;34m(\u001b[0m\u001b[0mRoleName\u001b[0m\u001b[0;34m=\u001b[0m\u001b[0mIAM_ROLE_NAME\u001b[0m\u001b[0;34m,\u001b[0m \u001b[0mPolicyArn\u001b[0m\u001b[0;34m=\u001b[0m\u001b[0;34m\"arn:aws:iam::aws:policy/AmazonS3ReadOnlyAccess\"\u001b[0m\u001b[0;34m)\u001b[0m\u001b[0;34m\u001b[0m\u001b[0;34m\u001b[0m\u001b[0m\n\u001b[0m\u001b[1;32m      3\u001b[0m \u001b[0miam\u001b[0m\u001b[0;34m.\u001b[0m\u001b[0mdelete_role\u001b[0m\u001b[0;34m(\u001b[0m\u001b[0mRoleName\u001b[0m \u001b[0;34m=\u001b[0m \u001b[0mIAM_ROLE_NAME\u001b[0m\u001b[0;34m)\u001b[0m\u001b[0;34m\u001b[0m\u001b[0;34m\u001b[0m\u001b[0m\n",
      "\u001b[0;32m~/anaconda3/lib/python3.7/site-packages/botocore/client.py\u001b[0m in \u001b[0;36m_api_call\u001b[0;34m(self, *args, **kwargs)\u001b[0m\n\u001b[1;32m    355\u001b[0m                     \"%s() only accepts keyword arguments.\" % py_operation_name)\n\u001b[1;32m    356\u001b[0m             \u001b[0;31m# The \"self\" in this scope is referring to the BaseClient.\u001b[0m\u001b[0;34m\u001b[0m\u001b[0;34m\u001b[0m\u001b[0;34m\u001b[0m\u001b[0m\n\u001b[0;32m--> 357\u001b[0;31m             \u001b[0;32mreturn\u001b[0m \u001b[0mself\u001b[0m\u001b[0;34m.\u001b[0m\u001b[0m_make_api_call\u001b[0m\u001b[0;34m(\u001b[0m\u001b[0moperation_name\u001b[0m\u001b[0;34m,\u001b[0m \u001b[0mkwargs\u001b[0m\u001b[0;34m)\u001b[0m\u001b[0;34m\u001b[0m\u001b[0;34m\u001b[0m\u001b[0m\n\u001b[0m\u001b[1;32m    358\u001b[0m \u001b[0;34m\u001b[0m\u001b[0m\n\u001b[1;32m    359\u001b[0m         \u001b[0m_api_call\u001b[0m\u001b[0;34m.\u001b[0m\u001b[0m__name__\u001b[0m \u001b[0;34m=\u001b[0m \u001b[0mstr\u001b[0m\u001b[0;34m(\u001b[0m\u001b[0mpy_operation_name\u001b[0m\u001b[0;34m)\u001b[0m\u001b[0;34m\u001b[0m\u001b[0;34m\u001b[0m\u001b[0m\n",
      "\u001b[0;32m~/anaconda3/lib/python3.7/site-packages/botocore/client.py\u001b[0m in \u001b[0;36m_make_api_call\u001b[0;34m(self, operation_name, api_params)\u001b[0m\n\u001b[1;32m    659\u001b[0m             \u001b[0merror_code\u001b[0m \u001b[0;34m=\u001b[0m \u001b[0mparsed_response\u001b[0m\u001b[0;34m.\u001b[0m\u001b[0mget\u001b[0m\u001b[0;34m(\u001b[0m\u001b[0;34m\"Error\"\u001b[0m\u001b[0;34m,\u001b[0m \u001b[0;34m{\u001b[0m\u001b[0;34m}\u001b[0m\u001b[0;34m)\u001b[0m\u001b[0;34m.\u001b[0m\u001b[0mget\u001b[0m\u001b[0;34m(\u001b[0m\u001b[0;34m\"Code\"\u001b[0m\u001b[0;34m)\u001b[0m\u001b[0;34m\u001b[0m\u001b[0;34m\u001b[0m\u001b[0m\n\u001b[1;32m    660\u001b[0m             \u001b[0merror_class\u001b[0m \u001b[0;34m=\u001b[0m \u001b[0mself\u001b[0m\u001b[0;34m.\u001b[0m\u001b[0mexceptions\u001b[0m\u001b[0;34m.\u001b[0m\u001b[0mfrom_code\u001b[0m\u001b[0;34m(\u001b[0m\u001b[0merror_code\u001b[0m\u001b[0;34m)\u001b[0m\u001b[0;34m\u001b[0m\u001b[0;34m\u001b[0m\u001b[0m\n\u001b[0;32m--> 661\u001b[0;31m             \u001b[0;32mraise\u001b[0m \u001b[0merror_class\u001b[0m\u001b[0;34m(\u001b[0m\u001b[0mparsed_response\u001b[0m\u001b[0;34m,\u001b[0m \u001b[0moperation_name\u001b[0m\u001b[0;34m)\u001b[0m\u001b[0;34m\u001b[0m\u001b[0;34m\u001b[0m\u001b[0m\n\u001b[0m\u001b[1;32m    662\u001b[0m         \u001b[0;32melse\u001b[0m\u001b[0;34m:\u001b[0m\u001b[0;34m\u001b[0m\u001b[0;34m\u001b[0m\u001b[0m\n\u001b[1;32m    663\u001b[0m             \u001b[0;32mreturn\u001b[0m \u001b[0mparsed_response\u001b[0m\u001b[0;34m\u001b[0m\u001b[0;34m\u001b[0m\u001b[0m\n",
      "\u001b[0;31mNoSuchEntityException\u001b[0m: An error occurred (NoSuchEntity) when calling the DetachRolePolicy operation: The role with name dwhRole cannot be found."
     ]
    }
   ],
   "source": [
    "# Delete IAM role\n",
    "iam.detach_role_policy(RoleName=IAM_ROLE_NAME, PolicyArn=\"arn:aws:iam::aws:policy/AmazonS3ReadOnlyAccess\")\n",
    "iam.delete_role(RoleName = IAM_ROLE_NAME)"
   ]
  },
  {
   "cell_type": "markdown",
   "metadata": {},
   "source": [
    "## RedShift Interface"
   ]
  },
  {
   "cell_type": "code",
   "execution_count": 56,
   "metadata": {},
   "outputs": [],
   "source": [
    "try:\n",
    "    conn = psycopg2.connect(\"host={} dbname={} user={} password={} port={}\".format(HOST,DB_NAME,DB_USER,DB_PASSWORD,DB_PORT))\n",
    "    cur = conn.cursor()\n",
    "    conn.set_session(autocommit=True)\n",
    "except psycopg2.Error as e: \n",
    "    print(e)"
   ]
  },
  {
   "cell_type": "code",
   "execution_count": 58,
   "metadata": {},
   "outputs": [
    {
     "name": "stdout",
     "output_type": "stream",
     "text": [
      "[(100, 4, 100432, datetime.datetime(2019, 6, 15, 3, 42, 0, 87388), 12167, 91, 's3://udacity-dend/song-data/C/A/R/TRCARJQ128F425A389.json                                                                                                                                                                                                       ', 1, 'artist_name                                                                                                                    ', 'varchar   ', '256       ', 0, '{\"song_id\": \"SOLAUEC12A8AE476BB\", \"num_songs\": 1, \"title\": \"Medication\", \"artist_name\": \"Spiritualized;Jason;Jason - Dulcimer/;Kate Radley - Vox continental/Farfisa/Tones/Drones/Tremeloes/;Sean Cook - Wha-monica/;Mark Refoy;Jon Mattock;Icon Hunt;Stuart Gordon;Balanescu Quartet;Rico;Rico - Tam Tam/;Bammie;Tim Sanders;Roddy Lorimar;Steve Sidwell;Chris Sharrack;Caroline Crawley;Marilyn McFarlane;Helen White\", \"artist_latitude\": null, \"year\": 0, \"duration\": 498.72934, \"artist_id\": \"ARVHQMD1269FB25AE7\", \"artist_longitude\": null, \"artist_location\": \"\"}                                                                                                                                                                                                                                                                                                                                                                                                                                                                                        ', '                                                                                                                                                                                                                                                                                                                                                                                                                                                                                                                                                                                                                                                                                                                                                                                                                                                                                                                                                                                                                                                                ', 1204, 'String length exceeds DDL length                                                                    '), (100, 4, 100498, datetime.datetime(2019, 6, 15, 4, 35, 41, 61796), 16097, 428, 's3://udacity-dend/song-data/B/K/O/TRBKOTN128F425A38C.json                                                                                                                                                                                                       ', 1, 'artist_name                                                                                                                    ', 'varchar   ', '256       ', 0, '{\"song_id\": \"SOCCKQH12A8AE476C3\", \"num_songs\": 1, \"title\": \"Born Never Asked\", \"artist_name\": \"Spiritualized;Jason;Jason - Dulcimer/;Kate Radley - Vox continental/Farfisa/Tones/Drones/Tremeloes/;Sean Cook - Wha-monica/;Mark Refoy;Jon Mattock;Icon Hunt;Stuart Gordon;Balanescu Quartet;Rico;Rico - Tam Tam/;Bammie;Tim Sanders;Roddy Lorimar;Steve Sidwell;Chris Sharrack;Caroline Crawley;Marilyn McFarlane;Helen White\", \"artist_latitude\": null, \"year\": 0, \"duration\": 125.20444, \"artist_id\": \"ARVHQMD1269FB25AE7\", \"artist_longitude\": null, \"artist_location\": \"\"}                                                                                                                                                                                                                                                                                                                                                                                                                                                                                  ', '                                                                                                                                                                                                                                                                                                                                                                                                                                                                                                                                                                                                                                                                                                                                                                                                                                                                                                                                                                                                                                                                ', 1204, 'String length exceeds DDL length                                                                    '), (100, 5, 100564, datetime.datetime(2019, 6, 15, 4, 48, 57, 361875), 17548, 555, 's3://udacity-dend/song-data/F/R/I/TRFRIXO128F428A233.json                                                                                                                                                                                                       ', 1, 'artist_location                                                                                                                ', 'varchar   ', '256       ', 0, '{\"song_id\": \"SOYFEAR12A8C139481\", \"num_songs\": 1, \"title\": \"Now_ Now\", \"artist_name\": \"St. Vincent\", \"artist_latitude\": 19.40904, \"year\": 0, \"duration\": 267.7024, \"artist_id\": \"AR0JBXL1187FB52810\", \"artist_longitude\": -99.14977, \"artist_location\": \"ORDER &#039;ACTOR&#039; ON INSOUND: <a href=\\\\\\\\\"http://www.insound.com/search/searchmain.jsp?query=st.+vincent+actor\\\\\\\\\" target=\\\\\\\\\"_blank\\\\\\\\\" rel=\\\\\\\\\"nofollow\\\\\\\\\" onmousedown=\\'UntrustedLink.bootstrap($(this), \\\\\\\\\"\\\\\\\\\", event)\\'>http://www.insound.com/search/searchmain.jsp?query=st.+vincent+actor</a>\"}                                                                                                                                                                                                                                                                                                                                                                                                                                                                                                 ', '                                                                                                                                                                                                                                                                                                                                                                                                                                                                                                                                                                                                                                                                                                                                                                                                                                                                                                                                                                                                                                                                ', 1204, 'String length exceeds DDL length                                                                    '), (100, 3, 100432, datetime.datetime(2019, 6, 15, 3, 42, 0, 87388), 12167, 91, 's3://udacity-dend/song-data/B/K/O/TRBKOTN128F425A38C.json                                                                                                                                                                                                       ', 1, 'artist_name                                                                                                                    ', 'varchar   ', '256       ', 0, '{\"song_id\": \"SOCCKQH12A8AE476C3\", \"num_songs\": 1, \"title\": \"Born Never Asked\", \"artist_name\": \"Spiritualized;Jason;Jason - Dulcimer/;Kate Radley - Vox continental/Farfisa/Tones/Drones/Tremeloes/;Sean Cook - Wha-monica/;Mark Refoy;Jon Mattock;Icon Hunt;Stuart Gordon;Balanescu Quartet;Rico;Rico - Tam Tam/;Bammie;Tim Sanders;Roddy Lorimar;Steve Sidwell;Chris Sharrack;Caroline Crawley;Marilyn McFarlane;Helen White\", \"artist_latitude\": null, \"year\": 0, \"duration\": 125.20444, \"artist_id\": \"ARVHQMD1269FB25AE7\", \"artist_longitude\": null, \"artist_location\": \"\"}                                                                                                                                                                                                                                                                                                                                                                                                                                                                                  ', '                                                                                                                                                                                                                                                                                                                                                                                                                                                                                                                                                                                                                                                                                                                                                                                                                                                                                                                                                                                                                                                                ', 1204, 'String length exceeds DDL length                                                                    '), (100, 3, 100498, datetime.datetime(2019, 6, 15, 4, 35, 41, 61796), 16097, 428, 's3://udacity-dend/song-data/C/W/V/TRCWVDW128F425A38A.json                                                                                                                                                                                                       ', 1, 'artist_name                                                                                                                    ', 'varchar   ', '256       ', 0, '{\"song_id\": \"SOORTJE12A8AE476BD\", \"num_songs\": 1, \"title\": \"Electric Phase\", \"artist_name\": \"Spiritualized;Jason;Jason - Dulcimer/;Kate Radley - Vox continental/Farfisa/Tones/Drones/Tremeloes/;Sean Cook - Wha-monica/;Mark Refoy;Jon Mattock;Icon Hunt;Stuart Gordon;Balanescu Quartet;Rico;Rico - Tam Tam/;Bammie;Tim Sanders;Roddy Lorimar;Steve Sidwell;Chris Sharrack;Caroline Crawley;Marilyn McFarlane;Helen White\", \"artist_latitude\": null, \"year\": 0, \"duration\": 93.75302, \"artist_id\": \"ARVHQMD1269FB25AE7\", \"artist_longitude\": null, \"artist_location\": \"\"}                                                                                                                                                                                                                                                                                                                                                                                                                                                                                     ', '                                                                                                                                                                                                                                                                                                                                                                                                                                                                                                                                                                                                                                                                                                                                                                                                                                                                                                                                                                                                                                                                ', 1204, 'String length exceeds DDL length                                                                    '), (100, 2, 100564, datetime.datetime(2019, 6, 15, 4, 48, 57, 361875), 17548, 555, 's3://udacity-dend/song-data/D/M/R/TRDMRMV128F9330FC2.json                                                                                                                                                                                                       ', 1, 'artist_location                                                                                                                ', 'varchar   ', '256       ', 0, '{\"song_id\": \"SORMPUE12AB0182F1F\", \"num_songs\": 1, \"title\": \"The Strangers\", \"artist_name\": \"St. Vincent\", \"artist_latitude\": 19.40904, \"year\": 2009, \"duration\": 244.84526, \"artist_id\": \"AR0JBXL1187FB52810\", \"artist_longitude\": -99.14977, \"artist_location\": \"ORDER &#039;ACTOR&#039; ON INSOUND: <a href=\\\\\\\\\"http://www.insound.com/search/searchmain.jsp?query=st.+vincent+actor\\\\\\\\\" target=\\\\\\\\\"_blank\\\\\\\\\" rel=\\\\\\\\\"nofollow\\\\\\\\\" onmousedown=\\'UntrustedLink.bootstrap($(this), \\\\\\\\\"\\\\\\\\\", event)\\'>http://www.insound.com/search/searchmain.jsp?query=st.+vincent+actor</a>\"}                                                                                                                                                                                                                                                                                                                                                                                                                                                                                        ', '                                                                                                                                                                                                                                                                                                                                                                                                                                                                                                                                                                                                                                                                                                                                                                                                                                                                                                                                                                                                                                                                ', 1204, 'String length exceeds DDL length                                                                    '), (100, 5, 100630, datetime.datetime(2019, 6, 15, 5, 16, 8, 937607), 20469, 756, 's3://udacity-dend/song-data/D/M/R/TRDMRMV128F9330FC2.json                                                                                                                                                                                                       ', 1, 'artist_location                                                                                                                ', 'varchar   ', '256       ', 0, '{\"song_id\": \"SORMPUE12AB0182F1F\", \"num_songs\": 1, \"title\": \"The Strangers\", \"artist_name\": \"St. Vincent\", \"artist_latitude\": 19.40904, \"year\": 2009, \"duration\": 244.84526, \"artist_id\": \"AR0JBXL1187FB52810\", \"artist_longitude\": -99.14977, \"artist_location\": \"ORDER &#039;ACTOR&#039; ON INSOUND: <a href=\\\\\\\\\"http://www.insound.com/search/searchmain.jsp?query=st.+vincent+actor\\\\\\\\\" target=\\\\\\\\\"_blank\\\\\\\\\" rel=\\\\\\\\\"nofollow\\\\\\\\\" onmousedown=\\'UntrustedLink.bootstrap($(this), \\\\\\\\\"\\\\\\\\\", event)\\'>http://www.insound.com/search/searchmain.jsp?query=st.+vincent+actor</a>\"}                                                                                                                                                                                                                                                                                                                                                                                                                                                                                        ', '                                                                                                                                                                                                                                                                                                                                                                                                                                                                                                                                                                                                                                                                                                                                                                                                                                                                                                                                                                                                                                                                ', 1204, 'String length exceeds DDL length                                                                    '), (100, 5, 100696, datetime.datetime(2019, 6, 15, 5, 47, 1, 932163), 23197, 973, 's3://udacity-dend/song-data/D/E/L/TRDELHO128F428F612.json                                                                                                                                                                                                       ', 1, 'artist_location                                                                                                                ', 'varchar   ', '256       ', 0, '{\"song_id\": \"SOZJAHU12A8C139210\", \"num_songs\": 1, \"title\": \"Your Lips Are Red\", \"artist_name\": \"St. Vincent\", \"artist_latitude\": 19.40904, \"year\": 2007, \"duration\": 281.73016, \"artist_id\": \"AR0JBXL1187FB52810\", \"artist_longitude\": -99.14977, \"artist_location\": \"ORDER &#039;ACTOR&#039; ON INSOUND: <a href=\\\\\\\\\"http://www.insound.com/search/searchmain.jsp?query=st.+vincent+actor\\\\\\\\\" target=\\\\\\\\\"_blank\\\\\\\\\" rel=\\\\\\\\\"nofollow\\\\\\\\\" onmousedown=\\'UntrustedLink.bootstrap($(this), \\\\\\\\\"\\\\\\\\\", event)\\'>http://www.insound.com/search/searchmain.jsp?query=st.+vincent+actor</a>\"}                                                                                                                                                                                                                                                                                                                                                                                                                                                                                    ', '                                                                                                                                                                                                                                                                                                                                                                                                                                                                                                                                                                                                                                                                                                                                                                                                                                                                                                                                                                                                                                                                ', 1204, 'String length exceeds DDL length                                                                    '), (100, 2, 100630, datetime.datetime(2019, 6, 15, 5, 16, 8, 937607), 20469, 756, 's3://udacity-dend/song-data/D/E/L/TRDELHO128F428F612.json                                                                                                                                                                                                       ', 1, 'artist_location                                                                                                                ', 'varchar   ', '256       ', 0, '{\"song_id\": \"SOZJAHU12A8C139210\", \"num_songs\": 1, \"title\": \"Your Lips Are Red\", \"artist_name\": \"St. Vincent\", \"artist_latitude\": 19.40904, \"year\": 2007, \"duration\": 281.73016, \"artist_id\": \"AR0JBXL1187FB52810\", \"artist_longitude\": -99.14977, \"artist_location\": \"ORDER &#039;ACTOR&#039; ON INSOUND: <a href=\\\\\\\\\"http://www.insound.com/search/searchmain.jsp?query=st.+vincent+actor\\\\\\\\\" target=\\\\\\\\\"_blank\\\\\\\\\" rel=\\\\\\\\\"nofollow\\\\\\\\\" onmousedown=\\'UntrustedLink.bootstrap($(this), \\\\\\\\\"\\\\\\\\\", event)\\'>http://www.insound.com/search/searchmain.jsp?query=st.+vincent+actor</a>\"}                                                                                                                                                                                                                                                                                                                                                                                                                                                                                    ', '                                                                                                                                                                                                                                                                                                                                                                                                                                                                                                                                                                                                                                                                                                                                                                                                                                                                                                                                                                                                                                                                ', 1204, 'String length exceeds DDL length                                                                    '), (100, 3, 100696, datetime.datetime(2019, 6, 15, 5, 47, 1, 932163), 23197, 973, 's3://udacity-dend/song-data/A/Y/F/TRAYFUW128F428F618.json                                                                                                                                                                                                       ', 1, 'artist_location                                                                                                                ', 'varchar   ', '256       ', 0, '{\"song_id\": \"SORMAXQ12A8C139224\", \"num_songs\": 1, \"title\": \"Landmines\", \"artist_name\": \"St. Vincent\", \"artist_latitude\": 19.40904, \"year\": 2007, \"duration\": 307.53914, \"artist_id\": \"AR0JBXL1187FB52810\", \"artist_longitude\": -99.14977, \"artist_location\": \"ORDER &#039;ACTOR&#039; ON INSOUND: <a href=\\\\\\\\\"http://www.insound.com/search/searchmain.jsp?query=st.+vincent+actor\\\\\\\\\" target=\\\\\\\\\"_blank\\\\\\\\\" rel=\\\\\\\\\"nofollow\\\\\\\\\" onmousedown=\\'UntrustedLink.bootstrap($(this), \\\\\\\\\"\\\\\\\\\", event)\\'>http://www.insound.com/search/searchmain.jsp?query=st.+vincent+actor</a>\"}                                                                                                                                                                                                                                                                                                                                                                                                                                                                                            ', '                                                                                                                                                                                                                                                                                                                                                                                                                                                                                                                                                                                                                                                                                                                                                                                                                                                                                                                                                                                                                                                                ', 1204, 'String length exceeds DDL length                                                                    '), (100, 7, 100432, datetime.datetime(2019, 6, 15, 3, 42, 0, 87388), 12167, 91, 's3://udacity-dend/song-data/A/Y/F/TRAYFUW128F428F618.json                                                                                                                                                                                                       ', 1, 'artist_location                                                                                                                ', 'varchar   ', '256       ', 0, '{\"song_id\": \"SORMAXQ12A8C139224\", \"num_songs\": 1, \"title\": \"Landmines\", \"artist_name\": \"St. Vincent\", \"artist_latitude\": 19.40904, \"year\": 2007, \"duration\": 307.53914, \"artist_id\": \"AR0JBXL1187FB52810\", \"artist_longitude\": -99.14977, \"artist_location\": \"ORDER &#039;ACTOR&#039; ON INSOUND: <a href=\\\\\\\\\"http://www.insound.com/search/searchmain.jsp?query=st.+vincent+actor\\\\\\\\\" target=\\\\\\\\\"_blank\\\\\\\\\" rel=\\\\\\\\\"nofollow\\\\\\\\\" onmousedown=\\'UntrustedLink.bootstrap($(this), \\\\\\\\\"\\\\\\\\\", event)\\'>http://www.insound.com/search/searchmain.jsp?query=st.+vincent+actor</a>\"}                                                                                                                                                                                                                                                                                                                                                                                                                                                                                            ', '                                                                                                                                                                                                                                                                                                                                                                                                                                                                                                                                                                                                                                                                                                                                                                                                                                                                                                                                                                                                                                                                ', 1204, 'String length exceeds DDL length                                                                    '), (100, 7, 100498, datetime.datetime(2019, 6, 15, 4, 35, 41, 61796), 16097, 428, 's3://udacity-dend/song-data/C/A/R/TRCARJQ128F425A389.json                                                                                                                                                                                                       ', 1, 'artist_name                                                                                                                    ', 'varchar   ', '256       ', 0, '{\"song_id\": \"SOLAUEC12A8AE476BB\", \"num_songs\": 1, \"title\": \"Medication\", \"artist_name\": \"Spiritualized;Jason;Jason - Dulcimer/;Kate Radley - Vox continental/Farfisa/Tones/Drones/Tremeloes/;Sean Cook - Wha-monica/;Mark Refoy;Jon Mattock;Icon Hunt;Stuart Gordon;Balanescu Quartet;Rico;Rico - Tam Tam/;Bammie;Tim Sanders;Roddy Lorimar;Steve Sidwell;Chris Sharrack;Caroline Crawley;Marilyn McFarlane;Helen White\", \"artist_latitude\": null, \"year\": 0, \"duration\": 498.72934, \"artist_id\": \"ARVHQMD1269FB25AE7\", \"artist_longitude\": null, \"artist_location\": \"\"}                                                                                                                                                                                                                                                                                                                                                                                                                                                                                        ', '                                                                                                                                                                                                                                                                                                                                                                                                                                                                                                                                                                                                                                                                                                                                                                                                                                                                                                                                                                                                                                                                ', 1204, 'String length exceeds DDL length                                                                    '), (100, 7, 100564, datetime.datetime(2019, 6, 15, 4, 48, 57, 361875), 17548, 555, 's3://udacity-dend/song-data/A/Y/F/TRAYFUW128F428F618.json                                                                                                                                                                                                       ', 1, 'artist_location                                                                                                                ', 'varchar   ', '256       ', 0, '{\"song_id\": \"SORMAXQ12A8C139224\", \"num_songs\": 1, \"title\": \"Landmines\", \"artist_name\": \"St. Vincent\", \"artist_latitude\": 19.40904, \"year\": 2007, \"duration\": 307.53914, \"artist_id\": \"AR0JBXL1187FB52810\", \"artist_longitude\": -99.14977, \"artist_location\": \"ORDER &#039;ACTOR&#039; ON INSOUND: <a href=\\\\\\\\\"http://www.insound.com/search/searchmain.jsp?query=st.+vincent+actor\\\\\\\\\" target=\\\\\\\\\"_blank\\\\\\\\\" rel=\\\\\\\\\"nofollow\\\\\\\\\" onmousedown=\\'UntrustedLink.bootstrap($(this), \\\\\\\\\"\\\\\\\\\", event)\\'>http://www.insound.com/search/searchmain.jsp?query=st.+vincent+actor</a>\"}                                                                                                                                                                                                                                                                                                                                                                                                                                                                                            ', '                                                                                                                                                                                                                                                                                                                                                                                                                                                                                                                                                                                                                                                                                                                                                                                                                                                                                                                                                                                                                                                                ', 1204, 'String length exceeds DDL length                                                                    '), (100, 0, 100432, datetime.datetime(2019, 6, 15, 3, 42, 0, 87388), 12167, 91, 's3://udacity-dend/song-data/C/W/V/TRCWVDW128F425A38A.json                                                                                                                                                                                                       ', 1, 'artist_name                                                                                                                    ', 'varchar   ', '256       ', 0, '{\"song_id\": \"SOORTJE12A8AE476BD\", \"num_songs\": 1, \"title\": \"Electric Phase\", \"artist_name\": \"Spiritualized;Jason;Jason - Dulcimer/;Kate Radley - Vox continental/Farfisa/Tones/Drones/Tremeloes/;Sean Cook - Wha-monica/;Mark Refoy;Jon Mattock;Icon Hunt;Stuart Gordon;Balanescu Quartet;Rico;Rico - Tam Tam/;Bammie;Tim Sanders;Roddy Lorimar;Steve Sidwell;Chris Sharrack;Caroline Crawley;Marilyn McFarlane;Helen White\", \"artist_latitude\": null, \"year\": 0, \"duration\": 93.75302, \"artist_id\": \"ARVHQMD1269FB25AE7\", \"artist_longitude\": null, \"artist_location\": \"\"}                                                                                                                                                                                                                                                                                                                                                                                                                                                                                     ', '                                                                                                                                                                                                                                                                                                                                                                                                                                                                                                                                                                                                                                                                                                                                                                                                                                                                                                                                                                                                                                                                ', 1204, 'String length exceeds DDL length                                                                    '), (100, 0, 100498, datetime.datetime(2019, 6, 15, 4, 35, 41, 61796), 16097, 428, 's3://udacity-dend/song-data/A/Y/F/TRAYFUW128F428F618.json                                                                                                                                                                                                       ', 1, 'artist_location                                                                                                                ', 'varchar   ', '256       ', 0, '{\"song_id\": \"SORMAXQ12A8C139224\", \"num_songs\": 1, \"title\": \"Landmines\", \"artist_name\": \"St. Vincent\", \"artist_latitude\": 19.40904, \"year\": 2007, \"duration\": 307.53914, \"artist_id\": \"AR0JBXL1187FB52810\", \"artist_longitude\": -99.14977, \"artist_location\": \"ORDER &#039;ACTOR&#039; ON INSOUND: <a href=\\\\\\\\\"http://www.insound.com/search/searchmain.jsp?query=st.+vincent+actor\\\\\\\\\" target=\\\\\\\\\"_blank\\\\\\\\\" rel=\\\\\\\\\"nofollow\\\\\\\\\" onmousedown=\\'UntrustedLink.bootstrap($(this), \\\\\\\\\"\\\\\\\\\", event)\\'>http://www.insound.com/search/searchmain.jsp?query=st.+vincent+actor</a>\"}                                                                                                                                                                                                                                                                                                                                                                                                                                                                                            ', '                                                                                                                                                                                                                                                                                                                                                                                                                                                                                                                                                                                                                                                                                                                                                                                                                                                                                                                                                                                                                                                                ', 1204, 'String length exceeds DDL length                                                                    '), (100, 1, 100564, datetime.datetime(2019, 6, 15, 4, 48, 57, 361875), 17548, 555, 's3://udacity-dend/song-data/D/E/L/TRDELHO128F428F612.json                                                                                                                                                                                                       ', 1, 'artist_location                                                                                                                ', 'varchar   ', '256       ', 0, '{\"song_id\": \"SOZJAHU12A8C139210\", \"num_songs\": 1, \"title\": \"Your Lips Are Red\", \"artist_name\": \"St. Vincent\", \"artist_latitude\": 19.40904, \"year\": 2007, \"duration\": 281.73016, \"artist_id\": \"AR0JBXL1187FB52810\", \"artist_longitude\": -99.14977, \"artist_location\": \"ORDER &#039;ACTOR&#039; ON INSOUND: <a href=\\\\\\\\\"http://www.insound.com/search/searchmain.jsp?query=st.+vincent+actor\\\\\\\\\" target=\\\\\\\\\"_blank\\\\\\\\\" rel=\\\\\\\\\"nofollow\\\\\\\\\" onmousedown=\\'UntrustedLink.bootstrap($(this), \\\\\\\\\"\\\\\\\\\", event)\\'>http://www.insound.com/search/searchmain.jsp?query=st.+vincent+actor</a>\"}                                                                                                                                                                                                                                                                                                                                                                                                                                                                                    ', '                                                                                                                                                                                                                                                                                                                                                                                                                                                                                                                                                                                                                                                                                                                                                                                                                                                                                                                                                                                                                                                                ', 1204, 'String length exceeds DDL length                                                                    '), (100, 0, 100630, datetime.datetime(2019, 6, 15, 5, 16, 8, 937607), 20469, 756, 's3://udacity-dend/song-data/A/Y/F/TRAYFUW128F428F618.json                                                                                                                                                                                                       ', 1, 'artist_location                                                                                                                ', 'varchar   ', '256       ', 0, '{\"song_id\": \"SORMAXQ12A8C139224\", \"num_songs\": 1, \"title\": \"Landmines\", \"artist_name\": \"St. Vincent\", \"artist_latitude\": 19.40904, \"year\": 2007, \"duration\": 307.53914, \"artist_id\": \"AR0JBXL1187FB52810\", \"artist_longitude\": -99.14977, \"artist_location\": \"ORDER &#039;ACTOR&#039; ON INSOUND: <a href=\\\\\\\\\"http://www.insound.com/search/searchmain.jsp?query=st.+vincent+actor\\\\\\\\\" target=\\\\\\\\\"_blank\\\\\\\\\" rel=\\\\\\\\\"nofollow\\\\\\\\\" onmousedown=\\'UntrustedLink.bootstrap($(this), \\\\\\\\\"\\\\\\\\\", event)\\'>http://www.insound.com/search/searchmain.jsp?query=st.+vincent+actor</a>\"}                                                                                                                                                                                                                                                                                                                                                                                                                                                                                            ', '                                                                                                                                                                                                                                                                                                                                                                                                                                                                                                                                                                                                                                                                                                                                                                                                                                                                                                                                                                                                                                                                ', 1204, 'String length exceeds DDL length                                                                    '), (100, 1, 100696, datetime.datetime(2019, 6, 15, 5, 47, 1, 932163), 23197, 973, 's3://udacity-dend/song-data/F/R/I/TRFRIXO128F428A233.json                                                                                                                                                                                                       ', 1, 'artist_location                                                                                                                ', 'varchar   ', '256       ', 0, '{\"song_id\": \"SOYFEAR12A8C139481\", \"num_songs\": 1, \"title\": \"Now_ Now\", \"artist_name\": \"St. Vincent\", \"artist_latitude\": 19.40904, \"year\": 0, \"duration\": 267.7024, \"artist_id\": \"AR0JBXL1187FB52810\", \"artist_longitude\": -99.14977, \"artist_location\": \"ORDER &#039;ACTOR&#039; ON INSOUND: <a href=\\\\\\\\\"http://www.insound.com/search/searchmain.jsp?query=st.+vincent+actor\\\\\\\\\" target=\\\\\\\\\"_blank\\\\\\\\\" rel=\\\\\\\\\"nofollow\\\\\\\\\" onmousedown=\\'UntrustedLink.bootstrap($(this), \\\\\\\\\"\\\\\\\\\", event)\\'>http://www.insound.com/search/searchmain.jsp?query=st.+vincent+actor</a>\"}                                                                                                                                                                                                                                                                                                                                                                                                                                                                                                 ', '                                                                                                                                                                                                                                                                                                                                                                                                                                                                                                                                                                                                                                                                                                                                                                                                                                                                                                                                                                                                                                                                ', 1204, 'String length exceeds DDL length                                                                    '), (100, 6, 100630, datetime.datetime(2019, 6, 15, 5, 16, 8, 937607), 20469, 756, 's3://udacity-dend/song-data/F/R/I/TRFRIXO128F428A233.json                                                                                                                                                                                                       ', 1, 'artist_location                                                                                                                ', 'varchar   ', '256       ', 0, '{\"song_id\": \"SOYFEAR12A8C139481\", \"num_songs\": 1, \"title\": \"Now_ Now\", \"artist_name\": \"St. Vincent\", \"artist_latitude\": 19.40904, \"year\": 0, \"duration\": 267.7024, \"artist_id\": \"AR0JBXL1187FB52810\", \"artist_longitude\": -99.14977, \"artist_location\": \"ORDER &#039;ACTOR&#039; ON INSOUND: <a href=\\\\\\\\\"http://www.insound.com/search/searchmain.jsp?query=st.+vincent+actor\\\\\\\\\" target=\\\\\\\\\"_blank\\\\\\\\\" rel=\\\\\\\\\"nofollow\\\\\\\\\" onmousedown=\\'UntrustedLink.bootstrap($(this), \\\\\\\\\"\\\\\\\\\", event)\\'>http://www.insound.com/search/searchmain.jsp?query=st.+vincent+actor</a>\"}                                                                                                                                                                                                                                                                                                                                                                                                                                                                                                 ', '                                                                                                                                                                                                                                                                                                                                                                                                                                                                                                                                                                                                                                                                                                                                                                                                                                                                                                                                                                                                                                                                ', 1204, 'String length exceeds DDL length                                                                    '), (100, 6, 100696, datetime.datetime(2019, 6, 15, 5, 47, 1, 932163), 23197, 973, 's3://udacity-dend/song-data/D/M/R/TRDMRMV128F9330FC2.json                                                                                                                                                                                                       ', 1, 'artist_location                                                                                                                ', 'varchar   ', '256       ', 0, '{\"song_id\": \"SORMPUE12AB0182F1F\", \"num_songs\": 1, \"title\": \"The Strangers\", \"artist_name\": \"St. Vincent\", \"artist_latitude\": 19.40904, \"year\": 2009, \"duration\": 244.84526, \"artist_id\": \"AR0JBXL1187FB52810\", \"artist_longitude\": -99.14977, \"artist_location\": \"ORDER &#039;ACTOR&#039; ON INSOUND: <a href=\\\\\\\\\"http://www.insound.com/search/searchmain.jsp?query=st.+vincent+actor\\\\\\\\\" target=\\\\\\\\\"_blank\\\\\\\\\" rel=\\\\\\\\\"nofollow\\\\\\\\\" onmousedown=\\'UntrustedLink.bootstrap($(this), \\\\\\\\\"\\\\\\\\\", event)\\'>http://www.insound.com/search/searchmain.jsp?query=st.+vincent+actor</a>\"}                                                                                                                                                                                                                                                                                                                                                                                                                                                                                        ', '                                                                                                                                                                                                                                                                                                                                                                                                                                                                                                                                                                                                                                                                                                                                                                                                                                                                                                                                                                                                                                                                ', 1204, 'String length exceeds DDL length                                                                    ')]\n"
     ]
    }
   ],
   "source": [
    "query = \"SELECT * FROM stl_load_errors\"\n",
    "cur.execute(query)\n",
    "row = cur.fetchall()\n",
    "print(row)"
   ]
  },
  {
   "cell_type": "markdown",
   "metadata": {},
   "source": [
    "**Roll UP** How many Songs is played in each month in 2018?"
   ]
  },
  {
   "cell_type": "code",
   "execution_count": null,
   "metadata": {},
   "outputs": [],
   "source": [
    "query = \"\"\"\n",
    "SELECT COUNT(*)\n",
    "FROM songPlay p JOIN dimTime t ON p.start_date = t.start_date\n",
    "GROUP BY t.month\n",
    "having t.year = 2018\n",
    "LIMIT 10\"\"\"\n",
    "\n",
    "cur.execute(query)\n",
    "row = cur.fetchall()\n",
    "print(row)"
   ]
  },
  {
   "cell_type": "markdown",
   "metadata": {},
   "source": [
    "**Drill Down** How many song is played in 2018 July's each week?"
   ]
  },
  {
   "cell_type": "code",
   "execution_count": null,
   "metadata": {},
   "outputs": [],
   "source": [
    "query = \"\"\"\n",
    "SELECT COUNT(*)\n",
    "FROM songPlay p JOIN dimTime t ON p.start_date = t.start_date\n",
    "GROUP BY t.week\n",
    "HAVING t.year = 2018 AND t.month = 7\n",
    "LIMIT 10\"\"\"\n",
    "cur.execute(query)\n",
    "row = cur.fetchall()\n",
    "print(row)"
   ]
  },
  {
   "cell_type": "markdown",
   "metadata": {},
   "source": [
    "**Slicing** How many femals are free users?"
   ]
  },
  {
   "cell_type": "code",
   "execution_count": null,
   "metadata": {},
   "outputs": [],
   "source": [
    "query = \"\"\"\n",
    "SELECT COUNT(*)\n",
    "FROM songPlay p JOIN dimUser u ON p.user_id = u.user_id\n",
    "WHERE u.gender = 'M' AND u.level = 'free'\n",
    "LIMIT 10\"\"\"\n",
    "cur.execute(query)\n",
    "row = cur.fetchall()\n",
    "print(row)"
   ]
  },
  {
   "cell_type": "markdown",
   "metadata": {},
   "source": [
    "**Dicing** Which song has been listened the most times during Summer(June - August)?"
   ]
  },
  {
   "cell_type": "code",
   "execution_count": null,
   "metadata": {},
   "outputs": [],
   "source": [
    "query = \"\"\"\n",
    "SELECT COUNT(*)\n",
    "FROM songPlay p JOIN dimTime t ON p.start_date = t.start_date\n",
    "GROUP BY p.song_id\n",
    "HAVING t.month in (6,7,8)\n",
    "LIMIT 10\"\"\"\n",
    "cur.execute(query)\n",
    "row = cur.fetchall()\n",
    "print(row)"
   ]
  },
  {
   "cell_type": "code",
   "execution_count": null,
   "metadata": {},
   "outputs": [],
   "source": []
  }
 ],
 "metadata": {
  "kernelspec": {
   "display_name": "Python 3",
   "language": "python",
   "name": "python3"
  },
  "language_info": {
   "codemirror_mode": {
    "name": "ipython",
    "version": 3
   },
   "file_extension": ".py",
   "mimetype": "text/x-python",
   "name": "python",
   "nbconvert_exporter": "python",
   "pygments_lexer": "ipython3",
   "version": "3.7.3"
  }
 },
 "nbformat": 4,
 "nbformat_minor": 2
}
